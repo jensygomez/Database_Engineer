{
 "cells": [
  {
   "cell_type": "markdown",
   "metadata": {},
   "source": [
    "**Author:**       Jensy Gregorio Gómez \n",
    "---------------------------------------\n",
    "**Profession:**  IT Support Analyst and Automatation with Python\n",
    "\n",
    "**Date:**         15 March 2024     \n",
    "\n",
    "**Resolved** 01 April 2024 --> 05 April 2024 --> 7 April 2024 --> 19 April\n",
    "\n",
    "**Location:**     Vila Izabel, Curitiba/PR  \n",
    "\n",
    "\n",
    "---\n",
    "\n",
    "**Contacto:**\n",
    "\n",
    "- **Email:** [contact@jensygomez.us](mailto:contact@jensygomez.us)\n",
    "- **YouTube:** [Tu Canal de YouTube](https://www.youtube.com/@systechcwb826)\n",
    "- **LinkedIn:** [Tu Perfil de LinkedIn](https://www.linkedin.com/in/jensygomez/)\n",
    "\n",
    "\n"
   ]
  },
  {
   "cell_type": "code",
   "execution_count": 6,
   "metadata": {},
   "outputs": [
    {
     "name": "stdout",
     "output_type": "stream",
     "text": [
      "Conexión exitosa\n",
      "Puedes ejecutar comandos SQL en bloques adicionales.\n"
     ]
    }
   ],
   "source": [
    "import mysql.connector\n",
    "\n",
    "def conectar_base_datos():\n",
    "    try:\n",
    "        # Conectar a la base de datos\n",
    "        connection = mysql.connector.connect(\n",
    "            host=\"localhost\",\n",
    "            user=\"root\",\n",
    "            password=\"\",\n",
    "            database=\"Course_db\"\n",
    "        )\n",
    "        print(\"Conexión exitosa\")\n",
    "        return connection\n",
    "    except mysql.connector.Error as error:\n",
    "        print(\"Error al conectar a la base de datos:\", error)\n",
    "        return None\n",
    "\n",
    "def ejecutar_sql(connection, sql_query):\n",
    "    try:\n",
    "        # Crear un cursor para ejecutar consultas SQL\n",
    "        cursor = connection.cursor()\n",
    "\n",
    "        # Ejecutar el comando SQL\n",
    "        cursor.execute(sql_query)\n",
    "\n",
    "        # Confirmar la ejecución si es necesario\n",
    "        connection.commit()\n",
    "\n",
    "        # Cerrar el cursor\n",
    "        cursor.close()\n",
    "\n",
    "        print(\"Comando SQL ejecutado exitosamente\")\n",
    "    except mysql.connector.Error as error:\n",
    "        print(\"Error al ejecutar el comando SQL:\", error)\n",
    "\n",
    "# Ejemplo de uso\n",
    "connection = conectar_base_datos()\n",
    "if connection:\n",
    "    # Definir función para ejecutar comandos SQL\n",
    "    def ejecutar_comando_sql(sql_query):\n",
    "        ejecutar_sql(connection, sql_query)\n",
    "\n",
    "    print(\"Puedes ejecutar comandos SQL en bloques adicionales.\")\n",
    "else:\n",
    "    print(\"No se pudo establecer la conexión con la base de datos.\")\n",
    "\n"
   ]
  },
  {
   "cell_type": "code",
   "execution_count": 7,
   "metadata": {},
   "outputs": [
    {
     "name": "stdout",
     "output_type": "stream",
     "text": [
      "Comando SQL ejecutado exitosamente\n"
     ]
    }
   ],
   "source": [
    "# Ejecutar comandos SQL\n",
    "sql_query = \"\"\"\n",
    "    CREATE TABLE nombres (\n",
    "        ID INT PRIMARY KEY,\n",
    "        Nombre VARCHAR(50),\n",
    "        Edad INT\n",
    "    )\n",
    "\"\"\"\n",
    "ejecutar_comando_sql(sql_query)\n",
    "\n",
    "# Puedes seguir ejecutando más comandos SQL aquí si lo deseas\n",
    "\n"
   ]
  },
  {
   "cell_type": "code",
   "execution_count": 8,
   "metadata": {},
   "outputs": [],
   "source": [
    "connection.close()"
   ]
  }
 ],
 "metadata": {
  "kernelspec": {
   "display_name": "Python 3 (ipykernel)",
   "language": "python",
   "name": "python3"
  },
  "language_info": {
   "codemirror_mode": {
    "name": "ipython",
    "version": 3
   },
   "file_extension": ".py",
   "mimetype": "text/x-python",
   "name": "python",
   "nbconvert_exporter": "python",
   "pygments_lexer": "ipython3",
   "version": "3.11.7"
  }
 },
 "nbformat": 4,
 "nbformat_minor": 4
}
