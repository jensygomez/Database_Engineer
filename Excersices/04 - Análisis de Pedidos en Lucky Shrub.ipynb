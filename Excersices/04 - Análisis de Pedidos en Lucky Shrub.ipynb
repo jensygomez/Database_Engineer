{
 "cells": [
  {
   "cell_type": "markdown",
   "metadata": {},
   "source": [
    "**Author:**       Jensy Gregorio Gómez \n",
    "---------------------------------------\n",
    "**Profession:**  IT Support Analyst and Automatation with Python\n",
    "\n",
    "**Date:**         01 Jun 2024     \n",
    "\n",
    "**Modified**  07 Junio 2024\n",
    "\n",
    "**Location:**     Vila Izabel, Curitiba/PR  \n",
    "\n",
    "\n",
    "---\n",
    "\n",
    "**Contacto:**\n",
    "\n",
    "- **Email:** [contact@jensygomez.us](mailto:contact@jensygomez.us)\n",
    "- **YouTube:** [Tu Canal de YouTube](https://www.youtube.com/@systechcwb826)\n",
    "- **LinkedIn:** [Tu Perfil de LinkedIn](https://www.linkedin.com/in/jensygomez/)\n",
    "\n",
    "\n"
   ]
  },
  {
   "cell_type": "markdown",
   "metadata": {},
   "source": [
    "\n",
    "### Escenario: Análisis de Pedidos en Lucky Shrub\n",
    "\n",
    "En Lucky Shrub, una tienda de jardinería y mejoras para el hogar, queremos analizar los datos de los pedidos para obtener información valiosa sobre las ventas y el rendimiento de los diferentes departamentos. Para ello, utilizaremos una base de datos en MySQL que contendrá una tabla `orders` con los datos de los pedidos. Luego, realizaremos varias consultas utilizando la cláusula `GROUP BY` y funciones de agregación con alias para simplificar los resultados."
   ]
  },
  {
   "cell_type": "code",
   "execution_count": null,
   "metadata": {
    "vscode": {
     "languageId": "sql"
    }
   },
   "outputs": [],
   "source": [
    "-- Crear la base de datos LuckyShrub\n",
    "CREATE DATABASE LuckyShrub;\n",
    "\n",
    "-- Seleccionar la base de datos LuckyShrub para su uso\n",
    "USE LuckyShrub;\n",
    "\n",
    "-- Crear la tabla orders\n",
    "CREATE TABLE orders (\n",
    "    OrderID INT PRIMARY KEY,\n",
    "    Department VARCHAR(50),\n",
    "    OrderDate DATE,\n",
    "    OrderQuantity INT,\n",
    "    OrderTotal DECIMAL(10, 2)\n",
    ");\n",
    "\n",
    "-- Insertar valores en la tabla orders\n",
    "INSERT INTO orders (OrderID, Department, OrderDate, OrderQuantity, OrderTotal) VALUES\n",
    "(1, 'Lawn Care', '2023-01-15', 5, 150.00),\n",
    "(2, 'Decking', '2023-01-20', 10, 300.00),\n",
    "(3, 'Lawn Care', '2023-02-10', 3, 90.00),\n",
    "(4, 'Furniture', '2023-02-15', 2, 200.00),\n",
    "(5, 'Decking', '2023-03-01', 8, 240.00),\n",
    "(6, 'Lawn Care', '2023-03-05', 7, 210.00),\n",
    "(7, 'Furniture', '2023-03-10', 1, 100.00),\n",
    "(8, 'Garden Tools', '2023-03-15', 4, 120.00),\n",
    "(9, 'Decking', '2023-03-20', 5, 150.00),\n",
    "(10, 'Garden Tools', '2023-03-25', 6, 180.00);\n",
    "\n",
    "-- Listar los departamentos únicos con alias\n",
    "SELECT Department AS Dept\n",
    "FROM orders\n",
    "GROUP BY Dept;\n",
    "\n",
    "-- Contar el número de órdenes por departamento con alias\n",
    "SELECT Department AS Dept, COUNT(*) AS NumberOfOrders\n",
    "FROM orders\n",
    "GROUP BY Dept;\n",
    "\n",
    "-- Sumar el total de ventas por departamento con alias\n",
    "SELECT Department AS Dept, SUM(OrderTotal) AS TotalSales\n",
    "FROM orders\n",
    "GROUP BY Dept;\n",
    "\n",
    "-- Encontrar la cantidad mínima de pedidos por departamento con alias\n",
    "SELECT Department AS Dept, MIN(OrderQuantity) AS MinOrderQty\n",
    "FROM orders\n",
    "GROUP BY Dept;\n",
    "\n",
    "-- Calcular el promedio del total de las órdenes por departamento con alias\n",
    "SELECT Department AS Dept, AVG(OrderTotal) AS AvgOrderTotal\n",
    "FROM orders\n",
    "GROUP BY Dept;\n"
   ]
  }
 ],
 "metadata": {
  "kernelspec": {
   "display_name": "Python 3 (ipykernel)",
   "language": "python",
   "name": "python3"
  },
  "language_info": {
   "codemirror_mode": {
    "name": "ipython",
    "version": 3
   },
   "file_extension": ".py",
   "mimetype": "text/x-python",
   "name": "python",
   "nbconvert_exporter": "python",
   "pygments_lexer": "ipython3",
   "version": "3.11.7"
  }
 },
 "nbformat": 4,
 "nbformat_minor": 2
}
