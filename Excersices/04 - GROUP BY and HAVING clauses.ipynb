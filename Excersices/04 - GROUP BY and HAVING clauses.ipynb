{
 "cells": [
  {
   "cell_type": "markdown",
   "metadata": {},
   "source": [
    "**Author:**       Jensy Gregorio Gómez \n",
    "---------------------------------------\n",
    "**Profession:**  IT Support Analyst | NOC | Database Administrator\n",
    "\n",
    "**Date:**         20 Junio 2024    \n",
    "\n",
    "**Modified**  23 Junio 2024 --> 27 Junio 2024\n",
    "\n",
    "**Location:**     Vila Izabel, Curitiba/PR  \n",
    "\n",
    "\n",
    "---\n",
    "\n",
    "**Contacto:**\n",
    "\n",
    "- **Email:** [contact@jensygomez.us](mailto:contact@jensygomez.us)\n",
    "- **YouTube:** [Tu Canal de YouTube](https://www.youtube.com/@systechcwb826)\n",
    "- **LinkedIn:** [Tu Perfil de LinkedIn](https://www.linkedin.com/in/jensygomez/)\n",
    "\n",
    "\n"
   ]
  },
  {
   "cell_type": "markdown",
   "metadata": {},
   "source": [
    "### Ejercicio: Consulta de Equipos y Promedio de Edades de Jugadores\n",
    "\n",
    "**Descripción del ejercicio:**\n",
    "Queremos obtener el nombre de cada equipo junto con el promedio de edades de sus jugadores, pero solo para aquellos equipos cuyo promedio de edades sea mayor que 25 años."
   ]
  },
  {
   "cell_type": "code",
   "execution_count": null,
   "metadata": {
    "vscode": {
     "languageId": "sql"
    }
   },
   "outputs": [],
   "source": [
    "-- Paso 1: Seleccionar el nombre del equipo y calcular el promedio de edades de los jugadores\n",
    "SELECT\n",
    "    -- Selecciona el nombre del equipo y lo asigna al alias 'NombreEquipo'\n",
    "    Equipos.nombre AS NombreEquipo, \n",
    "    -- Concatenar el promedio de edades redondeado con la palabra 'años'\n",
    "    CONCAT( \n",
    "        -- Calcular el promedio de edades y redondearlo al número entero más cercano\n",
    "        ROUND(AVG(YEAR(CURRENT_DATE) - YEAR(Jugadores.fecha_nacimiento)), 0), \n",
    "        -- Cadena que se va a concatenar al promedio de edades\n",
    "        ' años' \n",
    "     -- Asigna el resultado al alias 'PromedioEdades'\n",
    "    ) AS PromedioEdades\n",
    "FROM \n",
    "    -- Tabla 'Equipos'\n",
    "    Equipos \n",
    "    -- Unir la tabla 'Equipos' con la tabla 'Jugadores' usando el campo 'equipo_id'\n",
    "    JOIN Jugadores ON Equipos.id = Jugadores.equipo_id \n",
    "GROUP BY\n",
    "    -- Agrupar los resultados por el nombre del equipo\n",
    "    Equipos.nombre \n",
    "HAVING\n",
    "    -- Filtrar los equipos cuyo promedio de edades sea mayor que 25 años\n",
    "    AVG(YEAR(CURRENT_DATE) - YEAR(Jugadores.fecha_nacimiento)) > 25; \n"
   ]
  },
  {
   "cell_type": "markdown",
   "metadata": {},
   "source": [
    "**Explicación paso a paso:**\n",
    "\n",
    "1. **Selección de columnas:**\n",
    "   - `Equipos.nombre AS NombreEquipo`: Alias para el nombre del equipo.\n",
    "   - `CONCAT(ROUND(AVG(YEAR(CURRENT_DATE) - YEAR(Jugadores.fecha_nacimiento)), 0), ' años') AS PromedioEdades`: Calculamos el promedio de edades de los jugadores, redondeamos el valor al número entero más cercano y concatenamos la palabra 'años'.\n",
    "\n",
    "2. **Tablas y joins:**\n",
    "   - `Equipos JOIN Jugadores ON Equipos.id = Jugadores.equipo_id`: Unimos la tabla `Equipos` con `Jugadores` utilizando la clave `equipo_id`.\n",
    "\n",
    "3. **Agrupación:**\n",
    "   - `GROUP BY Equipos.nombre`: Agrupamos los resultados por el nombre del equipo para obtener un resultado por equipo.\n",
    "\n",
    "4. **Filtrado con HAVING:**\n",
    "   - `HAVING AVG(YEAR(CURRENT_DATE) - YEAR(Jugadores.fecha_nacimiento)) > 25`: Utilizamos `HAVING` para filtrar los resultados y mostrar solo aquellos equipos cuyo promedio de edades sea mayor que 25 años.\n",
    "\n",
    "### Notas adicionales:\n",
    "- Este ejercicio te permite practicar el uso de alias para dar nombres más descriptivos a las columnas y funciones agregadas (`AVG` en este caso).\n",
    "- Utiliza las cláusulas `GROUP BY` y `HAVING` de manera efectiva para agrupar datos y aplicar condiciones de filtrado sobre los resultados agrupados.\n",
    "- Asegúrate de entender cómo se calcula el promedio de edades utilizando la función `AVG`, la manipulación de fechas con `YEAR`, y el redondeo con `ROUND`.\n",
    "- La función `CONCAT` se utiliza para combinar el valor numérico del promedio de edades redondeado con la cadena 'años', proporcionando una salida más legible."
   ]
  }
 ],
 "metadata": {
  "kernelspec": {
   "display_name": "Python 3 (ipykernel)",
   "language": "python",
   "name": "python3"
  },
  "language_info": {
   "codemirror_mode": {
    "name": "ipython",
    "version": 3
   },
   "file_extension": ".py",
   "mimetype": "text/x-python",
   "name": "python",
   "nbconvert_exporter": "python",
   "pygments_lexer": "ipython3",
   "version": "3.10.12"
  }
 },
 "nbformat": 4,
 "nbformat_minor": 2
}
