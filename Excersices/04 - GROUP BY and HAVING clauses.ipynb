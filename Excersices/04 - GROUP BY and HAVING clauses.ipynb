{
 "cells": [
  {
   "cell_type": "markdown",
   "metadata": {},
   "source": [
    "**Author:**       Jensy Gregorio Gómez \n",
    "---------------------------------------\n",
    "**Profession:**  IT Support Analyst | NOC | Database Administrator\n",
    "\n",
    "**Date:**         20 Junio 2024    \n",
    "\n",
    "**Modified**  \n",
    "\n",
    "**Location:**     Vila Izabel, Curitiba/PR  \n",
    "\n",
    "\n",
    "---\n",
    "\n",
    "**Contacto:**\n",
    "\n",
    "- **Email:** [contact@jensygomez.us](mailto:contact@jensygomez.us)\n",
    "- **YouTube:** [Tu Canal de YouTube](https://www.youtube.com/@systechcwb826)\n",
    "- **LinkedIn:** [Tu Perfil de LinkedIn](https://www.linkedin.com/in/jensygomez/)\n",
    "\n",
    "\n"
   ]
  },
  {
   "cell_type": "markdown",
   "metadata": {},
   "source": [
    "### Ejercicio: Consulta de Equipos y Promedio de Edades de Jugadores\n",
    "\n",
    "**Descripción del ejercicio:**\n",
    "Queremos obtener el nombre de cada equipo junto con el promedio de edades de sus jugadores, pero solo para aquellos equipos cuyo promedio de edades sea mayor que 25 años."
   ]
  },
  {
   "cell_type": "code",
   "execution_count": null,
   "metadata": {
    "vscode": {
     "languageId": "sql"
    }
   },
   "outputs": [],
   "source": [
    "-- Paso 1: Seleccionar el nombre del equipo y calcular el promedio de edades de los jugadores\n",
    "SELECT \n",
    "    e.nombre AS NombreEquipo,\n",
    "    AVG(YEAR(CURRENT_DATE) - YEAR(j.fecha_nacimiento)) AS PromedioEdades\n",
    "FROM \n",
    "    Equipos e\n",
    "    JOIN Jugadores j ON e.id = j.equipo_id\n",
    "-- Paso 2: Agrupar por el nombre del equipo\n",
    "GROUP BY \n",
    "    e.nombre\n",
    "-- Paso 3: Filtrar solo los equipos cuyo promedio de edades sea mayor que 25 años\n",
    "HAVING \n",
    "    PromedioEdades > 25;"
   ]
  },
  {
   "cell_type": "markdown",
   "metadata": {},
   "source": [
    "**Explicación paso a paso:**\n",
    "\n",
    "1. **Selección de columnas:**\n",
    "   - `e.nombre AS NombreEquipo`: Alias para el nombre del equipo.\n",
    "   - `AVG(YEAR(CURRENT_DATE) - YEAR(j.fecha_nacimiento)) AS PromedioEdades`: Calculamos el promedio de edades de los jugadores. Utilizamos la función `YEAR` para calcular la diferencia en años entre la fecha actual (`CURRENT_DATE`) y la fecha de nacimiento de cada jugador.\n",
    "\n",
    "2. **Tablas y joins:**\n",
    "   - `Equipos e JOIN Jugadores j ON e.id = j.equipo_id`: Unimos la tabla `Equipos` con `Jugadores` utilizando la clave `equipo_id`.\n",
    "\n",
    "3. **Agrupación:**\n",
    "   - `GROUP BY e.nombre`: Agrupamos los resultados por el nombre del equipo para obtener un resultado por equipo.\n",
    "\n",
    "4. **Filtrado con HAVING:**\n",
    "   - `HAVING PromedioEdades > 25`: Utilizamos `HAVING` para filtrar los resultados y mostrar solo aquellos equipos cuyo promedio de edades sea mayor que 25 años.\n",
    "\n",
    "### Notas adicionales:\n",
    "- Este ejercicio te permite practicar el uso de alias para dar nombres más descriptivos a las columnas y funciones agregadas (`AVG` en este caso).\n",
    "- Utiliza las cláusulas `GROUP BY` y `HAVING` de manera efectiva para agrupar datos y aplicar condiciones de filtrado sobre los resultados agrupados.\n",
    "- Asegúrate de entender cómo se calcula el promedio de edades utilizando la función `AVG` y la manipulación de fechas con `YEAR`.\n"
   ]
  }
 ],
 "metadata": {
  "kernelspec": {
   "display_name": "Python 3 (ipykernel)",
   "language": "python",
   "name": "python3"
  },
  "language_info": {
   "codemirror_mode": {
    "name": "ipython",
    "version": 3
   },
   "file_extension": ".py",
   "mimetype": "text/x-python",
   "name": "python",
   "nbconvert_exporter": "python",
   "pygments_lexer": "ipython3",
   "version": "3.10.12"
  }
 },
 "nbformat": 4,
 "nbformat_minor": 2
}
