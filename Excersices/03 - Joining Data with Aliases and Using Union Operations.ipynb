{
 "cells": [
  {
   "cell_type": "markdown",
   "metadata": {},
   "source": [
    "**Author:**       Jensy Gregorio Gómez \n",
    "---------------------------------------\n",
    "**Profession:**  IT Support Analyst | NOC | Database Administrator\n",
    "\n",
    "**Date:**         20 Junio 2024    \n",
    "\n",
    "**Modified**  23 Junio 2024\n",
    "\n",
    "**Location:**     Vila Izabel, Curitiba/PR  \n",
    "\n",
    "\n",
    "---\n",
    "\n",
    "**Contacto:**\n",
    "\n",
    "- **Email:** [contact@jensygomez.us](mailto:contact@jensygomez.us)\n",
    "- **YouTube:** [Tu Canal de YouTube](https://www.youtube.com/@systechcwb826)\n",
    "- **LinkedIn:** [Tu Perfil de LinkedIn](https://www.linkedin.com/in/jensygomez/)\n",
    "\n",
    "\n"
   ]
  },
  {
   "cell_type": "markdown",
   "metadata": {},
   "source": [
    "1. **INNER JOIN con alias**:\n",
    "   - Selecciona el nombre del equipo y el nombre del presidente utilizando un INNER JOIN entre las tablas `Equipos` y `Presidentes`. Los alias (`e` y `p`) simplifican la referencia a las tablas."
   ]
  },
  {
   "cell_type": "code",
   "execution_count": null,
   "metadata": {
    "vscode": {
     "languageId": "sql"
    }
   },
   "outputs": [],
   "source": [
    "-- 1. INNER JOIN con alias\n",
    "\n",
    "SELECT\n",
    "    e.nombre AS equipo,\n",
    "    p.nombre AS presidente\n",
    "FROM Equipos e\n",
    "INNER JOIN Presidentes p ON e.presidente_id = p.id;"
   ]
  },
  {
   "cell_type": "markdown",
   "metadata": {},
   "source": [
    "2. **LEFT JOIN con alias**:\n",
    "   - Selecciona el nombre del equipo y el nombre del entrenador utilizando un LEFT JOIN entre las tablas `Equipos` y `Entrenadores`. Esto asegura que se incluyan todos los equipos, incluso si no tienen entrenador asignado."
   ]
  },
  {
   "cell_type": "code",
   "execution_count": null,
   "metadata": {
    "vscode": {
     "languageId": "sql"
    }
   },
   "outputs": [],
   "source": [
    "-- 2. LEFT JOIN con alias\n",
    "\n",
    "SELECT\n",
    "    e.nombre AS equipo,\n",
    "    t.nombre AS entrenador\n",
    "FROM Equipos e\n",
    "LEFT JOIN Entrenadores t ON e.entrenador_id = t.id;"
   ]
  },
  {
   "cell_type": "markdown",
   "metadata": {},
   "source": [
    "3. **RIGHT JOIN con alias**:\n",
    "   - Selecciona el nombre del entrenador y el nombre del equipo utilizando un RIGHT JOIN entre las tablas `Entrenadores` y `Equipos`. Asegura que se incluyan todos los entrenadores, incluso si no tienen equipo asignado."
   ]
  },
  {
   "cell_type": "code",
   "execution_count": null,
   "metadata": {
    "vscode": {
     "languageId": "sql"
    }
   },
   "outputs": [],
   "source": [
    "-- 3. RIGHT JOIN con alias\n",
    "\n",
    "SELECT\n",
    "    t.nombre AS entrenador,\n",
    "    e.nombre AS equipo\n",
    "FROM Entrenadores t\n",
    "RIGHT JOIN Equipos e ON t.id = e.entrenador_id;"
   ]
  },
  {
   "cell_type": "markdown",
   "metadata": {},
   "source": [
    "4. **SELF JOIN con alias**:\n",
    "   - Selecciona el nombre de dos jugadores (`jugador1` y `jugador2`) que pertenecen al mismo equipo, utilizando un SELF JOIN en la tabla `Jugadores`. Esto permite comparar jugadores dentro del mismo equipo pero diferentes ID."
   ]
  },
  {
   "cell_type": "code",
   "execution_count": null,
   "metadata": {
    "vscode": {
     "languageId": "sql"
    }
   },
   "outputs": [],
   "source": [
    "-- 4. SELF JOIN con alias\n",
    "\n",
    "SELECT\n",
    "    j1.nombre AS jugador1,\n",
    "    j2.nombre AS jugador2\n",
    "FROM Jugadores j1\n",
    "JOIN Jugadores j2 ON j1.equipo_id = j2.equipo_id\n",
    "                 AND j1.id <> j2.id;\n"
   ]
  },
  {
   "cell_type": "markdown",
   "metadata": {},
   "source": [
    "5. **UNION**:\n",
    "   - Combina los nombres de los presidentes y entrenadores en una lista única, utilizando UNION. Elimina automáticamente duplicados."
   ]
  },
  {
   "cell_type": "code",
   "execution_count": null,
   "metadata": {
    "vscode": {
     "languageId": "sql"
    }
   },
   "outputs": [],
   "source": [
    "-- 5. UNION\n",
    "\n",
    "SELECT nombre \n",
    "FROM Presidentes\n",
    "UNION\n",
    "SELECT nombre \n",
    "FROM Entrenadores;\n"
   ]
  },
  {
   "cell_type": "markdown",
   "metadata": {},
   "source": [
    "6. **UNION ALL**:\n",
    "   - Combina los nombres de los presidentes y entrenadores en una lista única, utilizando UNION ALL. Incluye todos los resultados, incluidos los duplicados si existen."
   ]
  },
  {
   "cell_type": "code",
   "execution_count": null,
   "metadata": {
    "vscode": {
     "languageId": "sql"
    }
   },
   "outputs": [],
   "source": [
    "-- 6. UNION ALL\n",
    "\n",
    "SELECT nombre \n",
    "FROM Presidentes\n",
    "UNION ALL\n",
    "SELECT nombre \n",
    "FROM Entrenadores;\n"
   ]
  }
 ],
 "metadata": {
  "kernelspec": {
   "display_name": "Python 3 (ipykernel)",
   "language": "python",
   "name": "python3"
  },
  "language_info": {
   "codemirror_mode": {
    "name": "ipython",
    "version": 3
   },
   "file_extension": ".py",
   "mimetype": "text/x-python",
   "name": "python",
   "nbconvert_exporter": "python",
   "pygments_lexer": "ipython3",
   "version": "3.10.12"
  }
 },
 "nbformat": 4,
 "nbformat_minor": 2
}
