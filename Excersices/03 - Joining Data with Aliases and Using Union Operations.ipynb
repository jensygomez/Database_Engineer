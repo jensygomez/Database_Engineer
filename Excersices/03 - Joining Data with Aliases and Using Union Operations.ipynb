{
 "cells": [
  {
   "cell_type": "markdown",
   "metadata": {},
   "source": [
    "**Author:**       Jensy Gregorio Gómez \n",
    "---------------------------------------\n",
    "**Profession:**  IT Support Analyst | NOC | Database Administrator\n",
    "\n",
    "**Date:**         20 Junio 2024    \n",
    "\n",
    "**Modified**  23 Junio 2024 --> 28 Junio 2024\n",
    "\n",
    "**Location:**     Vila Izabel, Curitiba/PR  \n",
    "\n",
    "\n",
    "---\n",
    "\n",
    "**Contacto:**\n",
    "\n",
    "- **Email:** [contact@jensygomez.us](mailto:contact@jensygomez.us)\n",
    "- **YouTube:** [Tu Canal de YouTube](https://www.youtube.com/@systechcwb826)\n",
    "- **LinkedIn:** [Tu Perfil de LinkedIn](https://www.linkedin.com/in/jensygomez/)\n",
    "\n",
    "\n"
   ]
  },
  {
   "cell_type": "markdown",
   "metadata": {},
   "source": [
    "\n",
    "### Título del Ejercicio:\n",
    "\n",
    "**Informe Combinado de Pedidos y Pagos con JOIN y UNION en SQL**\n",
    "\n",
    "### Enunciado del Ejercicio:\n",
    "\n",
    "Queremos obtener un informe combinado que incluya la información de productos pedidos y pagados, junto con los detalles de los empleados que realizaron las ventas. Este informe debe unificar dos conjuntos de datos distintos: pedidos que tienen detalles y pagos realizados por clientes. La información resultante debe incluir detalles del producto, cliente y empleado, si está disponible.\n"
   ]
  },
  {
   "cell_type": "code",
   "execution_count": null,
   "metadata": {
    "vscode": {
     "languageId": "sql"
    }
   },
   "outputs": [],
   "source": [
    "-- Consulta para pedidos\n",
    "SELECT \n",
    "    'Pedido' AS tipo_registro, -- Seleccionamos un literal para identificar el tipo de registro\n",
    "    orders.orderNumber AS num_pedido_cheque, -- Seleccionamos el número de pedido\n",
    "    orders.orderDate AS fecha_pedido_pago, -- Seleccionamos la fecha del pedido\n",
    "    orders.status AS estado_pedido, -- Seleccionamos el estado del pedido\n",
    "    products.productName AS nombre_producto, -- Seleccionamos el nombre del producto\n",
    "    orderdetails.quantityOrdered AS cantidad_ordenada, -- Seleccionamos la cantidad ordenada del producto\n",
    "    orderdetails.priceEach AS precio_cada_uno, -- Seleccionamos el precio de cada producto\n",
    "    NULL AS cantidad_pagada, -- Establecemos la cantidad pagada como NULL, ya que esta consulta es para pedidos\n",
    "    customers.customerName AS nombre_cliente, -- Seleccionamos el nombre del cliente\n",
    "    CONCAT(employees.firstName, ' ', employees.lastName) AS nombre_empleado, -- Concatenamos el nombre y apellido del empleado que gestionó el pedido\n",
    "    offices.city AS oficina_empleado -- Seleccionamos la ciudad de la oficina del empleado\n",
    "FROM classicmodels.orders\n",
    "JOIN classicmodels.orderdetails ON orders.orderNumber = orderdetails.orderNumber -- Realizamos el JOIN entre las tablas de pedidos y detalles de pedidos\n",
    "JOIN classicmodels.products ON orderdetails.productCode = products.productCode -- Realizamos el JOIN entre detalles de pedidos y productos\n",
    "JOIN classicmodels.customers ON orders.customerNumber = customers.customerNumber -- Realizamos el JOIN entre pedidos y clientes\n",
    "LEFT JOIN classicmodels.employees ON customers.salesRepEmployeeNumber = employees.employeeNumber -- Realizamos el LEFT JOIN para obtener la información del empleado que gestionó el pedido\n",
    "LEFT JOIN classicmodels.offices ON employees.officeCode = offices.officeCode -- Realizamos el LEFT JOIN para obtener la información de la oficina del empleado\n",
    "\n",
    "UNION\n",
    "\n",
    "-- Consulta para pagos\n",
    "SELECT \n",
    "    'Pago' AS tipo_registro, -- Seleccionamos un literal para identificar el tipo de registro\n",
    "    NULL AS num_pedido_cheque, -- Establecemos el número de pedido/cheque como NULL, ya que esta consulta es para pagos\n",
    "    payments.paymentDate AS fecha_pedido_pago, -- Seleccionamos la fecha del pago\n",
    "    NULL AS estado_pedido, -- Establecemos el estado del pedido como NULL, ya que esta consulta es para pagos\n",
    "    NULL AS nombre_producto, -- Establecemos el nombre del producto como NULL, ya que esta consulta es para pagos\n",
    "    NULL AS cantidad_ordenada, -- Establecemos la cantidad ordenada como NULL, ya que esta consulta es para pagos\n",
    "    NULL AS precio_cada_uno, -- Establecemos el precio de cada producto como NULL, ya que esta consulta es para pagos\n",
    "    payments.amount AS cantidad_pagada, -- Seleccionamos la cantidad pagada\n",
    "    customers.customerName AS nombre_cliente, -- Seleccionamos el nombre del cliente\n",
    "    CONCAT(employees.firstName, ' ', employees.lastName) AS nombre_empleado, -- Concatenamos el nombre y apellido del empleado que gestionó el pago\n",
    "    offices.city AS oficina_empleado -- Seleccionamos la ciudad de la oficina del empleado\n",
    "FROM classicmodels.payments\n",
    "JOIN classicmodels.customers ON payments.customerNumber = customers.customerNumber -- Realizamos el JOIN entre las tablas de pagos y clientes\n",
    "LEFT JOIN classicmodels.employees ON customers.salesRepEmployeeNumber = employees.employeeNumber -- Realizamos el LEFT JOIN para obtener la información del empleado que gestionó el pago\n",
    "LEFT JOIN classicmodels.offices ON employees.officeCode = offices.officeCode; -- Realizamos el LEFT JOIN para obtener la información de la oficina del empleado\n"
   ]
  }
 ],
 "metadata": {
  "kernelspec": {
   "display_name": "Python 3 (ipykernel)",
   "language": "python",
   "name": "python3"
  },
  "language_info": {
   "codemirror_mode": {
    "name": "ipython",
    "version": 3
   },
   "file_extension": ".py",
   "mimetype": "text/x-python",
   "name": "python",
   "nbconvert_exporter": "python",
   "pygments_lexer": "ipython3",
   "version": "3.10.12"
  }
 },
 "nbformat": 4,
 "nbformat_minor": 2
}
