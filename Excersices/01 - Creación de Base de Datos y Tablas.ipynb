{
 "cells": [
  {
   "cell_type": "markdown",
   "metadata": {},
   "source": [
    "**Author:**       Jensy Gregorio Gómez \n",
    "---------------------------------------\n",
    "**Profession:**  IT Support Analyst and Automatation with Python\n",
    "\n",
    "**Date:**         14 May 2024     \n",
    "\n",
    "**Modified** \n",
    "\n",
    "**Location:**     Vila Izabel, Curitiba/PR  \n",
    "\n",
    "\n",
    "---\n",
    "\n",
    "**Contacto:**\n",
    "\n",
    "- **Email:** [contact@jensygomez.us](mailto:contact@jensygomez.us)\n",
    "- **YouTube:** [Tu Canal de YouTube](https://www.youtube.com/@systechcwb826)\n",
    "- **LinkedIn:** [Tu Perfil de LinkedIn](https://www.linkedin.com/in/jensygomez/)\n",
    "\n",
    "\n"
   ]
  },
  {
   "cell_type": "code",
   "execution_count": null,
   "metadata": {},
   "outputs": [],
   "source": [
    "# Importa el módulo pymysql para trabajar con bases de datos MySQL\n",
    "import pymysql\n",
    "# Define una función llamada conectar_base_datos\n",
    "def conectar_base_datos():\n",
    "    # Intenta ejecutar el bloque de código dentro del bloque try\n",
    "    try:\n",
    "        # Establece una conexión a la base de datos MySQL        \n",
    "        connection = pymysql.connect(\n",
    "            host='sql10.freesqldatabase.com',\n",
    "            user='sql10705361',\n",
    "            password='HqKECAGFRn',\n",
    "            database='sql10705361'\n",
    "        )\n",
    "        # Imprime un mensaje indicando que la conexión se ha establecido correctamente\n",
    "        print(\"Conexión establecida correctamente\")\n",
    "        # Devuelve el objeto de conexión a la base de datos\n",
    "        return connection\n",
    "    # Maneja excepciones de tipo pymysql.Error, almacenando la excepción en la variable 'e'\n",
    "    except pymysql.Error as e:\n",
    "        # Imprime un mensaje de error junto con el contenido de la excepción 'e'\n",
    "        # al intentar conectarse a la Base de Datos\n",
    "        print(\"Error al intentar conectarse a la Base de Datos:\", e)\n",
    "        # Retorna un valor nulo (None)\n",
    "        return None\n",
    "# Llama a la función conectar_base_datos() para establecer una conexión a la base de datos\n",
    "connection = conectar_base_datos()\n"
   ]
  },
  {
   "cell_type": "code",
   "execution_count": null,
   "metadata": {},
   "outputs": [],
   "source": [
    "def crear_tabla(connection):\n",
    "    try:\n",
    "        # Crear cursor\n",
    "        cursor = connection.cursor()\n",
    "\n",
    "        # Definir la consulta para crear la tabla\n",
    "        consulta = \"\"\"\n",
    "        CREATE TABLE IF NOT EXISTS nombre_tabla (\n",
    "            id INT AUTO_INCREMENT PRIMARY KEY,\n",
    "            columna1 VARCHAR(255),\n",
    "            columna2 INT,\n",
    "            columna3 DATE\n",
    "            -- Agrega más columnas según sea necesario\n",
    "        )\n",
    "        \"\"\"\n",
    "\n",
    "        # Ejecutar la consulta\n",
    "        cursor.execute(consulta)\n",
    "\n",
    "        # Confirmar la operación\n",
    "        connection.commit()\n",
    "        print(\"Tabla creada correctamente\")\n",
    "\n",
    "        return cursor\n",
    "\n",
    "    except pymysql.Error as e:\n",
    "        print(\"Error al crear la tabla:\", e)\n",
    "        return None\n",
    "\n",
    "# Llamada a la función para crear la tabla\n",
    "crear_tabla(connection)"
   ]
  },
  {
   "cell_type": "code",
   "execution_count": null,
   "metadata": {},
   "outputs": [],
   "source": [
    "def cerrar_base_datos(connection, cursor=None):\n",
    "    try:\n",
    "        # Cerrar cursor y conexión\n",
    "        if cursor:\n",
    "            cursor.close()\n",
    "        connection.close()\n",
    "        print(\"Conexión cerrada correctamente\")\n",
    "    except pymysql.Error as e:\n",
    "        print(\"Error al cerrar la conexión:\", e)\n",
    "\n",
    "# Llamada a la función para cerrar la conexión a la base de datos\n",
    "cerrar_base_datos(connection)"
   ]
  }
 ],
 "metadata": {
  "kernelspec": {
   "display_name": "Python 3 (ipykernel)",
   "language": "python",
   "name": "python3"
  },
  "language_info": {
   "codemirror_mode": {
    "name": "ipython",
    "version": 3
   },
   "file_extension": ".py",
   "mimetype": "text/x-python",
   "name": "python",
   "nbconvert_exporter": "python",
   "pygments_lexer": "ipython3",
   "version": "3.11.7"
  }
 },
 "nbformat": 4,
 "nbformat_minor": 2
}
