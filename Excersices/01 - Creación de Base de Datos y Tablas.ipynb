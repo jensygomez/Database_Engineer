{
 "cells": [
  {
   "cell_type": "markdown",
   "metadata": {},
   "source": [
    "**Author:**       Jensy Gregorio Gómez \n",
    "---------------------------------------\n",
    "**Profession:**  IT Support Analyst and Automatation with Python\n",
    "\n",
    "**Date:**         22 April 2024     \n",
    "\n",
    "**Modified** 26 April 2026\n",
    "\n",
    "**Location:**     Vila Izabel, Curitiba/PR  \n",
    "\n",
    "\n",
    "---\n",
    "\n",
    "**Contacto:**\n",
    "\n",
    "- **Email:** [contact@jensygomez.us](mailto:contact@jensygomez.us)\n",
    "- **YouTube:** [Tu Canal de YouTube](https://www.youtube.com/@systechcwb826)\n",
    "- **LinkedIn:** [Tu Perfil de LinkedIn](https://www.linkedin.com/in/jensygomez/)\n",
    "\n",
    "\n"
   ]
  },
  {
   "cell_type": "markdown",
   "metadata": {},
   "source": [
    "### Título: \n",
    "# **Gestión de Dispositivos Móviles: Creación de Base de Datos y Tablas**\n",
    "\n",
    "#### Escenario:\n",
    "Carl Merkel es el propietario de **CM Mobiles**, una pequeña empresa dedicada a la venta de dispositivos móviles. Con el objetivo de organizar eficientemente la información de los productos que vende, Carl decide crear una **base de datos** llamada **\"cm_devices\"**.\n",
    "\n",
    "Esta base de datos contendrá detalles esenciales sobre los dispositivos móviles disponibles en su tienda, \n",
    "Tabla \"devices\"\n",
    " - como el **ID del dispositivo**, \n",
    " - el **nombre** y \n",
    " - el **precio**. \n",
    " \n",
    " Además, Carl también planea incorporar una **tabla adicional** llamada **\"stock\"** para mantener un registro del \n",
    " - **inventario disponible**, incluyendo la \n",
    " - **cantidad** de dispositivos en stock y el \n",
    " - **costo total disponible**. \n",
    " \n",
    " ¡Acompaña a Carl en el proceso de creación de la base de datos y las tablas para optimizar la **gestión** de su negocio de dispositivos móviles!"
   ]
  },
  {
   "cell_type": "code",
   "execution_count": null,
   "metadata": {
    "vscode": {
     "languageId": "sql"
    }
   },
   "outputs": [],
   "source": [
    "-- Digite o Coomando SQL\n",
    "\n"
   ]
  },
  {
   "cell_type": "code",
   "execution_count": 2,
   "metadata": {},
   "outputs": [
    {
     "name": "stdout",
     "output_type": "stream",
     "text": [
      "Conexión establecida correctamente\n",
      "Comando SQL almacenado en la variable comandoSQL\n",
      "Conexión cerrada\n"
     ]
    }
   ],
   "source": [
    "import mysql.connector\n",
    "\n",
    "# Conectar a la base de datos\n",
    "conexion = mysql.connector.connect(\n",
    "    host=\"localhost\",\n",
    "    user=\"root\",\n",
    "    password=\"\",  # No se necesita contraseña en tu caso\n",
    "    database=\"cm_devices\",  # Reemplaza \"nombre_de_tu_base_de_datos\" con el nombre de tu base de datos\n",
    "    port=\"3306\"  # Puerto por defecto de MySQL\n",
    ")\n",
    "\n",
    "if conexion.is_connected():\n",
    "    print(\"Conexión establecida correctamente\")\n",
    "else:\n",
    "    print(\"No se pudo establecer conexión\")\n",
    "\n",
    "\n",
    "# Definir la consulta SQL para crear la tabla\n",
    "comandoSQL = \"\"\"\n",
    "\n",
    "\n",
    "\"\"\"\n",
    "\n",
    "print(\"Comando SQL almacenado en la variable comandoSQL\")\n",
    "\n",
    "\n",
    "# Ejecutar la consulta SQL para crear la tabla\n",
    "\n",
    "# Crear un cursor\n",
    "cursor = conexion.cursor()\n",
    "\n",
    "# Ejecutar la consulta para crear la tabla\n",
    "cursor.execute(comandoSQL)\n",
    "\n",
    "# Confirmar los cambios en la base de datos\n",
    "conexion.commit()\n",
    "\n",
    "\n",
    "# Cerrar la conexión a la base de datos al final del código\n",
    "conexion.close()\n",
    "print(\"Conexión cerrada\")"
   ]
  }
 ],
 "metadata": {
  "kernelspec": {
   "display_name": "Python 3 (ipykernel)",
   "language": "python",
   "name": "python3"
  },
  "language_info": {
   "codemirror_mode": {
    "name": "ipython",
    "version": 3
   },
   "file_extension": ".py",
   "mimetype": "text/x-python",
   "name": "python",
   "nbconvert_exporter": "python",
   "pygments_lexer": "ipython3",
   "version": "3.11.7"
  }
 },
 "nbformat": 4,
 "nbformat_minor": 2
}
