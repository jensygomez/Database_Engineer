{
 "cells": [
  {
   "cell_type": "markdown",
   "metadata": {},
   "source": [
    "**Author:**       Jensy Gregorio Gómez \n",
    "---------------------------------------\n",
    "**Profession:**  IT Support Analyst and Automatation with Python\n",
    "\n",
    "**Date:**         01 Jun 2024     \n",
    "\n",
    "**Modified**  08 Junio 2024 --> 13 Junio 2024\n",
    "\n",
    "**Location:**     Vila Izabel, Curitiba/PR  \n",
    "\n",
    "\n",
    "---\n",
    "\n",
    "**Contacto:**\n",
    "\n",
    "- **Email:** [contact@jensygomez.us](mailto:contact@jensygomez.us)\n",
    "- **YouTube:** [Tu Canal de YouTube](https://www.youtube.com/@systechcwb826)\n",
    "- **LinkedIn:** [Tu Perfil de LinkedIn](https://www.linkedin.com/in/jensygomez/)\n",
    "\n",
    "\n"
   ]
  },
  {
   "cell_type": "markdown",
   "metadata": {},
   "source": [
    "\n",
    "**Título: Análisis de Productividad de Empleados basado en Estado de Pedidos**\n",
    "\n",
    "**Escenario:** En la empresa Lucky Shrub, un proveedor líder en suministros de jardinería, la eficiencia y la gestión de pedidos son cruciales para mantener la satisfacción del cliente y garantizar la rentabilidad. Como parte del equipo de análisis de datos, se te ha asignado la tarea de evaluar la productividad de los empleados en función del estado de los pedidos que manejan.\n",
    "\n",
    "Tu objetivo es identificar a todos los empleados que han completado pedidos y analizar su desempeño en comparación con otros. Utilizando el operador ANY en SQL, debes extraer una lista de empleados junto con el estado de los pedidos que han completado. Esta información será fundamental para reconocer a los empleados más eficientes y para identificar posibles áreas de mejora en el proceso de gestión de pedidos."
   ]
  },
  {
   "cell_type": "code",
   "execution_count": null,
   "metadata": {
    "vscode": {
     "languageId": "sql"
    }
   },
   "outputs": [],
   "source": [
    "sudo mysql -u root -p luckyshrub_db.sql\n",
    "\n",
    "-- Selecciona todos los empleados con estado de pedido 'Completed'\n",
    "SELECT \n",
    "    e.EmployeeID, \n",
    "    e.EmployeeName, \n",
    "    eo.Status AS OrderStatus\n",
    "FROM \n",
    "    employees e\n",
    "JOIN \n",
    "    employee_orders eo \n",
    "ON \n",
    "    e.EmployeeID = eo.EmployeeID\n",
    "WHERE \n",
    "    eo.Status = 'Completed';\n",
    "\n",
    "\n"
   ]
  }
 ],
 "metadata": {
  "kernelspec": {
   "display_name": "Python 3 (ipykernel)",
   "language": "python",
   "name": "python3"
  },
  "language_info": {
   "codemirror_mode": {
    "name": "ipython",
    "version": 3
   },
   "file_extension": ".py",
   "mimetype": "text/x-python",
   "name": "python",
   "nbconvert_exporter": "python",
   "pygments_lexer": "ipython3",
   "version": "3.11.7"
  }
 },
 "nbformat": 4,
 "nbformat_minor": 2
}
