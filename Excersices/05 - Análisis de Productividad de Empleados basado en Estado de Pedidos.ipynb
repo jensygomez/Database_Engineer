{
 "cells": [
  {
   "cell_type": "markdown",
   "metadata": {},
   "source": [
    "**Author:**       Jensy Gregorio Gómez \n",
    "---------------------------------------\n",
    "**Profession:**  IT Support Analyst and Automatation with Python\n",
    "\n",
    "**Date:**         01 Jun 2024     \n",
    "\n",
    "**Modified** \n",
    "\n",
    "**Location:**     Vila Izabel, Curitiba/PR  \n",
    "\n",
    "\n",
    "---\n",
    "\n",
    "**Contacto:**\n",
    "\n",
    "- **Email:** [contact@jensygomez.us](mailto:contact@jensygomez.us)\n",
    "- **YouTube:** [Tu Canal de YouTube](https://www.youtube.com/@systechcwb826)\n",
    "- **LinkedIn:** [Tu Perfil de LinkedIn](https://www.linkedin.com/in/jensygomez/)\n",
    "\n",
    "\n"
   ]
  },
  {
   "cell_type": "markdown",
   "metadata": {},
   "source": [
    "\n",
    "**Título: Análisis de Productividad de Empleados basado en Estado de Pedidos**\n",
    "\n",
    "**Escenario:** En la empresa Lucky Shrub, un proveedor líder en suministros de jardinería, la eficiencia y la gestión de pedidos son cruciales para mantener la satisfacción del cliente y garantizar la rentabilidad. Como parte del equipo de análisis de datos, se te ha asignado la tarea de evaluar la productividad de los empleados en función del estado de los pedidos que manejan.\n",
    "\n",
    "Tu objetivo es identificar a todos los empleados que han completado pedidos y analizar su desempeño en comparación con otros. Utilizando el operador ANY en SQL, debes extraer una lista de empleados junto con el estado de los pedidos que han completado. Esta información será fundamental para reconocer a los empleados más eficientes y para identificar posibles áreas de mejora en el proceso de gestión de pedidos."
   ]
  },
  {
   "cell_type": "code",
   "execution_count": null,
   "metadata": {
    "vscode": {
     "languageId": "sql"
    }
   },
   "outputs": [],
   "source": [
    "CREATE DATABASE luckyshrub_db; \n",
    "\n",
    "USE luckyshrub_db;\n",
    "\n",
    "CREATE TABLE employees (\n",
    "  EmployeeID int NOT NULL,\n",
    "  EmployeeName varchar(150) DEFAULT NULL,\n",
    "  Department varchar(150) DEFAULT NULL,\n",
    "  ContactNo varchar(12) DEFAULT NULL,\n",
    "  Email varchar(100) DEFAULT NULL,\n",
    "  AnnualSalary int DEFAULT NULL,\n",
    "  PRIMARY KEY (EmployeeID)\n",
    ");\n",
    "\n",
    "CREATE TABLE orders (\n",
    "  OrderID int NOT NULL,\n",
    "  Department varchar(100) DEFAULT NULL,\n",
    "  OrderDate date DEFAULT NULL,\n",
    "  OrderQty int DEFAULT NULL,\n",
    "  OrderTotal int DEFAULT NULL,\n",
    "  PRIMARY KEY (OrderID)\n",
    ");\n",
    "\n",
    "CREATE TABLE employee_orders (\n",
    " OrderID int NOT NULL,\n",
    " EmployeeID int NOT NULL,\n",
    " Status VARCHAR(150),\n",
    " HandlingCost int DEFAULT NULL,\n",
    " PRIMARY KEY (EmployeeID,OrderID),\n",
    " FOREIGN KEY (EmployeeID) REFERENCES employees(EmployeeID),\n",
    " FOREIGN KEY (OrderID) REFERENCES orders(OrderID)\n",
    ");\n",
    "\n",
    "INSERT INTO employees VALUES \n",
    "(1,'Seamus Hogan', 'Recruitment', '351478025', 'Seamus.h@luckyshrub.com',50000), \n",
    "(2,'Thomas Eriksson', 'Legal', '351475058', 'Thomas.e@luckyshrub.com',75000), \n",
    "(3,'Simon Tolo', 'Marketing', '351930582','Simon.t@luckyshrub.com',40000), \n",
    "(4,'Francesca Soffia', 'Finance', '351258569','Francesca.s@luckyshrub.com',45000), \n",
    "(5,'Emily Sierra', 'Customer Service', '351083098','Emily.s@luckyshrub.com',35000), \n",
    "(6,'Maria Carter', 'Human Resources', '351022508','Maria.c@luckyshrub.com',55000),\n",
    "(7,'Rick Griffin', 'Marketing', '351478458','Rick.G@luckyshrub.com',50000);\n",
    "\n",
    "INSERT INTO orders VALUES(1,'Lawn Care','2022-05-05',12,500),\n",
    "(2,'Decking','2022-05-22',150,1450),\n",
    "(3,'Compost and Stones','2022-05-27',20,780),\n",
    "(4,'Trees and Shrubs','2022-06-01',15,400),\n",
    "(5,'Garden Decor','2022-06-10',2,1250),\n",
    "(6,'Lawn Care','2022-06-10',12,500),\n",
    "(7,'Decking','2022-06-25',150,1450),\n",
    "(8,'Compost and Stones','2022-05-29',20,780),\n",
    "(9,'Trees and Shrubs','2022-06-10',15,400),\n",
    "(10,'Garden Decor','2022-06-10',2,1250),\n",
    "(11,'Lawn Care','2022-06-25',10,400), \n",
    "(12,'Decking','2022-06-25',100,1400),\n",
    "(13,'Compost and Stones','2022-05-30',15,700), \n",
    "(14,'Trees and Shrubs','2022-06-15',10,300), \n",
    "(15,'Garden Decor','2022-06-11',2,1250),\n",
    "(16,'Lawn Care','2022-06-10',12,500), \n",
    "(17,'Decking','2022-06-25',150,1450), \n",
    "(18,'Trees and Shrubs','2022-06-10',15,400), \n",
    "(19,'Lawn Care','2022-06-10',12,500), \n",
    "(20,'Decking','2022-06-25',150,1450), \n",
    "(21,'Decking','2022-06-25',150,1450); \n",
    "\n",
    "INSERT INTO employee_orders \n",
    "VALUES(1,3,\"In Progress\",200), \n",
    "(1,5,\"Not Recieved\",300), \n",
    "(1,4,\"Not Recieved\",250), \n",
    "(2,3,\"Completed\",200), \n",
    "(2,5,\"Completed\",300), \n",
    "(2,4,\"In Progress\",250), \n",
    "(3,3,\"In Progress\",200), \n",
    "(3,5,\"Not Recieved\",300), \n",
    "(3,4,\"Not Recieved\",250), \n",
    "(4,3,\"Completed\",200), \n",
    "(4,5,\"In Progress\",300), \n",
    "(4,4,\"In Progress\",250), \n",
    "(5,3,\"Completed\",200), \n",
    "(5,5,\"In Progress\",300), \n",
    "(5,4,\"Not Recieved\",250), \n",
    "(11,3,\"Completed\",200), \n",
    "(11,5,\"Completed\",300), \n",
    "(11,4,\"Not Recieved\",250), \n",
    "(14,3,\"Completed\",200), \n",
    "(14,5,\"Not Recieved\",300), \n",
    "(14,4,\"Not Recieved\",250); \n",
    "\n",
    "\n",
    "\n",
    "\n",
    "-- Selecciona todos los empleados con estado de pedido 'Completed' usando el operador ANY\n",
    "SELECT e.EmployeeID, e.EmployeeName, eo.Status AS OrderStatus\n",
    "FROM employees e\n",
    "JOIN employee_orders eo ON e.EmployeeID = eo.EmployeeID\n",
    "WHERE eo.Status = ANY (\n",
    "    SELECT Status \n",
    "    FROM employee_orders \n",
    "    WHERE Status = 'Completed'\n",
    ") AS CompletedOrders;\n",
    "\n"
   ]
  },
  {
   "cell_type": "markdown",
   "metadata": {},
   "source": [
    "***\n",
    "***\n",
    "Identificación de Empleados que han Ganado más del 20% del Valor Total del Pedido en Todos los Pedidos que Han Manejado"
   ]
  },
  {
   "cell_type": "code",
   "execution_count": null,
   "metadata": {
    "vscode": {
     "languageId": "sql"
    }
   },
   "outputs": [],
   "source": [
    "SELECT eo.EmployeeID AS Employee_ID\n",
    "FROM employee_orders eo\n",
    "WHERE eo.HandlingCost > ALL (\n",
    "    SELECT o.OrderTotal * 0.2\n",
    "    FROM orders o\n",
    "    WHERE o.OrderID IN (\n",
    "        SELECT eo.OrderID\n",
    "        FROM employee_orders eo\n",
    "        WHERE eo.EmployeeID = eo.EmployeeID\n",
    "    )\n",
    ");\n"
   ]
  },
  {
   "cell_type": "markdown",
   "metadata": {},
   "source": [
    "\n",
    "***\n",
    "***\n",
    "**Título: Análisis de Órdenes de Empleados y Gastos por Departamento**\n",
    "\n",
    "**Descripción del Ejercicio:** Imagina que eres un analista en Lucky Shrub, una empresa especializada en suministros de jardinería. Tu tarea es analizar las órdenes de los empleados y los gastos por departamento. Debes resumir los registros duplicados en la tabla de órdenes y calcular el gasto total para cada departamento."
   ]
  },
  {
   "cell_type": "code",
   "execution_count": null,
   "metadata": {
    "vscode": {
     "languageId": "sql"
    }
   },
   "outputs": [],
   "source": [
    "SELECT \n",
    "    o.Department AS Departamento,\n",
    "    o.OrderDate AS FechaOrden,\n",
    "    SUM(o.OrderTotal) AS GastoTotal,\n",
    "    e.EmployeeName AS NombreEmpleado,\n",
    "    eo.Status AS Estado,\n",
    "    eo.HandlingCost AS CostoManejo\n",
    "FROM \n",
    "    (SELECT Department, OrderDate, OrderTotal\n",
    "     FROM orders\n",
    "     GROUP BY Department, OrderDate, OrderTotal) AS o\n",
    "JOIN \n",
    "    employee_orders AS eo ON o.OrderID = eo.OrderID\n",
    "JOIN \n",
    "    employees AS e ON eo.EmployeeID = e.EmployeeID\n",
    "ORDER BY \n",
    "    o.Department ASC,\n",
    "    o.OrderDate ASC;\n"
   ]
  },
  {
   "cell_type": "markdown",
   "metadata": {
    "vscode": {
     "languageId": "sql"
    }
   },
   "source": [
    "\n",
    "**Título del ejercicio:** Filtrando Datos Agrupados con la Clausula HAVING y Alias\n",
    "\n",
    "**Descripción de la Tarea:**\n",
    "\n",
    "1.  **Objetivo:** Practicar el uso de la cláusula HAVING para filtrar datos agregados en consultas SQL.\n",
    "    \n",
    "2.  **Escenario:** Se te ha encomendado analizar los datos de pedidos de la empresa Lucky Shrub. Tu objetivo es filtrar los totales de pedidos agregados para incluir solo los pedidos que superen los $100 y representen el 20% superior de los pedidos.\n",
    "    \n",
    "3.  **Pasos:**\n",
    "    \n",
    "    -   **Paso 1:** Escribe una consulta SQL para calcular el monto total del pedido para cada departamento.\n",
    "        \n",
    "    -   **Paso 2:** Utiliza una subconsulta para calcular el total acumulado del pedido y el porcentaje para cada departamento.\n",
    "        \n",
    "    -   **Paso 3:** Utiliza la cláusula HAVING con un alias para filtrar los datos agrupados y recuperar solo el 20% superior de los totales de pedidos, donde el total del pedido sea más de $100.\n",
    "        \n",
    "    -   **Paso 4:** Muestra el nombre del departamento y el total acumulado del pedido filtrado para cada departamento.\n",
    "        \n",
    "4.  **Salida Esperada:** La consulta debe devolver el nombre del departamento y el total acumulado del pedido filtrado para los departamentos donde el 20% superior de los totales de pedidos sea más de $100."
   ]
  },
  {
   "cell_type": "code",
   "execution_count": null,
   "metadata": {
    "vscode": {
     "languageId": "sql"
    }
   },
   "outputs": [],
   "source": [
    "-- Paso 1: Calcular el monto total del pedido para cada departamento\n",
    "SELECT Departamento, SUM(TotalPedido) AS TotalMonto\n",
    "FROM pedidos\n",
    "GROUP BY Departamento;\n",
    "\n",
    "-- Paso 2: Calcular el total acumulado del pedido y el porcentaje para cada departamento\n",
    "SELECT \n",
    "    Departamento,\n",
    "    SUM(TotalPedido) AS TotalAcumulado,\n",
    "    SUM(TotalPedido) / (SELECT SUM(TotalPedido) FROM pedidos) * 100 AS Porcentaje\n",
    "FROM pedidos\n",
    "GROUP BY Departamento;\n",
    "\n",
    "-- Paso 3 & 4: Filtrar el 20% superior de los pedidos con un total superior a $100 usando la cláusula HAVING y un alias\n",
    "SELECT \n",
    "    Departamento,\n",
    "    SUM(TotalPedido) AS TotalAcumulado\n",
    "FROM pedidos\n",
    "GROUP BY Departamento\n",
    "HAVING TotalAcumulado > 100\n",
    "ORDER BY TotalAcumulado DESC\n",
    "LIMIT (SELECT COUNT(DISTINCT Departamento) * 0.2 FROM pedidos);\n"
   ]
  }
 ],
 "metadata": {
  "kernelspec": {
   "display_name": "Python 3 (ipykernel)",
   "language": "python",
   "name": "python3"
  },
  "language_info": {
   "codemirror_mode": {
    "name": "ipython",
    "version": 3
   },
   "file_extension": ".py",
   "mimetype": "text/x-python",
   "name": "python",
   "nbconvert_exporter": "python",
   "pygments_lexer": "ipython3",
   "version": "3.11.7"
  }
 },
 "nbformat": 4,
 "nbformat_minor": 2
}
