{
 "cells": [
  {
   "cell_type": "markdown",
   "metadata": {},
   "source": [
    "**Author:**       Jensy Gregorio Gómez \n",
    "---------------------------------------\n",
    "**Profession:**  IT Support Analyst and Automatation with Python\n",
    "\n",
    "**Date:**         20 Juny 2024     \n",
    "\n",
    "**Modified**  20 junio 2024\n",
    "\n",
    "**Location:**     Vila Izabel, Curitiba/PR  \n",
    "\n",
    "\n",
    "---\n",
    "\n",
    "**Contacto:**\n",
    "\n",
    "- **Email:** [contact@jensygomez.us](mailto:contact@jensygomez.us)\n",
    "- **YouTube:** [Tu Canal de YouTube](https://www.youtube.com/@systechcwb826)\n",
    "- **LinkedIn:** [Tu Perfil de LinkedIn](https://www.linkedin.com/in/jensygomez/)\n",
    "\n",
    "\n"
   ]
  },
  {
   "cell_type": "markdown",
   "metadata": {},
   "source": [
    "\n",
    "### Ejercicio:\n",
    "\n",
    "**Objetivo**: Obtener una lista de jugadores que comparten la misma nacionalidad en sus equipos respectivos, mostrando los detalles de cada jugador y sus compañeros del mismo país.\n",
    "\n",
    "**Instrucciones**:\n",
    "\n",
    "1.  Utiliza un `SELF JOIN` en la tabla `Jugadores` para relacionar jugadores que tienen la misma nacionalidad y pertenecen al mismo equipo.\n",
    "2.  Usa `ALIAS` para hacer la consulta más legible.\n",
    "3.  Selecciona las columnas necesarias para identificar claramente los jugadores y sus compañeros del mismo país."
   ]
  },
  {
   "cell_type": "code",
   "execution_count": null,
   "metadata": {
    "vscode": {
     "languageId": "sql"
    }
   },
   "outputs": [],
   "source": [
    "\n",
    "-- Seleccionar la base de datos\n",
    "USE LigaEspanola;"
   ]
  },
  {
   "cell_type": "code",
   "execution_count": null,
   "metadata": {
    "vscode": {
     "languageId": "sql"
    }
   },
   "outputs": [],
   "source": [
    "-- Ejercicio SELF JOIN con ALIAS\n",
    "SELECT \n",
    "    j1.nombre AS Jugador,\n",
    "    j1.nacionalidad AS Nacionalidad,\n",
    "    j1.equipo_id AS Equipo,\n",
    "    j2.nombre AS Compañero\n",
    "FROM \n",
    "    Jugadores j1\n",
    "JOIN \n",
    "    Jugadores j2 ON j1.equipo_id = j2.equipo_id\n",
    "                 AND j1.nacionalidad = j2.nacionalidad\n",
    "                 AND j1.id <> j2.id\n",
    "ORDER BY \n",
    "    j1.equipo_id, j1.nacionalidad, j1.nombre;\n"
   ]
  },
  {
   "cell_type": "markdown",
   "metadata": {},
   "source": [
    "### Explicación de la consulta:\n",
    "\n",
    "- `Jugadores j1` y `Jugadores j2` son alias para la misma tabla `Jugadores`.\n",
    "- La condición `j1.equipo_id = j2.equipo_id` asegura que ambos jugadores están en el mismo equipo.\n",
    "- La condición `j1.nacionalidad = j2.nacionalidad` asegura que ambos jugadores tienen la misma nacionalidad.\n",
    "- La condición `j1.id <> j2.id` evita que un jugador sea emparejado consigo mismo.\n",
    "- Se seleccionan y se muestran los nombres de los jugadores (`j1.nombre` y `j2.nombre`), su nacionalidad (`j1.nacionalidad`), y el equipo al que pertenecen (`j1.equipo_id`).\n",
    "- Se ordena la salida por `equipo_id`, `nacionalidad`, y `nombre` para facilitar la lectura de los resultados.\n",
    "\n",
    "### Resultado Esperado:\n",
    "\n",
    "La consulta debería devolver una lista de jugadores con sus compañeros del mismo equipo y nacionalidad. Aquí hay un ejemplo hipotético del resultado:\n",
    "\n",
    "```\n",
    "+-----------------------+-------------+--------+-----------------------+\n",
    "| Jugador               | Nacionalidad| Equipo | Compañero             |\n",
    "+-----------------------+-------------+--------+-----------------------+\n",
    "| Gerard Piqué          | Española    | 1      | Sergio Busquets       |\n",
    "| Sergio Busquets       | Española    | 1      | Gerard Piqué          |\n",
    "| Lionel Messi          | Argentina   | 1      | NULL                  |\n",
    "| Thibaut Courtois      | Belga       | 2      | NULL                  |\n",
    "| Sergio Ramos          | Española    | 2      | NULL                  |\n",
    "| Luka Modrić           | Croata      | 2      | NULL                  |\n",
    "| Karim Benzema         | Francesa    | 2      | NULL                  |\n",
    "| Jan Oblak             | Eslovena    | 3      | NULL                  |\n",
    "| Stefan Savić          | Montenegrina| 3      | NULL                  |\n",
    "| Koke                  | Española    | 3      | NULL                  |\n",
    "| Luis Suárez           | Uruguaya    | 3      | NULL                  |\n",
    "+-----------------------+-------------+--------+-----------------------+\n",
    "```\n",
    "\n",
    "### Prueba del Ejercicio:\n",
    "\n",
    "Ejecuta la consulta en tu base de datos `LigaEspanola` y verifica los resultados. Intenta modificar los datos en las tablas para ver cómo cambian los resultados del `SELF JOIN`. Esto te ayudará a entender mejor cómo funcionan los `SELF JOIN` y `ALIAS`."
   ]
  }
 ],
 "metadata": {
  "kernelspec": {
   "display_name": "Python 3 (ipykernel)",
   "language": "python",
   "name": "python3"
  },
  "language_info": {
   "codemirror_mode": {
    "name": "ipython",
    "version": 3
   },
   "file_extension": ".py",
   "mimetype": "text/x-python",
   "name": "python",
   "nbconvert_exporter": "python",
   "pygments_lexer": "ipython3",
   "version": "3.11.7"
  }
 },
 "nbformat": 4,
 "nbformat_minor": 2
}
