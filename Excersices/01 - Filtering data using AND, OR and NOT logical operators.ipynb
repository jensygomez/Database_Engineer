{
 "cells": [
  {
   "cell_type": "markdown",
   "metadata": {},
   "source": [
    "**Author:**       Jensy Gregorio Gómez \n",
    "---------------------------------------\n",
    "**Profession:**  IT Support Analyst | NOC | Database Administrator\n",
    "\n",
    "**Date:**         20 Junio 2024    \n",
    "\n",
    "**Modified**  22 Junio 2024 --> 26 Junio 2024\n",
    "\n",
    "**Location:**     Vila Izabel, Curitiba/PR  \n",
    "\n",
    "\n",
    "---\n",
    "\n",
    "**Contacto:**\n",
    "\n",
    "- **Email:** [contact@jensygomez.us](mailto:contact@jensygomez.us)\n",
    "- **YouTube:** [Tu Canal de YouTube](https://www.youtube.com/@systechcwb826)\n",
    "- **LinkedIn:** [Tu Perfil de LinkedIn](https://www.linkedin.com/in/jensygomez/)\n",
    "\n",
    "\n"
   ]
  },
  {
   "cell_type": "markdown",
   "metadata": {},
   "source": [
    "# **Ejercicio: 01 - Filtering data using AND, OR and NOT logical operators**"
   ]
  },
  {
   "cell_type": "code",
   "execution_count": null,
   "metadata": {
    "vscode": {
     "languageId": "sql"
    }
   },
   "outputs": [],
   "source": [
    "\n",
    "-- Consulta 1: Selecciona el nombre del cliente y la suma total pagada por cada cliente\n",
    "SELECT \n",
    "    customers.customerName AS 'Nombre del Cliente', \n",
    "    SUM(payments.amount) AS 'Total Pagado'\n",
    "-- Desde la tabla de clientes y pagos\n",
    "FROM \n",
    "    customers\n",
    "JOIN \n",
    "    payments ON customers.customerNumber = payments.customerNumber\n",
    "-- Filtra solo clientes ubicados en Estados Unidos\n",
    "WHERE \n",
    "    customers.country = 'USA'\n",
    "-- Agrupa los resultados por el nombre del cliente\n",
    "GROUP BY \n",
    "    customers.customerName\n",
    "-- Filtra los resultados donde la suma total pagada sea mayor a 10,000\n",
    "HAVING \n",
    "    SUM(payments.amount) > 10000\n",
    "-- Ordena los resultados en orden descendente por el total pagado\n",
    "ORDER BY \n",
    "    SUM(payments.amount) DESC;\n",
    "\n"
   ]
  },
  {
   "cell_type": "code",
   "execution_count": null,
   "metadata": {
    "vscode": {
     "languageId": "sql"
    }
   },
   "outputs": [],
   "source": [
    "-- Consulta 2: Selecciona el nombre del producto, precio de compra, precio sugerido de venta\n",
    "-- y la descripción de la línea de productos\n",
    "SELECT \n",
    "    products.productName AS 'Nombre del Producto', \n",
    "    products.buyPrice AS 'Precio de Compra', \n",
    "    products.MSRP AS 'Precio Sugerido de Venta',\n",
    "    productlines.textDescription AS 'Descripción de la Línea de Productos'\n",
    "FROM \n",
    "    products\n",
    "-- Une la tabla de productos con la tabla de líneas de productos\n",
    "JOIN \n",
    "    productlines ON products.productLine = productlines.productLine\n",
    "WHERE \n",
    "    -- Filtra productos donde el precio de compra sea mayor que el precio sugerido de venta\n",
    "    products.buyPrice > products.MSRP\n",
    "    -- Filtra líneas de productos cuya descripción en texto contenga la palabra 'Classic'\n",
    "    AND productlines.textDescription LIKE '%Classic%';\n",
    "\n",
    "\n"
   ]
  },
  {
   "cell_type": "code",
   "execution_count": null,
   "metadata": {
    "vscode": {
     "languageId": "sql"
    }
   },
   "outputs": [],
   "source": [
    "-- Consulta 3: Selecciona los nombres y apellidos de los empleados, su cargo y la ubicación de la oficina\n",
    "SELECT \n",
    "    employees.firstName AS 'First Name',\n",
    "    employees.lastName AS 'Last Name',\n",
    "    employees.jobTitle AS 'Job Title',\n",
    "    offices.city AS 'Office City',\n",
    "    offices.country AS 'Office Country'\n",
    "FROM \n",
    "    employees\n",
    "-- Une la tabla de empleados con la tabla de oficinas usando el código de oficina\n",
    "JOIN \n",
    "    offices ON employees.officeCode = offices.officeCode\n",
    "-- Filtra para incluir solo oficinas ubicadas en Estados Unidos o Francia y empleados con cargo que contiene \"Manager\"\n",
    "WHERE \n",
    "    (offices.country = 'USA' OR offices.country = 'France')\n",
    "    AND employees.jobTitle LIKE '%Manager%'  \n",
    "-- Ordena los resultados por número de empleado en orden descendente\n",
    "ORDER BY \n",
    "    employees.employeeNumber DESC;\n",
    "\n"
   ]
  }
 ],
 "metadata": {
  "kernelspec": {
   "display_name": "Python 3 (ipykernel)",
   "language": "python",
   "name": "python3"
  },
  "language_info": {
   "codemirror_mode": {
    "name": "ipython",
    "version": 3
   },
   "file_extension": ".py",
   "mimetype": "text/x-python",
   "name": "python",
   "nbconvert_exporter": "python",
   "pygments_lexer": "ipython3",
   "version": "3.10.12"
  }
 },
 "nbformat": 4,
 "nbformat_minor": 2
}
