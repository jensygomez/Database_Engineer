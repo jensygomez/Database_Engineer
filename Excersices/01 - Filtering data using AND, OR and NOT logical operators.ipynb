{
 "cells": [
  {
   "cell_type": "markdown",
   "metadata": {},
   "source": [
    "**Author:**       Jensy Gregorio Gómez \n",
    "---------------------------------------\n",
    "**Profession:**  IT Support Analyst | NOC | Database Administrator\n",
    "\n",
    "**Date:**         20 Junio 2024    \n",
    "\n",
    "**Modified**  22 Junio 2024 --> 26 Junio 2024\n",
    "\n",
    "**Location:**     Vila Izabel, Curitiba/PR  \n",
    "\n",
    "\n",
    "---\n",
    "\n",
    "**Contacto:**\n",
    "\n",
    "- **Email:** [contact@jensygomez.us](mailto:contact@jensygomez.us)\n",
    "- **YouTube:** [Tu Canal de YouTube](https://www.youtube.com/@systechcwb826)\n",
    "- **LinkedIn:** [Tu Perfil de LinkedIn](https://www.linkedin.com/in/jensygomez/)\n",
    "\n",
    "\n"
   ]
  },
  {
   "cell_type": "markdown",
   "metadata": {},
   "source": [
    "# **Ejercicio: Filtrado de Jugadores por Posición y Nacionalidad**\n",
    "\n",
    "Supongamos que queremos obtener información específica de los jugadores de la Liga Española. A continuación, se plantean varias consultas que deberás completar usando los operadores lógicos y alias adecuadamente:"
   ]
  },
  {
   "cell_type": "code",
   "execution_count": null,
   "metadata": {
    "vscode": {
     "languageId": "sql"
    }
   },
   "outputs": [],
   "source": [
    "\n",
    "-- Consulta 1: Jugadores que son Porteros o Defensas de Nacionalidad Española\n",
    "SELECT \n",
    "    Jugadores.nombre AS 'Nombre del Jugador', \n",
    "    Jugadores.fecha_nacimiento AS 'Fecha de Nacimiento', \n",
    "    Posiciones.nombre AS 'Posición'\n",
    "FROM \n",
    "    Jugadores\n",
    "JOIN \n",
    "    Posiciones ON Jugadores.posicion_id = Posiciones.id\n",
    "WHERE \n",
    "    (Posiciones.nombre = 'Portero' OR Posiciones.nombre = 'Defensa')\n",
    "    AND Jugadores.nacionalidad = 'Española';\n",
    "\n"
   ]
  },
  {
   "cell_type": "code",
   "execution_count": null,
   "metadata": {
    "vscode": {
     "languageId": "sql"
    }
   },
   "outputs": [],
   "source": [
    "-- Consulta 2: Jugadores que no son Delanteros y no tienen Nacionalidad Española\n",
    "SELECT \n",
    "    Jugadores.nombre AS 'Nombre del Jugador', \n",
    "    Jugadores.fecha_nacimiento AS 'Fecha de Nacimiento', \n",
    "    Posiciones.nombre AS 'Posición'\n",
    "FROM \n",
    "    Jugadores\n",
    "JOIN \n",
    "    Posiciones ON Jugadores.posicion_id = Posiciones.id\n",
    "WHERE \n",
    "    NOT (Posiciones.nombre = 'Delantero')\n",
    "    AND Jugadores.nacionalidad != 'Española';\n",
    "\n"
   ]
  },
  {
   "cell_type": "code",
   "execution_count": null,
   "metadata": {
    "vscode": {
     "languageId": "sql"
    }
   },
   "outputs": [],
   "source": [
    "-- Consulta 3: Jugadores que son Delanteros o Centrocampistas y tienen Nacionalidad Argentina o Brasileña\n",
    "SELECT \n",
    "    Jugadores.nombre AS 'Nombre del Jugador', \n",
    "    Jugadores.fecha_nacimiento AS 'Fecha de Nacimiento', \n",
    "    Posiciones.nombre AS 'Posición'\n",
    "FROM \n",
    "    Jugadores \n",
    "JOIN \n",
    "    Posiciones ON Jugadores.posicion_id = Posiciones.id\n",
    "WHERE \n",
    "    (Posiciones.nombre = 'Delantero' OR Posiciones.nombre = 'Centrocampista')\n",
    "    AND (Jugadores.nacionalidad = 'Argentina' OR Jugadores.nacionalidad = 'Brasilera');\n",
    "\n"
   ]
  },
  {
   "cell_type": "markdown",
   "metadata": {},
   "source": [
    "## En estos ejemplos:\n",
    "\n",
    "- Se usa `JOIN` para unir la tabla `Jugadores` con la tabla `Posiciones` usando el `id` de la posición.\n",
    "- Se emplean alias (`j` para `Jugadores` y `p` para `Posiciones`) para simplificar la escritura de la consulta y mejorar la legibilidad.\n",
    "- Se aplican los operadores lógicos `AND`, `OR` y `NOT` para filtrar los datos según las condiciones especificadas.\n",
    "- Se seleccionan columnas específicas (`nombre`, `fecha_nacimiento`, `nombre de posición`) y se les asignan alias en la cláusula `SELECT`.\n",
    "\n",
    "Estos ejercicios te ayudarán a practicar el uso de operadores lógicos en combinación con alias para realizar consultas SQL más complejas y específicas. ¡Espero que te sean útiles! Si tienes más preguntas o quieres explorar otros aspectos, no dudes en preguntar."
   ]
  }
 ],
 "metadata": {
  "kernelspec": {
   "display_name": "Python 3 (ipykernel)",
   "language": "python",
   "name": "python3"
  },
  "language_info": {
   "codemirror_mode": {
    "name": "ipython",
    "version": 3
   },
   "file_extension": ".py",
   "mimetype": "text/x-python",
   "name": "python",
   "nbconvert_exporter": "python",
   "pygments_lexer": "ipython3",
   "version": "3.10.12"
  }
 },
 "nbformat": 4,
 "nbformat_minor": 2
}
