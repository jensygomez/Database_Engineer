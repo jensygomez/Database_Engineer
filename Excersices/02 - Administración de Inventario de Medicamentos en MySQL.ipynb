{
 "cells": [
  {
   "cell_type": "markdown",
   "metadata": {},
   "source": [
    "**Author:**       Jensy Gregorio Gómez \n",
    "---------------------------------------\n",
    "**Profession:**  IT Support Analyst and Automatation with Python\n",
    "\n",
    "**Date:**         15 May 2024     \n",
    "\n",
    "**Modified**  15 May 2024\n",
    "\n",
    "**Location:**     Vila Izabel, Curitiba/PR  \n",
    "\n",
    "\n",
    "---\n",
    "\n",
    "**Contacto:**\n",
    "\n",
    "- **Email:** [contact@jensygomez.us](mailto:contact@jensygomez.us)\n",
    "- **YouTube:** [Tu Canal de YouTube](https://www.youtube.com/@systechcwb826)\n",
    "- **LinkedIn:** [Tu Perfil de LinkedIn](https://www.linkedin.com/in/jensygomez/)\n",
    "\n",
    "\n"
   ]
  },
  {
   "cell_type": "markdown",
   "metadata": {},
   "source": [
    "**Título:** \n",
    "# Administración de Inventario de Medicamentos en MySQL\n",
    "\n",
    "**Escenario:** Una farmacia necesita administrar su inventario de medicamentos. Se requiere un sistema que genere productos aleatorios con información como nombre del medicamento, laboratorio, precio y stock, y los almacene en una base de datos MySQL.\n",
    "\n",
    "**Pasos a seguir:**\n",
    "1. **Establecimiento de la conexión:** Se importa el módulo pymysql para interactuar con la base de datos MySQL y se establece la conexión con la base de datos utilizando los datos de conexión proporcionados.\n",
    "   \n",
    "2. **Creación de la tabla:** Se crea una tabla llamada \"productos\" en la base de datos si no existe. Esta tabla contendrá los campos id (identificador único), nombre del medicamento, laboratorio, precio y stock.\n",
    "   \n",
    "3. **Generación de productos aleatorios:** Se generan productos aleatorios con nombres, laboratorios, precios y cantidades de stock aleatorios.\n",
    "   \n",
    "4. **Inserción en la base de datos:** Los productos generados se insertan en la tabla \"productos\" de la base de datos MySQL.\n",
    "   \n",
    "5. **Cierre de la conexión:** Se cierra la conexión con la base de datos una vez que se han insertado todos los productos.\n"
   ]
  },
  {
   "cell_type": "markdown",
   "metadata": {},
   "source": [
    "***\n",
    "***"
   ]
  },
  {
   "cell_type": "markdown",
   "metadata": {},
   "source": [
    "***\n",
    "***\n",
    "#### Bloque 1: Importaciones y definición de diccionarios:\n",
    "\n",
    "En el siguiente bloque de código, se importa el módulo **pymysql** para facilitar el trabajo con bases de datos MySQL y el módulo **random** para la generación de datos aleatorios.\n",
    "\n",
    "Se definen dos estructuras de datos clave: un **diccionario** que mapea identificadores de medicamentos a sus nombres correspondientes, lo que facilita la manipulación de datos relacionados con medicamentos, y una **lista** de nombres de laboratorios farmacéuticos. \n",
    "\n",
    "Este conjunto de datos proporciona una base sólida para realizar operaciones de **manipulación de datos** en el contexto de una aplicación relacionada con la industria farmacéutica."
   ]
  },
  {
   "cell_type": "code",
   "execution_count": 1,
   "metadata": {},
   "outputs": [
    {
     "name": "stdout",
     "output_type": "stream",
     "text": [
      "ejecutado perfectamente\n"
     ]
    }
   ],
   "source": [
    "# Importa el módulo \"pymysql\" para trabajar con bases de datos MySQL\n",
    "\n",
    "# Importa el módulo \"random\" para generar números pseudoaleatorios\n",
    "\n",
    "\n",
    "# Diccionario de \"nombres_medicamentos\" con identificadores\n",
    "# Diccionario que asigna números enteros a nombres de medicamentos.\n",
    "# Cada número está asociado a un medicamento específico, permitiendo una fácil referencia.\n",
    "\n",
    "\n",
    "# Lista de \"laboratorios\" farmacéuticos\n",
    "# Lista que contiene nombres de laboratorios farmacéuticos.\n",
    "# Estos nombres representan a algunas de las principales empresas farmacéuticas a nivel mundial.\n"
   ]
  },
  {
   "cell_type": "markdown",
   "metadata": {},
   "source": [
    "***\n",
    "***\n",
    "#### Bloque 2: Funciones para generar datos aleatorios:\n",
    "\n",
    "  \n",
    "Aquí se presenta el **Bloque 2** de funciones esenciales para la generación de datos aleatorios. Estas funciones son fundamentales para simular datos realistas en diversos contextos. La función **generar_nombre_aleatorio()** es crucial para obtener nombres de medicamentos al azar de una lista predefinida, mientras que **generar_precio_aleatorio()** calcula precios aleatorios dentro de un rango específico, y **generar_stock_aleatorio()** proporciona cantidades aleatorias de inventario, lo que simula las fluctuaciones típicas del stock. Una vez definidas estas funciones, el programa imprime un mensaje de confirmación, indicando que se ha ejecutado correctamente."
   ]
  },
  {
   "cell_type": "code",
   "execution_count": null,
   "metadata": {},
   "outputs": [],
   "source": [
    "# Función para generar un nombre aleatorio de medicamento\n",
    "def generar_nombre_aleatorio():\n",
    "    return nombres_medicamentos[random.randint(1, len(nombres_medicamentos))]\n",
    "\n",
    "# Función para generar un precio aleatorio\n",
    "def generar_precio_aleatorio():\n",
    "    return round(random.uniform(1.0, 100.0), 2)\n",
    "\n",
    "# Función para generar una cantidad aleatoria de stock\n",
    "def generar_stock_aleatorio():\n",
    "    return random.randint(0, 100)\n",
    "\n",
    "print(\"ejecutado perfectamente\")"
   ]
  },
  {
   "cell_type": "markdown",
   "metadata": {},
   "source": [
    "***\n",
    "***\n",
    "#### Bloque 3: Conexión y creación de tabla en MySQL\n",
    "\n",
    "En el **Bloque 3**, se establece la **conexión** con una base de datos MySQL alojada en el servidor `sql10.freesqldatabase.com`, utilizando las credenciales del usuario `sql10705361`. Una vez establecida la conexión con éxito, se procede a **crear una tabla** denominada `medicamentos`. Esta tabla tiene columnas para el **id** (identificador único), **nombre** del medicamento, **laboratorio** fabricante, **precio** unitario y **stock** disponible. Este bloque encapsula dos funciones principales: `conectar_base_datos()` para la conexión inicial y `crear_tabla()` para la creación de la tabla."
   ]
  },
  {
   "cell_type": "code",
   "execution_count": null,
   "metadata": {},
   "outputs": [],
   "source": [
    "# Función para conectar a la base de datos MySQL\n",
    "def conectar_base_datos():\n",
    "    try:\n",
    "        # Establece una conexión a la base de datos MySQL        \n",
    "        connection = pymysql.connect(\n",
    "            host='sql10.freesqldatabase.com',\n",
    "            user='sql10705361',\n",
    "            password='HqKECAGFRn',\n",
    "            database='sql10705361'\n",
    "        )\n",
    "        print(\"Conexión establecida correctamente\")\n",
    "        return connection\n",
    "    except pymysql.Error as e:\n",
    "        print(\"Error al intentar conectarse a la Base de Datos:\", e)\n",
    "        return None\n",
    "\n",
    "# Crear conexión a la base de datos MySQL\n",
    "connection = conectar_base_datos()\n",
    "\n",
    "# Función para crear la tabla en MySQL\n",
    "def crear_tabla(connection):\n",
    "    try:\n",
    "        cursor = connection.cursor()\n",
    "        consulta = \"\"\"\n",
    "        CREATE TABLE IF NOT EXISTS medicamentos (\n",
    "            id INT AUTO_INCREMENT PRIMARY KEY,\n",
    "            nombre VARCHAR(255),\n",
    "            laboratorio VARCHAR(255),\n",
    "            precio DECIMAL(10, 2),\n",
    "            stock INT\n",
    "        )\n",
    "        \"\"\"\n",
    "        cursor.execute(consulta)\n",
    "        connection.commit()\n",
    "        print(\"Tabla creada correctamente\")\n",
    "        return cursor\n",
    "    except pymysql.Error as e:\n",
    "        print(\"Error al crear la tabla:\", e)\n",
    "        return None\n",
    "\n",
    "# Llamada a la función para crear la tabla en MySQL\n",
    "crear_tabla(connection)\n",
    "\n"
   ]
  },
  {
   "cell_type": "markdown",
   "metadata": {},
   "source": [
    "***\n",
    "***\n",
    "#### Bloque 4: Función para llenar la base de datos con productos:\n",
    "\n",
    "Aquí se presenta el **Bloque 4** de código, el cual consiste en una **función** diseñada para **llenar** la **base de datos** con **productos**. Esta función utiliza **palabras clave** como `generar_nombre_aleatorio`, `random.choice`, `INSERT INTO`, y `connection.commit`. Su propósito es generar una cantidad especificada de productos de manera aleatoria y almacenarlos en la base de datos. Para ejecutar esta función, simplemente se especifica la **cantidad** de productos a generar y se llama a la función `llenar_base_de_datos`, pasando como argumentos la **conexión** a la base de datos y la cantidad deseada."
   ]
  },
  {
   "cell_type": "code",
   "execution_count": null,
   "metadata": {},
   "outputs": [],
   "source": [
    "# Función para llenar la base de datos con productos\n",
    "def llenar_base_de_datos(connection, cantidad):\n",
    "    try:\n",
    "        cursor = connection.cursor()\n",
    "        for _ in range(cantidad):\n",
    "            nombre = generar_nombre_aleatorio()\n",
    "            laboratorio = random.choice(laboratorios)\n",
    "            precio = generar_precio_aleatorio()\n",
    "            stock = generar_stock_aleatorio()\n",
    "            cursor.execute('INSERT INTO medicamentos (nombre, laboratorio, precio, stock) VALUES (%s, %s, %s, %s)', (nombre, laboratorio, precio, stock))\n",
    "        \n",
    "        connection.commit()\n",
    "        print(\"Productos insertados correctamente.\")\n",
    "    except pymysql.Error as e:\n",
    "        print(\"Error al insertar productos en la tabla:\", e)\n",
    "\n",
    "# Llamada a la función para llenar la tabla en MySQL\n",
    "cantidad = 100  # Cantidad de productos a generar\n",
    "llenar_base_de_datos(connection, cantidad)\n",
    "\n"
   ]
  },
  {
   "cell_type": "markdown",
   "metadata": {},
   "source": [
    "***\n",
    "***\n",
    "#### Bloque 5: Cerrar la conexión a la base de datos:\n",
    "\n",
    "En el **Bloque 5**, se realiza una operación crucial: **cerrar la conexión** con la base de datos. Esta acción es fundamental para **mantener la integridad** de los datos y **optimizar el rendimiento** del sistema. Al utilizar el método `close()`, se asegura que los recursos asociados a la conexión sean liberados adecuadamente, evitando posibles **fugas de memoria** y **cuellos de botella** en la aplicación. Es esencial incorporar este paso al finalizar cualquier interacción con la base de datos para garantizar un **manejo eficiente** de los recursos del sistema."
   ]
  },
  {
   "cell_type": "code",
   "execution_count": 9,
   "metadata": {},
   "outputs": [],
   "source": [
    "# Cerrar la conexión a la base de datos\n",
    "connection.close()\n",
    "\n"
   ]
  },
  {
   "cell_type": "markdown",
   "metadata": {},
   "source": [
    "***\n",
    "***\n",
    "#### Bloque 6: Mostrar los datos de la base de datos\n",
    "En el **Bloque 6**, se presenta un conjunto de funciones en Python que permiten **conectar** y **mostrar** datos almacenados en una base de datos MySQL. Para establecer la conexión, se utiliza el módulo **pymysql**, mientras que para visualizar los datos en formato tabular, se emplea la función **tabulate**. La función **conectar_base_datos()** facilita la conexión con la base de datos, estableciendo los parámetros necesarios como el **host**, **usuario**, **contraseña** y **nombre de la base de datos**. Posteriormente, la función **mostrar_productos()** ejecuta una consulta SQL para obtener todos los registros de la tabla \"medicamentos\" y los muestra de manera ordenada en una tabla con encabezados definidos. Finalmente, se ejecutan estas funciones para conectar a la base de datos y mostrar los productos almacenados, seguido del cierre de la conexión."
   ]
  },
  {
   "cell_type": "code",
   "execution_count": null,
   "metadata": {},
   "outputs": [],
   "source": [
    "# Importar el módulo pymysql para trabajar con bases de datos MySQL\n",
    "import pymysql\n",
    "from tabulate import tabulate\n",
    "\n",
    "# Función para conectar a la base de datos MySQL\n",
    "def conectar_base_datos():\n",
    "    try:\n",
    "        # Establece una conexión a la base de datos MySQL        \n",
    "        connection = pymysql.connect(\n",
    "            host='sql10.freesqldatabase.com',\n",
    "            user='sql10705361',\n",
    "            password='HqKECAGFRn',\n",
    "            database='sql10705361'\n",
    "        )\n",
    "        print(\"Conexión establecida correctamente\")\n",
    "        return connection\n",
    "    except pymysql.Error as e:\n",
    "        print(\"Error al intentar conectarse a la Base de Datos:\", e)\n",
    "        return None\n",
    "\n",
    "# Función para obtener y mostrar los productos en formato de tabla\n",
    "def mostrar_productos(connection):\n",
    "    try:\n",
    "        # Crear un cursor para ejecutar consultas\n",
    "        cursor = connection.cursor()\n",
    "\n",
    "        # Ejecutar una consulta SQL\n",
    "        cursor.execute(\"SELECT * FROM medicamentos\")\n",
    "\n",
    "        # Obtener todos los resultados de la consulta\n",
    "        resultados = cursor.fetchall()\n",
    "\n",
    "        # Crear una lista de encabezados para la tabla\n",
    "        encabezados = [\"ID\", \"Nombre\", \"Laboratorio\", \"Precio\", \"Stock\"]\n",
    "\n",
    "        # Imprimir los resultados en formato de tabla\n",
    "        print(tabulate(resultados, headers=encabezados, tablefmt=\"grid\"))\n",
    "\n",
    "        # Cerrar el cursor\n",
    "        cursor.close()\n",
    "    except pymysql.Error as e:\n",
    "        print(\"Error al ejecutar la consulta:\", e)\n",
    "\n",
    "# Conectar a la base de datos\n",
    "connection = conectar_base_datos()\n",
    "\n",
    "# Mostrar los productos\n",
    "if connection:\n",
    "    mostrar_productos(connection)\n",
    "    # Cerrar la conexión\n",
    "    connection.close()\n",
    "\n",
    "\n"
   ]
  },
  {
   "cell_type": "markdown",
   "metadata": {},
   "source": [
    "***\n",
    "***\n",
    "***\n",
    "***"
   ]
  }
 ],
 "metadata": {
  "kernelspec": {
   "display_name": "Python 3 (ipykernel)",
   "language": "python",
   "name": "python3"
  },
  "language_info": {
   "codemirror_mode": {
    "name": "ipython",
    "version": 3
   },
   "file_extension": ".py",
   "mimetype": "text/x-python",
   "name": "python",
   "nbconvert_exporter": "python",
   "pygments_lexer": "ipython3",
   "version": "3.11.7"
  }
 },
 "nbformat": 4,
 "nbformat_minor": 2
}
