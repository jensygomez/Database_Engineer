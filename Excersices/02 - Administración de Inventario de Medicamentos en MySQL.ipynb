{
 "cells": [
  {
   "cell_type": "markdown",
   "metadata": {},
   "source": [
    "**Author:**       Jensy Gregorio Gómez \n",
    "---------------------------------------\n",
    "**Profession:**  IT Support Analyst and Automatation with Python\n",
    "\n",
    "**Date:**         15 May 2024     \n",
    "\n",
    "**Modified**  15 May 2024\n",
    "\n",
    "**Location:**     Vila Izabel, Curitiba/PR  \n",
    "\n",
    "\n",
    "---\n",
    "\n",
    "**Contacto:**\n",
    "\n",
    "- **Email:** [contact@jensygomez.us](mailto:contact@jensygomez.us)\n",
    "- **YouTube:** [Tu Canal de YouTube](https://www.youtube.com/@systechcwb826)\n",
    "- **LinkedIn:** [Tu Perfil de LinkedIn](https://www.linkedin.com/in/jensygomez/)\n",
    "\n",
    "\n"
   ]
  },
  {
   "cell_type": "markdown",
   "metadata": {},
   "source": [
    "**Título:** \n",
    "# Administración de Inventario de Medicamentos en MySQL\n",
    "\n",
    "**Escenario:** Una farmacia necesita administrar su inventario de medicamentos. Se requiere un sistema que genere productos aleatorios con información como nombre del medicamento, laboratorio, precio y stock, y los almacene en una base de datos MySQL.\n",
    "\n",
    "**Pasos a seguir:**\n",
    "1. **Establecimiento de la conexión:** Se importa el módulo pymysql para interactuar con la base de datos MySQL y se establece la conexión con la base de datos utilizando los datos de conexión proporcionados.\n",
    "   \n",
    "2. **Creación de la tabla:** Se crea una tabla llamada \"productos\" en la base de datos si no existe. Esta tabla contendrá los campos id (identificador único), nombre del medicamento, laboratorio, precio y stock.\n",
    "   \n",
    "3. **Generación de productos aleatorios:** Se generan productos aleatorios con nombres, laboratorios, precios y cantidades de stock aleatorios.\n",
    "   \n",
    "4. **Inserción en la base de datos:** Los productos generados se insertan en la tabla \"productos\" de la base de datos MySQL.\n",
    "   \n",
    "5. **Cierre de la conexión:** Se cierra la conexión con la base de datos una vez que se han insertado todos los productos.\n"
   ]
  },
  {
   "cell_type": "markdown",
   "metadata": {},
   "source": [
    "***\n",
    "***"
   ]
  },
  {
   "cell_type": "markdown",
   "metadata": {},
   "source": [
    "***\n",
    "***\n",
    "#### Bloque 1: Importaciones y definición de diccionarios:"
   ]
  },
  {
   "cell_type": "code",
   "execution_count": 5,
   "metadata": {},
   "outputs": [
    {
     "name": "stdout",
     "output_type": "stream",
     "text": [
      "ejecutado perfectamente\n"
     ]
    }
   ],
   "source": [
    "# Importa el módulo pymysql para trabajar con bases de datos MySQL\n",
    "import pymysql\n",
    "import random\n",
    "\n",
    "# Diccionario de nombres de medicamentos con identificadores\n",
    "nombres_medicamentos = {\n",
    "    1: 'Paracetamol', 2: 'Ibuprofeno', 3: 'Amoxicilina', 4: 'Omeprazol', 5: 'Loratadina',\n",
    "    6: 'Aspirina', 7: 'Diazepam', 8: 'Atorvastatina', 9: 'Metformina', 10: 'Hidroclorotiazida',\n",
    "    11: 'Ranitidina', 12: 'Sertralina', 13: 'Clonazepam', 14: 'Tramadol', 15: 'Metronidazol',\n",
    "    16: 'Cetirizina', 17: 'Fluoxetina', 18: 'Losartán', 19: 'Escitalopram', 20: 'Furosemida'\n",
    "}\n",
    "\n",
    "# Lista de laboratorios farmacéuticos\n",
    "laboratorios = [\n",
    "    'Pfizer', 'Novartis', 'Roche', 'Merck', 'GSK',\n",
    "    'Bayer', 'AbbVie', 'Sanofi', 'Johnson & Johnson', 'AstraZeneca'\n",
    "]\n",
    "print(\"ejecutado perfectamente\")"
   ]
  },
  {
   "cell_type": "markdown",
   "metadata": {},
   "source": [
    "***\n",
    "***\n",
    "#### Bloque 2: Funciones para generar datos aleatorios:"
   ]
  },
  {
   "cell_type": "code",
   "execution_count": 6,
   "metadata": {},
   "outputs": [
    {
     "name": "stdout",
     "output_type": "stream",
     "text": [
      "ejecutado perfectamente\n"
     ]
    }
   ],
   "source": [
    "# Función para generar un nombre aleatorio de medicamento\n",
    "def generar_nombre_aleatorio():\n",
    "    return nombres_medicamentos[random.randint(1, len(nombres_medicamentos))]\n",
    "\n",
    "# Función para generar un precio aleatorio\n",
    "def generar_precio_aleatorio():\n",
    "    return round(random.uniform(1.0, 100.0), 2)\n",
    "\n",
    "# Función para generar una cantidad aleatoria de stock\n",
    "def generar_stock_aleatorio():\n",
    "    return random.randint(0, 100)\n",
    "\n",
    "print(\"ejecutado perfectamente\")"
   ]
  },
  {
   "cell_type": "markdown",
   "metadata": {},
   "source": [
    "***\n",
    "***\n",
    "#### Bloque 3: Conexión y creación de tabla en MySQL"
   ]
  },
  {
   "cell_type": "code",
   "execution_count": 7,
   "metadata": {},
   "outputs": [
    {
     "name": "stdout",
     "output_type": "stream",
     "text": [
      "Conexión establecida correctamente\n",
      "Tabla creada correctamente\n"
     ]
    },
    {
     "data": {
      "text/plain": [
       "<pymysql.cursors.Cursor at 0x21a1a23e5d0>"
      ]
     },
     "execution_count": 7,
     "metadata": {},
     "output_type": "execute_result"
    }
   ],
   "source": [
    "# Función para conectar a la base de datos MySQL\n",
    "def conectar_base_datos():\n",
    "    try:\n",
    "        # Establece una conexión a la base de datos MySQL        \n",
    "        connection = pymysql.connect(\n",
    "            host='sql10.freesqldatabase.com',\n",
    "            user='sql10705361',\n",
    "            password='HqKECAGFRn',\n",
    "            database='sql10705361'\n",
    "        )\n",
    "        print(\"Conexión establecida correctamente\")\n",
    "        return connection\n",
    "    except pymysql.Error as e:\n",
    "        print(\"Error al intentar conectarse a la Base de Datos:\", e)\n",
    "        return None\n",
    "\n",
    "# Crear conexión a la base de datos MySQL\n",
    "connection = conectar_base_datos()\n",
    "\n",
    "# Función para crear la tabla en MySQL\n",
    "def crear_tabla(connection):\n",
    "    try:\n",
    "        cursor = connection.cursor()\n",
    "        consulta = \"\"\"\n",
    "        CREATE TABLE IF NOT EXISTS medicamentos (\n",
    "            id INT AUTO_INCREMENT PRIMARY KEY,\n",
    "            nombre VARCHAR(255),\n",
    "            laboratorio VARCHAR(255),\n",
    "            precio DECIMAL(10, 2),\n",
    "            stock INT\n",
    "        )\n",
    "        \"\"\"\n",
    "        cursor.execute(consulta)\n",
    "        connection.commit()\n",
    "        print(\"Tabla creada correctamente\")\n",
    "        return cursor\n",
    "    except pymysql.Error as e:\n",
    "        print(\"Error al crear la tabla:\", e)\n",
    "        return None\n",
    "\n",
    "# Llamada a la función para crear la tabla en MySQL\n",
    "crear_tabla(connection)\n",
    "\n"
   ]
  },
  {
   "cell_type": "markdown",
   "metadata": {},
   "source": [
    "***\n",
    "***\n",
    "#### Bloque 4: Función para llenar la base de datos con productos:"
   ]
  },
  {
   "cell_type": "code",
   "execution_count": 8,
   "metadata": {},
   "outputs": [
    {
     "name": "stdout",
     "output_type": "stream",
     "text": [
      "Productos insertados correctamente.\n"
     ]
    }
   ],
   "source": [
    "# Función para llenar la base de datos con productos\n",
    "def llenar_base_de_datos(connection, cantidad):\n",
    "    try:\n",
    "        cursor = connection.cursor()\n",
    "        for _ in range(cantidad):\n",
    "            nombre = generar_nombre_aleatorio()\n",
    "            laboratorio = random.choice(laboratorios)\n",
    "            precio = generar_precio_aleatorio()\n",
    "            stock = generar_stock_aleatorio()\n",
    "            cursor.execute('INSERT INTO medicamentos (nombre, laboratorio, precio, stock) VALUES (%s, %s, %s, %s)', (nombre, laboratorio, precio, stock))\n",
    "        \n",
    "        connection.commit()\n",
    "        print(\"Productos insertados correctamente.\")\n",
    "    except pymysql.Error as e:\n",
    "        print(\"Error al insertar productos en la tabla:\", e)\n",
    "\n",
    "# Llamada a la función para llenar la tabla en MySQL\n",
    "cantidad = 100  # Cantidad de productos a generar\n",
    "llenar_base_de_datos(connection, cantidad)\n",
    "\n"
   ]
  },
  {
   "cell_type": "markdown",
   "metadata": {},
   "source": [
    "***\n",
    "***\n",
    "#### Bloque 5: Cerrar la conexión a la base de datos:"
   ]
  },
  {
   "cell_type": "code",
   "execution_count": 9,
   "metadata": {},
   "outputs": [],
   "source": [
    "# Cerrar la conexión a la base de datos\n",
    "connection.close()\n",
    "\n"
   ]
  },
  {
   "cell_type": "markdown",
   "metadata": {},
   "source": [
    "***\n",
    "***\n",
    "#### Bloque 6: Mostrar los datos de la base de datos"
   ]
  },
  {
   "cell_type": "code",
   "execution_count": null,
   "metadata": {},
   "outputs": [],
   "source": [
    "# Importar el módulo pymysql para trabajar con bases de datos MySQL\n",
    "import pymysql\n",
    "from tabulate import tabulate\n",
    "\n",
    "# Función para conectar a la base de datos MySQL\n",
    "def conectar_base_datos():\n",
    "    try:\n",
    "        # Establece una conexión a la base de datos MySQL        \n",
    "        connection = pymysql.connect(\n",
    "            host='sql10.freesqldatabase.com',\n",
    "            user='sql10705361',\n",
    "            password='HqKECAGFRn',\n",
    "            database='sql10705361'\n",
    "        )\n",
    "        print(\"Conexión establecida correctamente\")\n",
    "        return connection\n",
    "    except pymysql.Error as e:\n",
    "        print(\"Error al intentar conectarse a la Base de Datos:\", e)\n",
    "        return None\n",
    "\n",
    "# Función para obtener y mostrar los productos en formato de tabla\n",
    "def mostrar_productos(connection):\n",
    "    try:\n",
    "        # Crear un cursor para ejecutar consultas\n",
    "        cursor = connection.cursor()\n",
    "\n",
    "        # Ejecutar una consulta SQL\n",
    "        cursor.execute(\"SELECT * FROM medicamentos\")\n",
    "\n",
    "        # Obtener todos los resultados de la consulta\n",
    "        resultados = cursor.fetchall()\n",
    "\n",
    "        # Crear una lista de encabezados para la tabla\n",
    "        encabezados = [\"ID\", \"Nombre\", \"Laboratorio\", \"Precio\", \"Stock\"]\n",
    "\n",
    "        # Imprimir los resultados en formato de tabla\n",
    "        print(tabulate(resultados, headers=encabezados, tablefmt=\"grid\"))\n",
    "\n",
    "        # Cerrar el cursor\n",
    "        cursor.close()\n",
    "    except pymysql.Error as e:\n",
    "        print(\"Error al ejecutar la consulta:\", e)\n",
    "\n",
    "# Conectar a la base de datos\n",
    "connection = conectar_base_datos()\n",
    "\n",
    "# Mostrar los productos\n",
    "if connection:\n",
    "    mostrar_productos(connection)\n",
    "    # Cerrar la conexión\n",
    "    connection.close()\n",
    "\n",
    "\n"
   ]
  },
  {
   "cell_type": "markdown",
   "metadata": {},
   "source": [
    "***\n",
    "***\n",
    "***\n",
    "***"
   ]
  }
 ],
 "metadata": {
  "kernelspec": {
   "display_name": "Python 3 (ipykernel)",
   "language": "python",
   "name": "python3"
  },
  "language_info": {
   "codemirror_mode": {
    "name": "ipython",
    "version": 3
   },
   "file_extension": ".py",
   "mimetype": "text/x-python",
   "name": "python",
   "nbconvert_exporter": "python",
   "pygments_lexer": "ipython3",
   "version": "3.11.7"
  }
 },
 "nbformat": 4,
 "nbformat_minor": 2
}
