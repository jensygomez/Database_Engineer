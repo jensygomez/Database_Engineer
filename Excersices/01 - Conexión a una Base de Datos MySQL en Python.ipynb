{
 "cells": [
  {
   "cell_type": "markdown",
   "metadata": {},
   "source": [
    "**Author:**       Jensy Gregorio Gómez \n",
    "---------------------------------------\n",
    "**Profession:**  IT Support Analyst and Automatation with Python and Data Analisys\n",
    "\n",
    "**Date:**         14 May 2024     \n",
    "\n",
    "**Modified**  15 May 2024\n",
    "\n",
    "**Location:**     Vila Izabel, Curitiba/PR  \n",
    "\n",
    "\n",
    "---\n",
    "\n",
    "**Contacto:**\n",
    "\n",
    "- **Email:** [contact@jensygomez.us](mailto:contact@jensygomez.us)\n",
    "- **YouTube:** [Tu Canal de YouTube](https://www.youtube.com/@systechcwb826)\n",
    "- **LinkedIn:** [Tu Perfil de LinkedIn](https://www.linkedin.com/in/jensygomez/)\n",
    "\n",
    "\n"
   ]
  },
  {
   "cell_type": "markdown",
   "metadata": {},
   "source": [
    "\n",
    "# Conexión a una Base de Datos MySQL en Python\n"
   ]
  },
  {
   "cell_type": "markdown",
   "metadata": {},
   "source": [
    "**1: Importación del módulo pymysql**\n",
    "\n",
    "Este bloque simplemente importa el módulo `pymysql`, que es necesario para trabajar con bases de datos MySQL en Python."
   ]
  },
  {
   "cell_type": "code",
   "execution_count": 1,
   "metadata": {},
   "outputs": [],
   "source": [
    "# Importa el módulo pymysql para trabajar con bases de datos MySQL\n",
    "\n"
   ]
  },
  {
   "cell_type": "markdown",
   "metadata": {},
   "source": [
    "**2: Definición de la función `conectar_base_datos()`**\n",
    "\n",
    "En este bloque se define una función llamada `conectar_base_datos()`. Esta función se encarga de establecer una conexión con una base de datos MySQL utilizando los parámetros de conexión proporcionados \n",
    "\n",
    "    host='sql10.freesqldatabase.com',\n",
    "    user='sql10705361',\n",
    "    password='HqKECAGFRn',\n",
    "    database='sql10705361'\n",
    "            \n",
    "Si la conexión es exitosa, imprime un mensaje indicando que la conexión se ha establecido correctamente y devuelve el objeto de conexión. En caso de que ocurra algún error durante la conexión, captura la excepción `pymysql.Error`, imprime un mensaje de error junto con el contenido de la excepción y devuelve `None`.\n",
    "\n"
   ]
  },
  {
   "cell_type": "code",
   "execution_count": 2,
   "metadata": {},
   "outputs": [],
   "source": [
    "# Define una función llamada conectar_base_datos\n",
    "\n",
    "    # Intenta ejecutar el bloque de código dentro del bloque try\n",
    "\n",
    "        # Establece una conexión a la base de datos MySQL \n",
    "        # a la variable \"connection\" asignale el modulo importado \"pymsql\" mas el metodo \"connect\"       \n",
    "\n",
    "\n",
    "        # Imprime un mensaje indicando que la conexión se ha establecido correctamente\n",
    "\n",
    "        # Devuelve el objeto \"connection\" de conexión a la base de datos\n",
    "\n",
    "    # Maneja excepciones de tipo pymysql.Error, almacenando la excepción en la variable 'e'\n",
    "\n",
    "        # Imprime un mensaje de error junto con el contenido de la excepción 'e'\n",
    "        # al intentar conectarse a la Base de Datos\n",
    "\n",
    "        # Retorna un valor nulo (None)\n",
    "\n"
   ]
  },
  {
   "cell_type": "markdown",
   "metadata": {},
   "source": [
    "**3: Llamada a la función `conectar_base_datos()`**\n",
    "\n",
    "En este bloque se llama a la función `conectar_base_datos()` para establecer una conexión a la base de datos. \n",
    "El objeto de conexión devuelto se asigna a la variable `connection`. \n",
    "Esto es lo que realmente inicia el proceso de conexión a la base de datos utilizando los parámetros proporcionados en el bloque 2."
   ]
  },
  {
   "cell_type": "code",
   "execution_count": 3,
   "metadata": {},
   "outputs": [
    {
     "name": "stdout",
     "output_type": "stream",
     "text": [
      "Connection established !!!!\n"
     ]
    }
   ],
   "source": [
    "# Llama a la función conectar_base_datos(), usando la variable \"connection\"\n",
    "# para establecer una conexión a la base de datos\n",
    "\n"
   ]
  },
  {
   "cell_type": "markdown",
   "metadata": {},
   "source": [
    "**Bloque 4: Definición de la función `cerrar_base_datos(connection, cursor=None)`**\n",
    "\n",
    "Esta función se encarga de cerrar la conexión a la base de datos y, opcionalmente, cerrar el cursor utilizado para ejecutar consultas. Aquí están los pasos que realiza:\n",
    "\n",
    "1. **Parámetros de entrada:** La función recibe dos parámetros: `connection` que es el objeto de conexión a la base de datos y `cursor` que es el cursor utilizado para ejecutar consultas (este último es opcional).\n",
    "\n",
    "2. **Intento de cierre:** La función intenta cerrar la conexión y, si se proporciona, también intenta cerrar el cursor.\n",
    "\n",
    "3. **Cierre del cursor y la conexión:** Si el cursor se proporciona, se cierra mediante el método `close()`. Luego, la conexión se cierra utilizando el método `close()` del objeto de conexión.\n",
    "\n",
    "4. **Mensaje de éxito:** Se imprime un mensaje indicando que la conexión se cerró correctamente.\n",
    "\n",
    "5. **Manejo de excepciones:** Si ocurre algún error durante el proceso de cierre, se captura la excepción `pymysql.Error`, se imprime un mensaje de error y se maneja adecuadamente.\n",
    "\n"
   ]
  },
  {
   "cell_type": "code",
   "execution_count": 6,
   "metadata": {},
   "outputs": [],
   "source": [
    "# Define una función llamada cerrar_base_datos que recibe dos parámetros:\n",
    "# \"connection\" es el objeto de conexión a la base de datos y\n",
    "# \"cursor\" es el cursor utilizado para ejecutar consultas (es opcional y por defecto es None)\n",
    "\n",
    "    # Intenta ejecutar el bloque de código dentro del bloque try\n",
    "\n",
    "        # Verifica SI el cursor existe o no\n",
    "\n",
    "            # Cierra el cursor utilizado para ejecutar consultas, utilizando el metodo \"close()\"\n",
    "\n",
    "        # Cierra la conexión \"connection\" a la base de datos utilizando el método \"close()\"\n",
    "\n",
    "        # Imprime un mensaje indicando que la conexión se cerró correctamente\n",
    "\n",
    "    # Captura la excepción \"except\" con pymysql.Error, almacenando la excepción en la variable 'e'\n",
    "\n",
    "        # Imprime un mensaje de error junto con el contenido de la excepción 'e'\n",
    "        # al intentar cerrar la conexión a la Base de Datos\n",
    "\n"
   ]
  },
  {
   "cell_type": "markdown",
   "metadata": {},
   "source": [
    "**Bloque 5: Llamada a la función `cerrar_base_datos(connection)`**\n",
    "\n",
    "En este bloque se llama a la función `cerrar_base_datos()` pasando como argumento el objeto de conexión `connection`. Esto cierra la conexión a la base de datos utilizando la función previamente definida. Si no se proporciona un cursor (que es el caso aquí), la función simplemente cierra la conexión y no intenta cerrar un cursor, ya que este es opcional."
   ]
  },
  {
   "cell_type": "code",
   "execution_count": 7,
   "metadata": {},
   "outputs": [
    {
     "name": "stdout",
     "output_type": "stream",
     "text": [
      "Data_base closed aproperly\n"
     ]
    }
   ],
   "source": [
    "# Llamada a la función para cerrar la conexión a la base de datos\n",
    "\n",
    "\n"
   ]
  }
 ],
 "metadata": {
  "kernelspec": {
   "display_name": "Python 3 (ipykernel)",
   "language": "python",
   "name": "python3"
  },
  "language_info": {
   "codemirror_mode": {
    "name": "ipython",
    "version": 3
   },
   "file_extension": ".py",
   "mimetype": "text/x-python",
   "name": "python",
   "nbconvert_exporter": "python",
   "pygments_lexer": "ipython3",
   "version": "3.10.12"
  }
 },
 "nbformat": 4,
 "nbformat_minor": 2
}
