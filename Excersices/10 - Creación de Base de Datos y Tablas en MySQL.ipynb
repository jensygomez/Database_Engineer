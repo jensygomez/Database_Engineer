{
 "cells": [
  {
   "cell_type": "markdown",
   "metadata": {},
   "source": [
    "**Author:**       Jensy Gregorio Gómez \n",
    "---------------------------------------\n",
    "**Profession:**  IT Support Analyst and Automatation with Python\n",
    "\n",
    "**Date:**         24 April 2024     \n",
    "\n",
    "**Modified** \n",
    "\n",
    "**Location:**     Vila Izabel, Curitiba/PR  \n",
    "\n",
    "\n",
    "---\n",
    "\n",
    "**Contacto:**\n",
    "\n",
    "- **Email:** [contact@jensygomez.us](mailto:contact@jensygomez.us)\n",
    "- **YouTube:** [Tu Canal de YouTube](https://www.youtube.com/@systechcwb826)\n",
    "- **LinkedIn:** [Tu Perfil de LinkedIn](https://www.linkedin.com/in/jensygomez/)\n",
    "\n",
    "\n"
   ]
  },
  {
   "cell_type": "markdown",
   "metadata": {},
   "source": [
    "\n",
    "# Creación de Base de Datos y Tablas en MySQL para Comercio Electrónico\n",
    "\n",
    "**Explicación:** En este tutorial, aprenderás cómo utilizar SQL para crear una base de datos y las tablas necesarias para gestionar un negocio de comercio electrónico. Seguiremos pasos simples para crear una base de datos llamada \"ecommerce\" y las tablas para almacenar información sobre clientes, productos, pedidos y más. ¡Sigue cada paso cuidadosamente para construir tu propia base de datos lista para usar en tu negocio virtual!"
   ]
  },
  {
   "cell_type": "markdown",
   "metadata": {},
   "source": [
    "## Paso 1: Creación de la Base de Datos\n",
    "\n",
    "1.  **Crear la base de datos:** Utilizamos la sentencia `CREATE DATABASE` seguida del nombre de la base de datos que queremos crear. En este caso, estamos creando una base de datos llamada `ecommerce`. Una base de datos es como un contenedor que guarda todas nuestras tablas y datos.\n",
    "    \n",
    "2.  **Usar la base de datos:** Después de crear la base de datos, utilizamos la sentencia `USE` para indicar a MySQL que queremos trabajar dentro de la base de datos `ecommerce`. Esto es importante para asegurarnos de que todas nuestras operaciones posteriores se realicen en esta base de datos específica."
   ]
  },
  {
   "cell_type": "markdown",
   "metadata": {},
   "source": [
    "***"
   ]
  },
  {
   "cell_type": "markdown",
   "metadata": {},
   "source": [
    "\n",
    "## Paso 2: Creación de las Tablas"
   ]
  },
  {
   "cell_type": "markdown",
   "metadata": {},
   "source": [
    "\n",
    "1.  **Tabla de Clientes:** Creamos una tabla llamada `Clientes` con tres columnas: `cliente_id`, `nombre` y `email`. La columna `id` es una clave primaria que se autoincrementa para garantizar que cada cliente tenga un identificador único. La clave primaria es un campo especial que asegura que cada fila en la tabla sea única.\n",
    "    \n",
    "***"
   ]
  },
  {
   "cell_type": "markdown",
   "metadata": {},
   "source": [
    "2.  **Tabla de Categorías:** Creamos una tabla llamada `Categorias` con dos columnas: `categoria_id` y `nombre`. Al igual que en la tabla de clientes, la columna `id` es una clave primaria autoincremental. Esta tabla nos permitirá organizar nuestros productos en diferentes categorías, como \"Ropa\", \"Electrónica\", etc.\n",
    "***"
   ]
  },
  {
   "cell_type": "markdown",
   "metadata": {},
   "source": [
    "3.  **Tabla de Productos:** Creamos una tabla llamada `Productos` con cinco columnas: `producto_id`, `nombre`, `descripcion`, `precio` y `categoria_id`. La columna `categoria_id` establece una relación con la tabla de categorías a través de una clave externa. Esto nos permite asignar a cada producto una categoría específica.\n",
    "***"
   ]
  },
  {
   "cell_type": "markdown",
   "metadata": {},
   "source": [
    "4.  **Tabla de Pedidos:** Creamos una tabla llamada `Pedidos` con cuatro columnas: `pedido_id`, `cliente_id`, `fecha_pedido` y `total`. La columna `cliente_id` establece una relación con la tabla de clientes a través de una clave externa. Esta tabla nos permite registrar los pedidos realizados por nuestros clientes.\n",
    "***"
   ]
  },
  {
   "cell_type": "markdown",
   "metadata": {},
   "source": [
    "5.  **Tabla de Detalles de Pedido:** Creamos una tabla llamada `Detalles_Pedido` con seis columnas: `id`, `pedido_id`, `producto_id`, `cantidad`, `precio_unitario`. Las columnas `pedido_id` y `producto_id` establecen relaciones con las tablas de pedidos y productos respectivamente. Esta tabla nos permite registrar los detalles de cada pedido, como los productos comprados y la cantidad de cada uno."
   ]
  },
  {
   "cell_type": "markdown",
   "metadata": {},
   "source": [
    "***\n",
    "***\n",
    "***"
   ]
  },
  {
   "cell_type": "markdown",
   "metadata": {},
   "source": [
    "\n",
    "# Ejercicios CRUD\n",
    "\n",
    "Ahora que hemos creado nuestras tablas, es hora de practicar las operaciones CRUD sobre los datos de nuestra base de datos. ¡Vamos a ello!"
   ]
  },
  {
   "cell_type": "markdown",
   "metadata": {},
   "source": [
    "***\n",
    "***\n",
    "***"
   ]
  },
  {
   "cell_type": "markdown",
   "metadata": {},
   "source": [
    "### Crear Registros"
   ]
  },
  {
   "cell_type": "markdown",
   "metadata": {},
   "source": [
    "\n",
    "\n",
    "### 1. Insertar Clientes en la tabla `Clientes`:\n",
    "   \n",
    "    nombre\n",
    "    email\n",
    "\n",
    "\n",
    "### 2. Insertar Categorías en la tabla `Categorias`:\n",
    "\n",
    "    Electronica\n",
    "    Ropa\n",
    "    Hogar\n",
    "    Juguetes\n",
    "    Deportes\n",
    "\n",
    "\n",
    "### 3. Insertar Productos en la tabla `Productos`:\n",
    "\n",
    "    nombre\n",
    "    descripcion\n",
    "    precio\n",
    "    categoria_id \n",
    "\n",
    "\n",
    "\n",
    "\n",
    "### 4. Insertar Pedidos en la tabla `Pedidos`\n",
    "\n",
    "    cliente_id\n",
    "    fecha_pedido\n",
    "    total\n",
    "\n",
    "\n",
    "### 5. Insertar Detalles de Pedido en la tabla `Detalles_Pedido`:\n",
    "\n",
    "    pedido_id\n",
    "    producto_id\n",
    "    cantidad\n",
    "    precio_unitario"
   ]
  },
  {
   "cell_type": "markdown",
   "metadata": {},
   "source": [
    "***\n",
    "***\n",
    "***\n"
   ]
  },
  {
   "cell_type": "markdown",
   "metadata": {},
   "source": [
    "\n",
    "\n",
    "### 1. Seleccionar todos los clientes de la tabla Clientes:\n",
    "\n",
    "```sql\n",
    "SELECT * FROM Clientes;\n",
    "```\n",
    "\n",
    "Esta consulta simplemente selecciona todos los registros de la tabla `Clientes`. El asterisco (*) representa todas las columnas de la tabla. Por lo tanto, esta consulta devolverá todas las filas de la tabla `Clientes`, mostrando toda la información de cada cliente almacenada en esa tabla.\n",
    "\n",
    "### 2. Seleccionar todos los productos de una categoría específica:\n",
    "\n",
    "Supongamos que quieres seleccionar todos los productos de la categoría con `id = 1`. Entonces, la consulta sería:\n",
    "\n",
    "```sql\n",
    "SELECT * FROM Productos WHERE categoria_id = 1;\n",
    "```\n",
    "\n",
    "En esta consulta, utilizamos la cláusula `WHERE` para filtrar los resultados. Seleccionamos todas las columnas de la tabla `Productos` donde el valor de la columna `categoria_id` es igual a 1. Esto nos dará todos los productos que pertenecen a la categoría con `id = 1`.\n",
    "\n",
    "### 3. Seleccionar todos los detalles de un pedido específico:\n",
    "\n",
    "Supongamos que quieres seleccionar todos los detalles del pedido con `id = 1`. Entonces, la consulta sería:\n",
    "\n",
    "```sql\n",
    "SELECT * FROM Detalles_Pedido WHERE pedido_id = 1;\n",
    "```\n",
    "\n",
    "Al igual que en la consulta anterior, utilizamos la cláusula `WHERE` para filtrar los resultados. Seleccionamos todas las columnas de la tabla `Detalles_Pedido` donde el valor de la columna `pedido_id` es igual a 1. Esto nos dará todos los detalles del pedido con `id = 1`.\n",
    "\n"
   ]
  }
 ],
 "metadata": {
  "kernelspec": {
   "display_name": "Python 3 (ipykernel)",
   "language": "python",
   "name": "python3"
  },
  "language_info": {
   "codemirror_mode": {
    "name": "ipython",
    "version": 3
   },
   "file_extension": ".py",
   "mimetype": "text/x-python",
   "name": "python",
   "nbconvert_exporter": "python",
   "pygments_lexer": "ipython3",
   "version": "3.11.7"
  }
 },
 "nbformat": 4,
 "nbformat_minor": 2
}
