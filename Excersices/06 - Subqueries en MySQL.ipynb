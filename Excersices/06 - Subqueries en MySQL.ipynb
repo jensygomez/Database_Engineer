{
 "cells": [
  {
   "cell_type": "markdown",
   "metadata": {},
   "source": [
    "**Author:**       Jensy Gregorio Gómez \n",
    "---------------------------------------\n",
    "**Profession:**  IT Support Analyst | NOC | Database Administrator\n",
    "\n",
    "**Date:**         20 Junio 2024    \n",
    "\n",
    "**Modified**  \n",
    "\n",
    "**Location:**     Vila Izabel, Curitiba/PR  \n",
    "\n",
    "\n",
    "---\n",
    "\n",
    "**Contacto:**\n",
    "\n",
    "- **Email:** [contact@jensygomez.us](mailto:contact@jensygomez.us)\n",
    "- **YouTube:** [Tu Canal de YouTube](https://www.youtube.com/@systechcwb826)\n",
    "- **LinkedIn:** [Tu Perfil de LinkedIn](https://www.linkedin.com/in/jensygomez/)\n",
    "\n",
    "\n"
   ]
  },
  {
   "cell_type": "markdown",
   "metadata": {},
   "source": [
    "### Consulta SQL para Encontrar el **NOMBRE DEL PRESIDENTE DEL REAL MADRID**"
   ]
  },
  {
   "cell_type": "code",
   "execution_count": null,
   "metadata": {
    "vscode": {
     "languageId": "sql"
    }
   },
   "outputs": [],
   "source": [
    "-- Ejercicio 1: Encontrar el nombre del presidente de un equipo específico\n",
    "-- Paso 1: Seleccionar el ID del equipo llamado 'Real Madrid'\n",
    "SELECT id\n",
    "FROM Equipos\n",
    "WHERE nombre = 'Real Madrid';\n",
    "\n",
    "-- Paso 2: Usar el ID del equipo para encontrar el presidente\n",
    "SELECT nombre\n",
    "FROM Presidentes\n",
    "WHERE id = (\n",
    "    SELECT presidente_id\n",
    "    FROM Equipos\n",
    "    WHERE nombre = 'Real Madrid'\n",
    ");"
   ]
  },
  {
   "cell_type": "markdown",
   "metadata": {},
   "source": [
    "### Consulta SQL para Encontrar **JUGADORES** de Equipos **CON ENTRENADORES EXPERIMENTADOS**"
   ]
  },
  {
   "cell_type": "code",
   "execution_count": null,
   "metadata": {
    "vscode": {
     "languageId": "sql"
    }
   },
   "outputs": [],
   "source": [
    "-- Ejercicio 2: Encontrar los jugadores que juegan en equipos dirigidos por entrenadores con más de 15 años de experiencia\n",
    "-- Paso 1: Seleccionar los IDs de entrenadores con más de 15 años de experiencia\n",
    "SELECT id\n",
    "FROM Entrenadores\n",
    "WHERE experiencia > 15;\n",
    "\n",
    "-- Paso 2: Usar los IDs de los entrenadores para encontrar los equipos que dirigen\n",
    "SELECT id\n",
    "FROM Equipos\n",
    "WHERE entrenador_id IN (\n",
    "    SELECT id\n",
    "    FROM Entrenadores\n",
    "    WHERE experiencia > 15\n",
    ");\n",
    "\n",
    "-- Paso 3: Usar los IDs de los equipos para encontrar los jugadores\n",
    "SELECT nombre\n",
    "FROM Jugadores\n",
    "WHERE equipo_id IN (\n",
    "    SELECT id\n",
    "    FROM Equipos\n",
    "    WHERE entrenador_id IN (\n",
    "        SELECT id\n",
    "        FROM Entrenadores\n",
    "        WHERE experiencia > 15\n",
    "    )\n",
    ");"
   ]
  },
  {
   "cell_type": "markdown",
   "metadata": {},
   "source": [
    "### Consulta SQL para Encontrar **JUGADORES** en **EQUIPOS PRESIDIDOS POR MUJERES**"
   ]
  },
  {
   "cell_type": "code",
   "execution_count": null,
   "metadata": {
    "vscode": {
     "languageId": "sql"
    }
   },
   "outputs": [],
   "source": [
    "\n",
    "\n",
    "-- Ejercicio 3: Encontrar el nombre de los jugadores que juegan en equipos presididos por mujeres\n",
    "-- Paso 1: Seleccionar los IDs de presidentes que son mujeres\n",
    "SELECT id\n",
    "FROM Presidentes\n",
    "WHERE nombre IN ('María Rodríguez', 'Elena Gómez', 'Sandra López');\n",
    "\n",
    "-- Paso 2: Usar los IDs de los presidentes para encontrar los equipos que presiden\n",
    "SELECT id\n",
    "FROM Equipos\n",
    "WHERE presidente_id IN (\n",
    "    SELECT id\n",
    "    FROM Presidentes\n",
    "    WHERE nombre IN ('María Rodríguez', 'Elena Gómez', 'Sandra López')\n",
    ");\n",
    "\n",
    "-- Paso 3: Usar los IDs de los equipos para encontrar los jugadores que juegan en esos equipos\n",
    "SELECT nombre\n",
    "FROM Jugadores\n",
    "WHERE equipo_id IN (\n",
    "    SELECT id\n",
    "    FROM Equipos\n",
    "    WHERE presidente_id IN (\n",
    "        SELECT id\n",
    "        FROM Presidentes\n",
    "        WHERE nombre IN ('María Rodríguez', 'Elena Gómez', 'Sandra López')\n",
    "    )\n",
    ");"
   ]
  }
 ],
 "metadata": {
  "kernelspec": {
   "display_name": "Python 3 (ipykernel)",
   "language": "python",
   "name": "python3"
  },
  "language_info": {
   "codemirror_mode": {
    "name": "ipython",
    "version": 3
   },
   "file_extension": ".py",
   "mimetype": "text/x-python",
   "name": "python",
   "nbconvert_exporter": "python",
   "pygments_lexer": "ipython3",
   "version": "3.10.12"
  }
 },
 "nbformat": 4,
 "nbformat_minor": 2
}
