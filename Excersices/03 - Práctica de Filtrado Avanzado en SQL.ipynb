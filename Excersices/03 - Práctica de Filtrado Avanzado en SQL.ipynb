{
 "cells": [
  {
   "cell_type": "markdown",
   "metadata": {},
   "source": [
    "**Author:**       Jensy Gregorio Gómez \n",
    "---------------------------------------\n",
    "**Profession:**  IT Support Analyst and Automatation with Python\n",
    "\n",
    "**Date:**         23 May 2024     \n",
    "\n",
    "**Modified** 24 May\n",
    "\n",
    "**Location:**     Vila Izabel, Curitiba/PR  \n",
    "\n",
    "\n",
    "---\n",
    "\n",
    "**Contacto:**\n",
    "\n",
    "- **Email:** [contact@jensygomez.us](mailto:contact@jensygomez.us)\n",
    "- **YouTube:** [Tu Canal de YouTube](https://www.youtube.com/@systechcwb826)\n",
    "- **LinkedIn:** [Tu Perfil de LinkedIn](https://www.linkedin.com/in/jensygomez/)\n",
    "\n",
    "\n"
   ]
  },
  {
   "cell_type": "markdown",
   "metadata": {},
   "source": [
    "**Título:** \n",
    "# Práctica de Filtrado Avanzado en SQL\n",
    "\n",
    "## **Descripción del Escenario:**\n",
    "\n",
    "### Imagina que eres un analista de datos para una empresa de ventas y estás encargado de realizar consultas SQL para extraer información específica de la base de datos de clientes y pedidos. Utilizando las cláusulas de filtrado avanzado en SQL, como \"AND\", \"NOT\", \"OR\", \"IN\", \"BETWEEN\" y \"LIKE\", debes resolver una serie de desafíos para obtener datos relevantes para informes y análisis.\n"
   ]
  },
  {
   "cell_type": "code",
   "execution_count": null,
   "metadata": {
    "vscode": {
     "languageId": "sql"
    }
   },
   "outputs": [],
   "source": [
    "-- Crear la base de datos\n",
    "CREATE DATABASE SalesDB;\n",
    "\n",
    "-- Seleccionar la base de datos\n",
    "USE SalesDB;\n",
    "\n",
    "-- Crear la tabla de clientes\n",
    "CREATE TABLE Clients (\n",
    "    ClientID INT PRIMARY KEY,\n",
    "    FullName VARCHAR(100),\n",
    "    ContactNumber VARCHAR(30),\n",
    "    Address VARCHAR(255)\n",
    ");\n",
    "\n",
    "INSERT INTO Clients (ClientID, FullName, ContactNumber, Address) VALUES\n",
    "(1, 'Ana Maria Silva', '+55 11 91234-5678', 'Rua das Flores, 123, São Paulo, SP'),\n",
    "(2, 'Carlos Eduardo Souza', '+55 21 98765-4321', 'Avenida Brasil, 456, Rio de Janeiro, RJ'),\n",
    "(3, 'Mariana Oliveira', '+55 31 99876-5432', 'Rua da Harmonia, 789, Belo Horizonte, MG'),\n",
    "(4, 'Pedro Henrique Lima', '+55 51 97654-3210', 'Praça da Liberdade, 101, Porto Alegre, RS'),\n",
    "(5, 'Juliana Costa', '+55 71 93456-7890', 'Avenida Sete de Setembro, 202, Salvador, BA'),\n",
    "(6, 'Roberto da Silva', '+55 11 91234-5679', 'Avenida Paulista, 500, São Paulo, SP'),\n",
    "(7, 'Fernanda Silva Costa', '+55 21 98765-4322', 'Rua das Laranjeiras, 150, Rio de Janeiro, RJ');\n",
    "\n",
    "-- Crear la tabla de productos\n",
    "CREATE TABLE Products (\n",
    "    ProductID INT PRIMARY KEY,\n",
    "    ProductName VARCHAR(100),\n",
    "    Price DECIMAL(10, 2)\n",
    ");\n",
    "\n",
    "INSERT INTO Products (ProductID, ProductName, Price) VALUES\n",
    "(101, 'Producto A', 75.00),\n",
    "(102, 'Producto B', 75.50),\n",
    "(103, 'Producto C', 60.00),\n",
    "(104, 'Producto D', 40.00),\n",
    "(105, 'Producto E', 100.00),\n",
    "(106, 'Producto F', 50.00),\n",
    "(107, 'Producto G', 55.00),\n",
    "(108, 'Producto H', 65.00);\n",
    "\n",
    "-- Crear la tabla de pedidos\n",
    "CREATE TABLE Orders (\n",
    "    OrderID INT PRIMARY KEY,\n",
    "    ClientID INT,\n",
    "    ProductID INT,\n",
    "    Quantity INT,\n",
    "    Cost DECIMAL(10, 2),\n",
    "    EmployeeID INT,\n",
    "    FOREIGN KEY (ClientID) REFERENCES Clients(ClientID),\n",
    "    FOREIGN KEY (ProductID) REFERENCES Products(ProductID),\n",
    "    FOREIGN KEY (EmployeeID) REFERENCES Employees(EmployeeID)\n",
    ");\n",
    "\n",
    "INSERT INTO Orders (OrderID, ClientID, ProductID, Quantity, Cost, EmployeeID) VALUES\n",
    "(1, 1, 101, 2, 150.00, 2),\n",
    "(2, 2, 102, 1, 75.50, 3),\n",
    "(3, 3, 103, 5, 300.00, 4),\n",
    "(4, 4, 104, 3, 120.00, 5),\n",
    "(5, 5, 105, 2, 200.00, 6),\n",
    "(6, 1, 106, 1, 50.00, 2),\n",
    "(7, 3, 107, 4, 220.00, 3),\n",
    "(8, 2, 108, 2, 130.00, 4);\n",
    "\n",
    "-- Crear la tabla de empleados\n",
    "CREATE TABLE Employees (\n",
    "    EmployeeID INT PRIMARY KEY,\n",
    "    FullName VARCHAR(100),\n",
    "    JobTitle VARCHAR(100),\n",
    "    CountyID INT,\n",
    "    LineManagerID INT,\n",
    "    FOREIGN KEY (CountyID) REFERENCES Counties(CountyID)\n",
    ");\n",
    "\n",
    "-- Crear la tabla de condados\n",
    "CREATE TABLE Counties (\n",
    "    CountyID INT PRIMARY KEY,\n",
    "    CountyName VARCHAR(100)\n",
    ");\n",
    "\n",
    "-- Insertar datos de condados\n",
    "INSERT INTO Counties (CountyID, CountyName) VALUES\n",
    "(1, 'County A'),\n",
    "(2, 'County B'),\n",
    "(3, 'County C'),\n",
    "(4, 'County D');\n",
    "\n",
    "-- Insertar datos de empleados\n",
    "INSERT INTO Employees (EmployeeID, FullName, JobTitle, CountyID, LineManagerID) VALUES\n",
    "(1, 'Simon', 'Manager', 1, NULL),\n",
    "(2, 'Seamus', 'Assistant Manager', 1, 1),\n",
    "(3, 'Greta', 'Senior Developer', 2, 1),\n",
    "(4, 'Liam', 'Developer', 2, 2),\n",
    "(5, 'Emma', 'Junior Developer', 3, 2),\n",
    "(6, 'Ava', 'Intern', 4, 3);"
   ]
  },
  {
   "cell_type": "markdown",
   "metadata": {},
   "source": [
    "***\n",
    "***\n",
    "## 1. **Filtrar clientes en São Paulo y Rio de Janeiro:**\n",
    "### Usando Alias"
   ]
  },
  {
   "cell_type": "code",
   "execution_count": null,
   "metadata": {
    "vscode": {
     "languageId": "sql"
    }
   },
   "outputs": [],
   "source": [
    "SELECT \n",
    "    cli.ClientID AS 'ID del Cliente',\n",
    "    cli.FullName AS 'Nombre Completo',\n",
    "    cli.ContactNumber AS 'Número de Contacto',\n",
    "    cli.Address AS 'Dirección'\n",
    "FROM \n",
    "    Clients cli\n",
    "WHERE \n",
    "    cli.Address LIKE '%São Paulo, SP%' \n",
    "    OR cli.Address LIKE '%Rio de Janeiro, RJ%';\n"
   ]
  },
  {
   "cell_type": "markdown",
   "metadata": {},
   "source": [
    "***\n",
    "***\n",
    "\n",
    "## 2.  **Filtrar clientes que no están en São Paulo:**\n",
    "### Usando Alias"
   ]
  },
  {
   "cell_type": "code",
   "execution_count": null,
   "metadata": {
    "vscode": {
     "languageId": "sql"
    }
   },
   "outputs": [],
   "source": [
    "SELECT \n",
    "    c.ClientID AS ID,\n",
    "    c.FullName AS Nombre,\n",
    "    c.ContactNumber AS Contacto,\n",
    "    c.Address AS Dirección\n",
    "FROM \n",
    "    Clients c\n",
    "WHERE \n",
    "    c.Address NOT LIKE '%São Paulo%';\n"
   ]
  },
  {
   "cell_type": "markdown",
   "metadata": {},
   "source": [
    "***\n",
    "***\n",
    "## 3.  **Filtrar clientes que tienen 'Silva' en su nombre completo y son de São Paulo:**\n",
    "### Usando ALias\n",
    "Modified 27 May 2024 --> 3 Junio 2024"
   ]
  },
  {
   "cell_type": "code",
   "execution_count": null,
   "metadata": {
    "vscode": {
     "languageId": "sql"
    }
   },
   "outputs": [],
   "source": [
    "-- Seleccionar la base de datos\n",
    "USE SalesDB;\n",
    "\n",
    "-- Consulta para filtrar clientes\n",
    "SELECT \n",
    "    C.ClientID AS ID_Cliente,\n",
    "    C.FullName AS Nombre_Completo,\n",
    "    C.ContactNumber AS Número_Contacto,\n",
    "    C.Address AS Dirección\n",
    "FROM \n",
    "    Clients C\n",
    "WHERE \n",
    "    C.FullName LIKE '%Silva%' \n",
    "    AND C.Address LIKE '%São Paulo%';\n"
   ]
  },
  {
   "cell_type": "markdown",
   "metadata": {},
   "source": [
    "***\n",
    "***\n",
    "## 4.  **Filtrar clientes cuyo número de contacto no es de São Paulo ni de Rio de Janeiro:**\n",
    "### Con Alias\n",
    "Modified 27 May 2024 --> 4 Junio 2024"
   ]
  },
  {
   "cell_type": "code",
   "execution_count": null,
   "metadata": {
    "vscode": {
     "languageId": "sql"
    }
   },
   "outputs": [],
   "source": [
    "-- Seleccionar la base de datos\n",
    "USE SalesDB;\n",
    "\n",
    "-- Consulta para filtrar clientes con números de contacto que no sean de São Paulo ni de Rio de Janeiro\n",
    "SELECT \n",
    "    C.ClientID AS ID_Cliente,\n",
    "    C.FullName AS Nombre_Completo,\n",
    "    C.ContactNumber AS Número_Contacto,\n",
    "    C.Address AS Dirección\n",
    "FROM \n",
    "    Clients C\n",
    "WHERE \n",
    "    C.ContactNumber NOT LIKE '+55 11%' \n",
    "    AND C.ContactNumber NOT LIKE '+55 21%';\n"
   ]
  },
  {
   "cell_type": "markdown",
   "metadata": {},
   "source": [
    "***\n",
    "***\n",
    "## 5.  **Filtrar clientes que han realizado pedidos entre 100 y 200 en costo:**\n",
    "4 Junio 2024"
   ]
  },
  {
   "cell_type": "code",
   "execution_count": null,
   "metadata": {
    "vscode": {
     "languageId": "sql"
    }
   },
   "outputs": [],
   "source": [
    "-- Seleccionar la base de datos\n",
    "USE SalesDB;\n",
    "\n",
    "-- Consulta para filtrar los clientes y sus pedidos con costo entre 100 y 200 usando alias\n",
    "SELECT \n",
    "    C.FullName AS Cliente,\n",
    "    O.Cost AS CostoPedido\n",
    "FROM \n",
    "    Clients AS C\n",
    "INNER JOIN \n",
    "    Orders AS O\n",
    "ON \n",
    "    C.ClientID = O.ClientID\n",
    "WHERE \n",
    "    O.Cost BETWEEN 100 AND 200;\n"
   ]
  },
  {
   "cell_type": "markdown",
   "metadata": {},
   "source": [
    "***\n",
    "***\n",
    "## 6.  **Obtener la Lista de Empleados y sus Gerentes Directos**\n",
    "### Ejercicio de Práctica con SELF JOIN y ALIAS: \n",
    "#### Tabla employees:\n",
    "03 Junio 2024 --> 05 junio 2024"
   ]
  },
  {
   "cell_type": "code",
   "execution_count": null,
   "metadata": {
    "vscode": {
     "languageId": "sql"
    }
   },
   "outputs": [],
   "source": [
    "SELECT \n",
    "    e1.EmployeeID AS EmpleadoID, \n",
    "    e1.FullName AS NombreEmpleado, \n",
    "    e2.FullName AS \"Gestor del Empleado\" \n",
    "FROM \n",
    "    employees e1 \n",
    "LEFT JOIN \n",
    "    employees e2 \n",
    "ON \n",
    "    e1.LineManagerID = e2.EmployeeID;\n"
   ]
  },
  {
   "cell_type": "markdown",
   "metadata": {},
   "source": [
    "***\n",
    "***\n",
    "## 7.  **Combinar Nombres y Ubicaciones de Clientes y Empleados**\n",
    "### Usando UNION ALL y Alias en MySQL\n",
    "3 junio 2024 --> 07 Junio 2024"
   ]
  },
  {
   "cell_type": "code",
   "execution_count": null,
   "metadata": {
    "vscode": {
     "languageId": "sql"
    }
   },
   "outputs": [],
   "source": [
    "-- Seleccionar la base de datos\n",
    "USE SalesDB;\n",
    "\n",
    "-- Crear la consulta para combinar nombres y ubicaciones con alias\n",
    "SELECT FullName AS Name, Address AS Location\n",
    "FROM Clients\n",
    "UNION ALL\n",
    "SELECT e.FullName, c.CountyName AS Location\n",
    "FROM Employees e\n",
    "JOIN Counties c ON e.CountyID = c.CountyID;"
   ]
  },
  {
   "cell_type": "code",
   "execution_count": null,
   "metadata": {
    "vscode": {
     "languageId": "sql"
    }
   },
   "outputs": [],
   "source": [
    "DROP DATABASE SalesDB;\n"
   ]
  }
 ],
 "metadata": {
  "kernelspec": {
   "display_name": "Python 3 (ipykernel)",
   "language": "python",
   "name": "python3"
  },
  "language_info": {
   "codemirror_mode": {
    "name": "ipython",
    "version": 3
   },
   "file_extension": ".py",
   "mimetype": "text/x-python",
   "name": "python",
   "nbconvert_exporter": "python",
   "pygments_lexer": "ipython3",
   "version": "3.11.7"
  }
 },
 "nbformat": 4,
 "nbformat_minor": 2
}
