{
 "cells": [
  {
   "cell_type": "markdown",
   "metadata": {},
   "source": [
    "**Author:**       Jensy Gregorio Gómez \n",
    "---------------------------------------\n",
    "**Profession:**  IT Support Analyst | NOC | Database Administrator\n",
    "\n",
    "**Date:**         20 Junio 2024    \n",
    "\n",
    "**Modified**  24 Junio 2024 --> 29 Junio 2024 --> 02 Julio 2024\n",
    "\n",
    "**Location:**     Vila Izabel, Curitiba/PR  \n",
    "\n",
    "\n",
    "---\n",
    "\n",
    "**Contacto:**\n",
    "\n",
    "- **Email:** [contact@jensygomez.us](mailto:contact@jensygomez.us)\n",
    "- **YouTube:** [Tu Canal de YouTube](https://www.youtube.com/@systechcwb826)\n",
    "- **LinkedIn:** [Tu Perfil de LinkedIn](https://www.linkedin.com/in/jensygomez/)\n",
    "\n",
    "\n"
   ]
  },
  {
   "cell_type": "markdown",
   "metadata": {},
   "source": [
    "\n",
    "### Ejercicio: Actualización y reemplazo de registros en la base de datos\n",
    "\n",
    "#### Parte 1: Uso de `REPLACE`\n",
    "\n",
    "1.  **Descripción del problema:** Supongamos que la descripción de los productos en la tabla `products` necesita ser actualizada para corregir errores tipográficos. Debes actualizar la descripción de todos los productos en la línea de productos 'Classic Cars' reemplazando todas las ocurrencias de la palabra 'typo' con 'type'.\n",
    "    \n",
    "2.  **Pasos a seguir:**\n",
    "    \n",
    "    -   Primero, verifica las descripciones actuales de los productos en la línea de productos 'Classic Cars'.\n",
    "    -   Luego, utiliza el comando `REPLACE` para actualizar las descripciones de estos productos."
   ]
  },
  {
   "cell_type": "code",
   "execution_count": null,
   "metadata": {
    "vscode": {
     "languageId": "sql"
    }
   },
   "outputs": [],
   "source": [
    "-- Verificar descripciones actuales\n",
    "SELECT productCode, productDescription\n",
    "FROM products\n",
    "WHERE productLine = 'Classic Cars';\n",
    "\n",
    "-- Actualizar descripciones usando REPLACE\n",
    "UPDATE products\n",
    "SET productDescription = REPLACE(productDescription, 'typo', 'type')\n",
    "WHERE productLine = 'Classic Cars';\n",
    "\n",
    "-- Verificar actualizaciones\n",
    "SELECT productCode, productDescription\n",
    "FROM products\n",
    "WHERE productLine = 'Classic Cars';\n"
   ]
  }
 ],
 "metadata": {
  "kernelspec": {
   "display_name": "Python 3 (ipykernel)",
   "language": "python",
   "name": "python3"
  },
  "language_info": {
   "codemirror_mode": {
    "name": "ipython",
    "version": 3
   },
   "file_extension": ".py",
   "mimetype": "text/x-python",
   "name": "python",
   "nbconvert_exporter": "python",
   "pygments_lexer": "ipython3",
   "version": "3.10.12"
  }
 },
 "nbformat": 4,
 "nbformat_minor": 2
}
