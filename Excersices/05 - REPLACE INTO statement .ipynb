{
 "cells": [
  {
   "cell_type": "markdown",
   "metadata": {},
   "source": [
    "**Author:**       Jensy Gregorio Gómez \n",
    "---------------------------------------\n",
    "**Profession:**  IT Support Analyst | NOC | Database Administrator\n",
    "\n",
    "**Date:**         20 Junio 2024    \n",
    "\n",
    "**Modified**  \n",
    "\n",
    "**Location:**     Vila Izabel, Curitiba/PR  \n",
    "\n",
    "\n",
    "---\n",
    "\n",
    "**Contacto:**\n",
    "\n",
    "- **Email:** [contact@jensygomez.us](mailto:contact@jensygomez.us)\n",
    "- **YouTube:** [Tu Canal de YouTube](https://www.youtube.com/@systechcwb826)\n",
    "- **LinkedIn:** [Tu Perfil de LinkedIn](https://www.linkedin.com/in/jensygomez/)\n",
    "\n",
    "\n"
   ]
  },
  {
   "cell_type": "markdown",
   "metadata": {},
   "source": [
    "Para practicar con las consultas que utilizan `REPLACE` y `REPLACE INTO` con alias, aquí tienes un ejercicio que aborda esas habilidades. Este ejercicio implica cambiar la nacionalidad de los presidentes y directivos de algunos equipos y luego insertar un nuevo directivo usando alias para simplificar la sintaxis y hacerla más legible:"
   ]
  },
  {
   "cell_type": "code",
   "execution_count": null,
   "metadata": {
    "vscode": {
     "languageId": "sql"
    }
   },
   "outputs": [],
   "source": [
    "-- Cambiar la nacionalidad de presidentes y directivos usando REPLACE INTO con alias\n",
    "\n",
    "-- Cambiar nacionalidad de presidentes\n",
    "REPLACE INTO Presidentes AS p\n",
    "SET p.nacionalidad = 'Catalana'\n",
    "WHERE p.nombre = 'Joan Laporta';\n",
    "\n",
    "REPLACE INTO Presidentes AS p\n",
    "SET p.nacionalidad = 'Argentina'\n",
    "WHERE p.nombre = 'Diego Simeone';"
   ]
  },
  {
   "cell_type": "code",
   "execution_count": null,
   "metadata": {
    "vscode": {
     "languageId": "sql"
    }
   },
   "outputs": [],
   "source": [
    "-- Cambiar nacionalidad de directivos\n",
    "REPLACE INTO Directivos AS d\n",
    "SET d.nacionalidad = 'Italiana'\n",
    "WHERE d.nombre = 'Carlo Ancelotti';\n",
    "\n",
    "REPLACE INTO Directivos AS d\n",
    "SET d.nacionalidad = 'Francesa'\n",
    "WHERE d.nombre = 'David Bettoni';"
   ]
  },
  {
   "cell_type": "code",
   "execution_count": null,
   "metadata": {
    "vscode": {
     "languageId": "sql"
    }
   },
   "outputs": [],
   "source": [
    "-- Insertar un nuevo directivo\n",
    "REPLACE INTO Directivos (nombre, cargo, fecha_nacimiento, nacionalidad)\n",
    "VALUES ('Juan Mata', 'Director Deportivo', '1988-04-28', 'Española');"
   ]
  },
  {
   "cell_type": "markdown",
   "metadata": {},
   "source": [
    "### Explicación del ejercicio:\n",
    "1. **Cambios de Nacionalidad con `REPLACE INTO` y Alias:**\n",
    "   - Se utilizan las cláusulas `REPLACE INTO` con alias (`AS p`, `AS d`) para cambiar la nacionalidad de ciertos presidentes y directivos. Esto simplifica la sintaxis y permite referirse a las tablas de forma abreviada.\n",
    "\n",
    "2. **Inserción de un Nuevo Directivo:**\n",
    "   - Se inserta un nuevo directivo, Juan Mata, utilizando la misma cláusula `REPLACE INTO`. Esto es útil para añadir nuevos registros o actualizar existentes si ya existiera un directivo con el mismo nombre.\n",
    "\n",
    "Este ejercicio te permite practicar cómo utilizar `REPLACE` y `REPLACE INTO` con alias para modificar datos existentes y añadir nuevos registros en tu base de datos de Liga Española."
   ]
  }
 ],
 "metadata": {
  "kernelspec": {
   "display_name": "Python 3 (ipykernel)",
   "language": "python",
   "name": "python3"
  },
  "language_info": {
   "codemirror_mode": {
    "name": "ipython",
    "version": 3
   },
   "file_extension": ".py",
   "mimetype": "text/x-python",
   "name": "python",
   "nbconvert_exporter": "python",
   "pygments_lexer": "ipython3",
   "version": "3.10.12"
  }
 },
 "nbformat": 4,
 "nbformat_minor": 2
}
