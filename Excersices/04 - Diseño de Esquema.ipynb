{
 "cells": [
  {
   "cell_type": "markdown",
   "metadata": {},
   "source": [
    "**Author:**       Jensy Gregorio Gómez \n",
    "---------------------------------------\n",
    "**Profession:**  IT Support Analyst and Automatation with Python\n",
    "\n",
    "**Date:**         23 April 2024     \n",
    "\n",
    "**Modified** 24 April 2024\n",
    "\n",
    "**Location:**     Vila Izabel, Curitiba/PR  \n",
    "\n",
    "\n",
    "---\n",
    "\n",
    "**Contacto:**\n",
    "\n",
    "- **Email:** [contact@jensygomez.us](mailto:contact@jensygomez.us)\n",
    "- **YouTube:** [Tu Canal de YouTube](https://www.youtube.com/@systechcwb826)\n",
    "- **LinkedIn:** [Tu Perfil de LinkedIn](https://www.linkedin.com/in/jensygomez/)\n",
    "\n",
    "\n"
   ]
  },
  {
   "cell_type": "markdown",
   "metadata": {
    "vscode": {
     "languageId": "sql"
    }
   },
   "source": [
    "**Ejercicio:** \n",
    "# Diseño de Esquema de Base de Datos para CM Mobiles\n",
    "\n",
    "## Objetivo del Ejercicio\n",
    "Practicar cómo seleccionar tipos de datos adecuados para diferentes columnas en una tabla de base de datos.\n",
    "\n",
    "## Escenario\n",
    "Mr. Carl Merkel es el propietario de CM Mobiles, una pequeña empresa que vende dispositivos móviles en Harrow, cerca de Londres. Mr. Merkel necesita crear una base de datos para almacenar información clave sobre los pedidos de los clientes. Esta base de datos le permitirá generar facturas para sus clientes, incluyendo el nombre del cliente, la fecha del pedido, la cantidad y el precio total. Como parte de este proceso, necesita seleccionar los tipos de datos adecuados para cada columna de la tabla de facturas.\n",
    "\n",
    "## Pasos a Seguir\n",
    "1. **Identificar las columnas necesarias:**\n",
    "   - Nombre del cliente\n",
    "   - Fecha del pedido\n",
    "   - Cantidad\n",
    "   - Precio total\n",
    "\n",
    "2. **Determinar los tipos de datos adecuados para cada columna:**\n",
    "   - Nombre del cliente: Debe ser un tipo de datos que pueda almacenar texto, como VARCHAR en SQL.\n",
    "   - Fecha del pedido: Debe ser un tipo de datos que pueda almacenar fechas, como DATE o DATETIME en SQL.\n",
    "   - Cantidad: Debe ser un tipo de datos que pueda almacenar números enteros, como INT en SQL.\n",
    "   - Precio total: Debe ser un tipo de datos que pueda almacenar valores numéricos con decimales, como DECIMAL o FLOAT en SQL.\n",
    "\n",
    "3. **Seleccionar las longitudes y precisiones adecuadas para los tipos de datos:**\n",
    "   - Para el nombre del cliente, una longitud de VARCHAR suficiente para acomodar nombres típicos.\n",
    "   - Para la fecha del pedido, utilizar el tipo de datos DATE para almacenar fechas sin la parte de tiempo.\n",
    "   - Para la cantidad, utilizar el tipo de datos INT para almacenar números enteros sin decimales.\n",
    "   - Para el precio total, utilizar el tipo de datos DECIMAL con la precisión y escala adecuadas para manejar valores monetarios.\n",
    "\n",
    "4. **Crear el esquema de la tabla de facturas en la base de datos utilizando los tipos de datos seleccionados:**\n",
    "   ```sql\n",
    "   CREATE TABLE invoice (\n",
    "       customer_name VARCHAR(100),\n",
    "       order_date DATE,\n",
    "       quantity INT,\n",
    "       total_price DECIMAL(10, 2)\n",
    "   );\n",
    "   \n",
    "5. **Verificar que el esquema de la tabla se haya creado correctamente y esté listo para almacenar los datos de los pedidos de los clientes.**\n",
    "\n",
    "Este ejercicio proporciona una base sólida para diseñar la estructura de la base de datos de CM Mobiles, asegurando que los tipos de datos seleccionados sean apropiados para cada columna y que la base de datos pueda manejar eficazmente la información de los pedidos de los clientes.\n",
    "```\n",
    "\n"
   ]
  },
  {
   "cell_type": "code",
   "execution_count": null,
   "metadata": {
    "vscode": {
     "languageId": "sql"
    }
   },
   "outputs": [],
   "source": []
  },
  {
   "cell_type": "code",
   "execution_count": 2,
   "metadata": {},
   "outputs": [
    {
     "name": "stdout",
     "output_type": "stream",
     "text": [
      "Conexión establecida correctamente\n",
      "Comando SQL almacenado en la variable comandoSQL\n",
      "Conexión cerrada\n"
     ]
    }
   ],
   "source": [
    "import mysql.connector\n",
    "\n",
    "# Conectar a la base de datos\n",
    "conexion = mysql.connector.connect(\n",
    "    host=\"localhost\",\n",
    "    user=\"root\",\n",
    "    password=\"\",  # No se necesita contraseña en tu caso\n",
    "    database=\"cm_devices\",  # Reemplaza \"nombre_de_tu_base_de_datos\" con el nombre de tu base de datos\n",
    "    port=\"3306\"  # Puerto por defecto de MySQL\n",
    ")\n",
    "\n",
    "if conexion.is_connected():\n",
    "    print(\"Conexión establecida correctamente\")\n",
    "else:\n",
    "    print(\"No se pudo establecer conexión\")\n",
    "\n",
    "\n",
    "# Definir la consulta SQL para crear la tabla\n",
    "comandoSQL = \"\"\"\n",
    "\n",
    "\n",
    "\n",
    "\n",
    "\"\"\"\n",
    "\n",
    "print(\"Comando SQL almacenado en la variable comandoSQL\")\n",
    "\n",
    "\n",
    "# Ejecutar la consulta SQL para crear la tabla\n",
    "\n",
    "# Crear un cursor\n",
    "cursor = conexion.cursor()\n",
    "\n",
    "# Ejecutar la consulta para crear la tabla\n",
    "cursor.execute(comandoSQL)\n",
    "\n",
    "# Confirmar los cambios en la base de datos\n",
    "conexion.commit()\n",
    "\n",
    "\n",
    "# Cerrar la conexión a la base de datos al final del código\n",
    "conexion.close()\n",
    "print(\"Conexión cerrada\")"
   ]
  }
 ],
 "metadata": {
  "kernelspec": {
   "display_name": "Python 3 (ipykernel)",
   "language": "python",
   "name": "python3"
  },
  "language_info": {
   "codemirror_mode": {
    "name": "ipython",
    "version": 3
   },
   "file_extension": ".py",
   "mimetype": "text/x-python",
   "name": "python",
   "nbconvert_exporter": "python",
   "pygments_lexer": "ipython3",
   "version": "3.11.7"
  }
 },
 "nbformat": 4,
 "nbformat_minor": 2
}
