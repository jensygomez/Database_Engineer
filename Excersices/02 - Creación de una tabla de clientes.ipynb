{
 "cells": [
  {
   "cell_type": "markdown",
   "metadata": {},
   "source": [
    "**Author:**       Jensy Gregorio Gómez \n",
    "---------------------------------------\n",
    "**Profession:**  IT Support Analyst and Automatation with Python\n",
    "\n",
    "**Date:**         22 April 2024     \n",
    "\n",
    "**Modified** 09 May 2024\n",
    "\n",
    "**Location:**     Vila Izabel, Curitiba/PR  \n",
    "\n",
    "\n",
    "---\n",
    "\n",
    "**Contacto:**\n",
    "\n",
    "- **Email:** [contact@jensygomez.us](mailto:contact@jensygomez.us)\n",
    "- **YouTube:** [Tu Canal de YouTube](https://www.youtube.com/@systechcwb826)\n",
    "- **LinkedIn:** [Tu Perfil de LinkedIn](https://www.linkedin.com/in/jensygomez/)\n",
    "\n",
    "\n"
   ]
  },
  {
   "cell_type": "code",
   "execution_count": null,
   "metadata": {},
   "outputs": [],
   "source": [
    "import pymysql\n",
    "\n",
    "try:\n",
    "    connection = pymysql.connect(\n",
    "        host='sql10.freesqldatabase.com',\n",
    "        user='sql10705361',\n",
    "        password='HqKECAGFRn',\n",
    "        database='sql10705361'\n",
    "    )\n",
    "\n",
    "    print(\"Conexion Establecida Correctamente\")\n",
    "\n",
    "    with connection.cursor() as cursor:\n",
    "        # Ejecutar una consulta SQL para crear una tabla\n",
    "        create_table_query = \"\"\"\n",
    "        CREATE TABLE IF NOT EXISTS ejemplo (\n",
    "            ejemplo_id INT AUTO_INCREMENT PRIMARY KEY,\n",
    "            nombre VARCHAR(255),\n",
    "            edad INT\n",
    "        )\n",
    "        \"\"\"\n",
    "        cursor.execute(create_table_query)\n",
    "        print(\"Tabla creada correctamente\")\n",
    "\n",
    "    connection.close()\n",
    "    print(\"La Coneccion con la base de datos está:\", \"abierta\" if connection.open else \"CERRADA\")\n",
    "\n",
    "\n",
    "except pymysql.Error as e:\n",
    "    print(\"Error al intentar conectarse a la Base de Datos\", e)"
   ]
  }
 ],
 "metadata": {
  "kernelspec": {
   "display_name": "Python 3 (ipykernel)",
   "language": "python",
   "name": "python3"
  },
  "language_info": {
   "codemirror_mode": {
    "name": "ipython",
    "version": 3
   },
   "file_extension": ".py",
   "mimetype": "text/x-python",
   "name": "python",
   "nbconvert_exporter": "python",
   "pygments_lexer": "ipython3",
   "version": "3.10.12"
  }
 },
 "nbformat": 4,
 "nbformat_minor": 2
}
