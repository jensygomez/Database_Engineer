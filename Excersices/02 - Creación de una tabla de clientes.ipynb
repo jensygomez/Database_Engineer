{
 "cells": [
  {
   "cell_type": "markdown",
   "metadata": {},
   "source": [
    "**Author:**       Jensy Gregorio Gómez \n",
    "---------------------------------------\n",
    "**Profession:**  IT Support Analyst and Automatation with Python\n",
    "\n",
    "**Date:**         22 April 2024     \n",
    "\n",
    "**Modified** 09 May 2024\n",
    "\n",
    "**Location:**     Vila Izabel, Curitiba/PR  \n",
    "\n",
    "\n",
    "---\n",
    "\n",
    "**Contacto:**\n",
    "\n",
    "- **Email:** [contact@jensygomez.us](mailto:contact@jensygomez.us)\n",
    "- **YouTube:** [Tu Canal de YouTube](https://www.youtube.com/@systechcwb826)\n",
    "- **LinkedIn:** [Tu Perfil de LinkedIn](https://www.linkedin.com/in/jensygomez/)\n",
    "\n",
    "\n"
   ]
  },
  {
   "cell_type": "code",
   "execution_count": 1,
   "metadata": {},
   "outputs": [
    {
     "ename": "ModuleNotFoundError",
     "evalue": "No module named 'pymysql'",
     "output_type": "error",
     "traceback": [
      "\u001b[1;31m---------------------------------------------------------------------------\u001b[0m",
      "\u001b[1;31mModuleNotFoundError\u001b[0m                       Traceback (most recent call last)",
      "Cell \u001b[1;32mIn[1], line 1\u001b[0m\n\u001b[1;32m----> 1\u001b[0m \u001b[38;5;28;01mimport\u001b[39;00m \u001b[38;5;21;01mpymysql\u001b[39;00m\n\u001b[0;32m      3\u001b[0m \u001b[38;5;28;01mdef\u001b[39;00m \u001b[38;5;21mcrear_tabla\u001b[39m(cursor, nombre_tabla, columnas):\n\u001b[0;32m      4\u001b[0m     \u001b[38;5;66;03m# Agregar el identificador personalizado para la tabla\u001b[39;00m\n\u001b[0;32m      5\u001b[0m     columnas_con_id \u001b[38;5;241m=\u001b[39m [\u001b[38;5;124m'\u001b[39m\u001b[38;5;132;01m{}\u001b[39;00m\u001b[38;5;124m_ID INT AUTO_INCREMENT PRIMARY KEY\u001b[39m\u001b[38;5;124m'\u001b[39m\u001b[38;5;241m.\u001b[39mformat(nombre_tabla)] \u001b[38;5;241m+\u001b[39m columnas\n",
      "\u001b[1;31mModuleNotFoundError\u001b[0m: No module named 'pymysql'"
     ]
    }
   ],
   "source": [
    "import pymysql\n",
    "\n",
    "def crear_tabla(cursor, nombre_tabla, columnas):\n",
    "    # Agregar el identificador personalizado para la tabla\n",
    "    columnas_con_id = ['{}_ID INT AUTO_INCREMENT PRIMARY KEY'.format(nombre_tabla)] + columnas\n",
    "    \n",
    "    query = f'''\n",
    "        CREATE TABLE IF NOT EXISTS {nombre_tabla} (\n",
    "            {\", \".join(columnas_con_id)}\n",
    "        )\n",
    "    '''\n",
    "    cursor.execute(query)\n",
    "\n",
    "def main():\n",
    "    try:\n",
    "        # Establecer conexión a la base de datos\n",
    "        connection = pymysql.connect(\n",
    "            host='sql10.freesqldatabase.com',\n",
    "            user='sql10705361',\n",
    "            password='HqKECAGFRn',\n",
    "            database='sql10705361'\n",
    "        )\n",
    "        print(\"Conexión establecida correctamente\")\n",
    "        \n",
    "        # Crear cursor\n",
    "        cursor = connection.cursor()\n",
    "\n",
    "        while True:\n",
    "            # Pedir nombre de la tabla al usuario\n",
    "            nombre_tabla = input(\"Ingrese el nombre de la tabla (o 'fin' para terminar): \").strip()\n",
    "            if nombre_tabla.lower() == 'fin':\n",
    "                break\n",
    "\n",
    "            # Pedir columnas al usuario\n",
    "            columnas_input = input(\"Ingrese las columnas de la tabla separadas por coma (por ejemplo, 'nombre VARCHAR(255), edad INT'): \").strip()\n",
    "            columnas = [col.strip() for col in columnas_input.split(\",\")]\n",
    "\n",
    "            # Crear la tabla en la base de datos\n",
    "            crear_tabla(cursor, nombre_tabla, columnas)\n",
    "            print(f\"Tabla '{nombre_tabla}' creada exitosamente con columnas: {', '.join(columnas)}.\")\n",
    "\n",
    "            # Preguntar al usuario si quiere crear más tablas\n",
    "            respuesta = input(\"¿Desea crear otra tabla? (si/no): \").strip().lower()\n",
    "            if respuesta != 'si':\n",
    "                break\n",
    "\n",
    "        # Cerrar cursor y conexión\n",
    "        cursor.close()\n",
    "        connection.close()\n",
    "        print(\"Conexión cerrada correctamente\")\n",
    "\n",
    "    except pymysql.Error as e:\n",
    "        print(\"Error al intentar conectarse a la Base de Datos:\", e)\n",
    "\n",
    "if __name__ == \"__main__\":\n",
    "    main()\n"
   ]
  }
 ],
 "metadata": {
  "kernelspec": {
   "display_name": "Python 3 (ipykernel)",
   "language": "python",
   "name": "python3"
  },
  "language_info": {
   "codemirror_mode": {
    "name": "ipython",
    "version": 3
   },
   "file_extension": ".py",
   "mimetype": "text/x-python",
   "name": "python",
   "nbconvert_exporter": "python",
   "pygments_lexer": "ipython3",
   "version": "3.11.7"
  }
 },
 "nbformat": 4,
 "nbformat_minor": 2
}
