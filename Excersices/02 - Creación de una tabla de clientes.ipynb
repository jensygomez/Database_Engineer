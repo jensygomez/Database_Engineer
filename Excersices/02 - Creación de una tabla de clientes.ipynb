{
 "cells": [
  {
   "cell_type": "markdown",
   "metadata": {},
   "source": [
    "**Author:**       Jensy Gregorio Gómez \n",
    "---------------------------------------\n",
    "**Profession:**  IT Support Analyst and Automatation with Python\n",
    "\n",
    "**Date:**         22 April 2024     \n",
    "\n",
    "**Location:**     Vila Izabel, Curitiba/PR  \n",
    "\n",
    "\n",
    "---\n",
    "\n",
    "**Contacto:**\n",
    "\n",
    "- **Email:** [contact@jensygomez.us](mailto:contact@jensygomez.us)\n",
    "- **YouTube:** [Tu Canal de YouTube](https://www.youtube.com/@systechcwb826)\n",
    "- **LinkedIn:** [Tu Perfil de LinkedIn](https://www.linkedin.com/in/jensygomez/)\n",
    "\n",
    "\n"
   ]
  },
  {
   "cell_type": "markdown",
   "metadata": {},
   "source": [
    "**Título:** \n",
    "# Creación de una tabla de clientes para CM Mobiles.\n",
    "\n",
    "**Escenario:** Mr. Carl Merkel es propietario de CM Mobiles, una pequeña empresa que vende dispositivos móviles. Para mejorar la gestión de clientes, Carl decide crear una tabla en una base de datos para almacenar información clave sobre ellos, como sus nombres de usuario, nombres completos y direcciones de correo electrónico.\n",
    "\n",
    "**Paso a paso:**\n",
    "\n",
    "1. **Definir la estructura de la tabla:**\n",
    "   ```sql\n",
    "   CREATE TABLE Customer (\n",
    "       customer_id INT PRIMARY KEY AUTO_INCREMENT,\n",
    "       username VARCHAR(50) NOT NULL,\n",
    "       full_name VARCHAR(100) NOT NULL,\n",
    "       email VARCHAR(100) NOT NULL\n",
    "   );\n",
    "   ```\n",
    "   En este paso, se crea una nueva tabla llamada `Customer` con cuatro columnas: `customer_id`, `username`, `full_name` y `email`.\n",
    "\n",
    "2. **Definir la columna `customer_id`:**\n",
    "   - Tipo de dato: `INT` (entero)\n",
    "   - Restricciones: `PRIMARY KEY` (clave primaria), `AUTO_INCREMENT` (autoincremento)\n",
    "   Esta columna sirve como identificador único para cada cliente y se generará automáticamente al insertar nuevos registros.\n",
    "\n",
    "3. **Definir la columna `username`:**\n",
    "   - Tipo de dato: `VARCHAR(50)` (cadena de caracteres variable con una longitud máxima de 50 caracteres)\n",
    "   - Restricciones: `NOT NULL` (no puede estar vacío)\n",
    "   Esta columna almacenará los nombres de usuario de los clientes.\n",
    "\n",
    "4. **Definir la columna `full_name`:**\n",
    "   - Tipo de dato: `VARCHAR(100)` (cadena de caracteres variable con una longitud máxima de 100 caracteres)\n",
    "   - Restricciones: `NOT NULL` (no puede estar vacío)\n",
    "   Esta columna almacenará los nombres completos de los clientes.\n",
    "\n",
    "5. **Definir la columna `email`:**\n",
    "   - Tipo de dato: `VARCHAR(100)` (cadena de caracteres variable con una longitud máxima de 100 caracteres)\n",
    "   - Restricciones: `NOT NULL` (no puede estar vacío)\n",
    "   Esta columna almacenará las direcciones de correo electrónico de los clientes.\n",
    "\n",
    "Con estos pasos, la tabla de clientes está lista para almacenar la información necesaria para la gestión de clientes en CM Mobiles."
   ]
  },
  {
   "cell_type": "code",
   "execution_count": null,
   "metadata": {
    "vscode": {
     "languageId": "sql"
    }
   },
   "outputs": [],
   "source": [
    "-- Digite o Coomando SQL\n",
    "CREATE TABLE customer (\n",
    "    customer_ID INT PRIMARY KEY AUTO_INCREMENT,\n",
    "    username VARCHAR(50) NOT NULL,\n",
    "    fullname VARCHAR(100) NOT NULL,\n",
    "    email VARCHAR(100) NOT NULL\n",
    ");\n",
    "\n"
   ]
  },
  {
   "cell_type": "code",
   "execution_count": 3,
   "metadata": {},
   "outputs": [
    {
     "ename": "ModuleNotFoundError",
     "evalue": "No module named 'mysql'",
     "output_type": "error",
     "traceback": [
      "\u001b[1;31m---------------------------------------------------------------------------\u001b[0m",
      "\u001b[1;31mModuleNotFoundError\u001b[0m                       Traceback (most recent call last)",
      "Cell \u001b[1;32mIn[3], line 1\u001b[0m\n\u001b[1;32m----> 1\u001b[0m \u001b[38;5;28;01mimport\u001b[39;00m \u001b[38;5;21;01mmysql\u001b[39;00m\u001b[38;5;21;01m.\u001b[39;00m\u001b[38;5;21;01mconnector\u001b[39;00m\n\u001b[0;32m      3\u001b[0m \u001b[38;5;66;03m# Conectar a la base de datos\u001b[39;00m\n\u001b[0;32m      4\u001b[0m conexion \u001b[38;5;241m=\u001b[39m mysql\u001b[38;5;241m.\u001b[39mconnector\u001b[38;5;241m.\u001b[39mconnect(\n\u001b[0;32m      5\u001b[0m     host\u001b[38;5;241m=\u001b[39m\u001b[38;5;124m\"\u001b[39m\u001b[38;5;124mlocalhost\u001b[39m\u001b[38;5;124m\"\u001b[39m,\n\u001b[0;32m      6\u001b[0m     user\u001b[38;5;241m=\u001b[39m\u001b[38;5;124m\"\u001b[39m\u001b[38;5;124mroot\u001b[39m\u001b[38;5;124m\"\u001b[39m,\n\u001b[1;32m   (...)\u001b[0m\n\u001b[0;32m      9\u001b[0m     port\u001b[38;5;241m=\u001b[39m\u001b[38;5;124m\"\u001b[39m\u001b[38;5;124m3306\u001b[39m\u001b[38;5;124m\"\u001b[39m  \u001b[38;5;66;03m# Puerto por defecto de MySQL\u001b[39;00m\n\u001b[0;32m     10\u001b[0m )\n",
      "\u001b[1;31mModuleNotFoundError\u001b[0m: No module named 'mysql'"
     ]
    }
   ],
   "source": [
    "import mysql.connector\n",
    "\n",
    "# Conectar a la base de datos\n",
    "conexion = mysql.connector.connect(\n",
    "    host=\"localhost\",\n",
    "    user=\"root\",\n",
    "    password=\"\",  # No se necesita contraseña en tu caso\n",
    "    database=\"cm_devices\",  # Reemplaza \"nombre_de_tu_base_de_datos\" con el nombre de tu base de datos\n",
    "    port=\"3306\"  # Puerto por defecto de MySQL\n",
    ")\n",
    "\n",
    "if conexion.is_connected():\n",
    "    print(\"Conexión establecida correctamente\")\n",
    "else:\n",
    "    print(\"No se pudo establecer conexión\")\n",
    "\n",
    "\n",
    "# Definir la consulta SQL para crear la tabla\n",
    "comandoSQL = \"\"\"\n",
    "CREATE TABLE customer (\n",
    "    customer_ID INT PRIMARY KEY AUTO_INCREMENT,\n",
    "    username VARCHAR(50) NOT NULL,\n",
    "    fullname VARCHAR(100) NOT NULL,\n",
    "    email VARCHAR(100) NOT NULL\n",
    ");\n",
    "\n",
    "\n",
    "\n",
    "\"\"\"\n",
    "\n",
    "print(\"Comando SQL almacenado en la variable comandoSQL\")\n",
    "\n",
    "\n",
    "# Ejecutar la consulta SQL para crear la tabla\n",
    "\n",
    "# Crear un cursor\n",
    "cursor = conexion.cursor()\n",
    "\n",
    "# Ejecutar la consulta para crear la tabla\n",
    "cursor.execute(comandoSQL)\n",
    "\n",
    "# Confirmar los cambios en la base de datos\n",
    "conexion.commit()\n",
    "\n",
    "\n",
    "# Cerrar la conexión a la base de datos al final del código\n",
    "conexion.close()\n",
    "print(\"Conexión cerrada\")"
   ]
  }
 ],
 "metadata": {
  "kernelspec": {
   "display_name": "Python 3 (ipykernel)",
   "language": "python",
   "name": "python3"
  },
  "language_info": {
   "codemirror_mode": {
    "name": "ipython",
    "version": 3
   },
   "file_extension": ".py",
   "mimetype": "text/x-python",
   "name": "python",
   "nbconvert_exporter": "python",
   "pygments_lexer": "ipython3",
   "version": "3.11.7"
  }
 },
 "nbformat": 4,
 "nbformat_minor": 2
}
