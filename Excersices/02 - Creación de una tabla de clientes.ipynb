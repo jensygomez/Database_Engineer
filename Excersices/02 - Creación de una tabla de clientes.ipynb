{
 "cells": [
  {
   "cell_type": "markdown",
   "metadata": {},
   "source": [
    "**Author:**       Jensy Gregorio Gómez \n",
    "---------------------------------------\n",
    "**Profession:**  IT Support Analyst and Automatation with Python\n",
    "\n",
    "**Date:**         22 April 2024     \n",
    "\n",
    "**Modified** 09 May 2024\n",
    "\n",
    "**Location:**     Vila Izabel, Curitiba/PR  \n",
    "\n",
    "\n",
    "---\n",
    "\n",
    "**Contacto:**\n",
    "\n",
    "- **Email:** [contact@jensygomez.us](mailto:contact@jensygomez.us)\n",
    "- **YouTube:** [Tu Canal de YouTube](https://www.youtube.com/@systechcwb826)\n",
    "- **LinkedIn:** [Tu Perfil de LinkedIn](https://www.linkedin.com/in/jensygomez/)\n",
    "\n",
    "\n"
   ]
  },
  {
   "cell_type": "code",
   "execution_count": 5,
   "metadata": {},
   "outputs": [
    {
     "name": "stdout",
     "output_type": "stream",
     "text": [
      "Conexion Establecida Correctamente\n",
      "(1, 'Juan', 25)\n",
      "(2, 'Jensy', 45)\n",
      "(3, 'Maria', 35)\n",
      "(4, 'Samuel', 6)\n",
      "La Coneccion con la base de datos está: CERRADA\n"
     ]
    }
   ],
   "source": [
    "import pymysql\n",
    "\n",
    "try:\n",
    "    connection = pymysql.connect(\n",
    "        host='sql10.freesqldatabase.com',\n",
    "        user='sql10705361',\n",
    "        password='HqKECAGFRn',\n",
    "        database='sql10705361'\n",
    "    )\n",
    "\n",
    "    print(\"Conexion Establecida Correctamente\")\n",
    "    #######\n",
    "    #######\n",
    "    #######\n",
    "\n",
    "    # Utilizar 'with' para garantizar que el cursor se cierre automáticamente al salir del bloque\n",
    "    # 'connection.cursor()' se utiliza para obtener un cursor que nos permitirá ejecutar consultas SQL en la base de datos\n",
    "    # 'as cursor' asigna el cursor obtenido a la variable 'cursor' para que podamos usarlo dentro del bloque\n",
    "\n",
    "    \n",
    "\n",
    "\n",
    "\n",
    "#######\n",
    "#######\n",
    "#######\n",
    "\n",
    "   \n",
    "   \n",
    "\n",
    "    connection.close()\n",
    "    print(\"La Coneccion con la base de datos está:\", \"abierta\" if connection.open else \"CERRADA\")\n",
    "\n",
    "\n",
    "except pymysql.Error as e:\n",
    "    print(\"Error al intentar conectarse a la Base de Datos\", e)"
   ]
  }
 ],
 "metadata": {
  "kernelspec": {
   "display_name": "Python 3 (ipykernel)",
   "language": "python",
   "name": "python3"
  },
  "language_info": {
   "codemirror_mode": {
    "name": "ipython",
    "version": 3
   },
   "file_extension": ".py",
   "mimetype": "text/x-python",
   "name": "python",
   "nbconvert_exporter": "python",
   "pygments_lexer": "ipython3",
   "version": "3.10.12"
  }
 },
 "nbformat": 4,
 "nbformat_minor": 2
}
