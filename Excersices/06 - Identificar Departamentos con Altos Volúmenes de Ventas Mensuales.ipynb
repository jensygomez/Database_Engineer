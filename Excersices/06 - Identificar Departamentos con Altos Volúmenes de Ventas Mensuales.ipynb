{
 "cells": [
  {
   "cell_type": "markdown",
   "metadata": {},
   "source": [
    "**Author:**       Jensy Gregorio Gómez \n",
    "---------------------------------------\n",
    "**Profession:**  IT Support Analyst and Automatation with Python\n",
    "\n",
    "**Date:**         01 Jun 2024     \n",
    "\n",
    "**Modified** \n",
    "\n",
    "**Location:**     Vila Izabel, Curitiba/PR  \n",
    "\n",
    "\n",
    "---\n",
    "\n",
    "**Contacto:**\n",
    "\n",
    "- **Email:** [contact@jensygomez.us](mailto:contact@jensygomez.us)\n",
    "- **YouTube:** [Tu Canal de YouTube](https://www.youtube.com/@systechcwb826)\n",
    "- **LinkedIn:** [Tu Perfil de LinkedIn](https://www.linkedin.com/in/jensygomez/)\n",
    "\n",
    "\n"
   ]
  },
  {
   "cell_type": "markdown",
   "metadata": {},
   "source": [
    "\n",
    "**Título: Identificar Departamentos con Altos Volúmenes de Ventas Mensuales**\n",
    "\n",
    "**Escenario:** Lucky Shrub necesita analizar sus datos de pedidos para identificar cuáles de sus departamentos han logrado altos volúmenes de ventas en los últimos dos meses. Específicamente, quieren saber qué departamentos han alcanzado un total de ventas mayor a $2,275 durante este período."
   ]
  },
  {
   "cell_type": "code",
   "execution_count": null,
   "metadata": {
    "vscode": {
     "languageId": "sql"
    }
   },
   "outputs": [],
   "source": [
    "-- Crear la base de datos\n",
    "CREATE DATABASE LuckyShrub;\n",
    "\n",
    "-- Usar la base de datos\n",
    "USE LuckyShrub;\n",
    "\n",
    "-- Crear la tabla 'orders'\n",
    "CREATE TABLE orders (\n",
    "    OrderID INT PRIMARY KEY,\n",
    "    Department VARCHAR(50),\n",
    "    OrderDate DATE,\n",
    "    OrderQuantity INT,\n",
    "    OrderTotal DECIMAL(10, 2)\n",
    ");\n",
    "\n",
    "-- Insertar 20 registros en la tabla 'orders'\n",
    "INSERT INTO orders (OrderID, Department, OrderDate, OrderQuantity, OrderTotal) VALUES\n",
    "(1, 'Electronics', '2024-01-05', 10, 1500.00),\n",
    "(2, 'Home', '2024-01-10', 5, 300.00),\n",
    "(3, 'Garden', '2024-01-12', 20, 500.00),\n",
    "(4, 'Electronics', '2024-01-15', 8, 1800.00),\n",
    "(5, 'Toys', '2024-01-18', 15, 1000.00),\n",
    "(6, 'Garden', '2024-01-20', 10, 800.00),\n",
    "(7, 'Home', '2024-01-22', 12, 2500.00),\n",
    "(8, 'Electronics', '2024-01-25', 5, 700.00),\n",
    "(9, 'Clothing', '2024-01-28', 7, 3000.00),\n",
    "(10, 'Clothing', '2024-02-01', 4, 1200.00),\n",
    "(11, 'Electronics', '2024-02-03', 20, 2200.00),\n",
    "(12, 'Garden', '2024-02-05', 5, 450.00),\n",
    "(13, 'Toys', '2024-02-07', 7, 600.00),\n",
    "(14, 'Home', '2024-02-09', 6, 320.00),\n",
    "(15, 'Electronics', '2024-02-11', 10, 1750.00),\n",
    "(16, 'Garden', '2024-02-13', 12, 900.00),\n",
    "(17, 'Clothing', '2024-02-15', 8, 2600.00),\n",
    "(18, 'Toys', '2024-02-17', 5, 400.00),\n",
    "(19, 'Home', '2024-02-19', 10, 1500.00),\n",
    "(20, 'Clothing', '2024-02-21', 3, 800.00);\n",
    "\n",
    "\n",
    "\n",
    "\n",
    "SELECT Department, SUM(OrderTotal) AS total\n",
    "FROM orders\n",
    "GROUP BY Department\n",
    "HAVING total > 2275;\n"
   ]
  }
 ],
 "metadata": {
  "kernelspec": {
   "display_name": "Python 3 (ipykernel)",
   "language": "python",
   "name": "python3"
  },
  "language_info": {
   "codemirror_mode": {
    "name": "ipython",
    "version": 3
   },
   "file_extension": ".py",
   "mimetype": "text/x-python",
   "name": "python",
   "nbconvert_exporter": "python",
   "pygments_lexer": "ipython3",
   "version": "3.11.7"
  }
 },
 "nbformat": 4,
 "nbformat_minor": 2
}
