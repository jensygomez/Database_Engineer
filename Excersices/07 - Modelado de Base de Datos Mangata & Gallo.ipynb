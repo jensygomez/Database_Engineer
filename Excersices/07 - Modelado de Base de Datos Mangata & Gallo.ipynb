{
 "cells": [
  {
   "cell_type": "markdown",
   "metadata": {},
   "source": [
    "**Author:**       Jensy Gregorio Gómez \n",
    "---------------------------------------\n",
    "**Profession:**  IT Support Analyst | NOC | Database Administrator\n",
    "\n",
    "**Date:**         24 Junio 2024    \n",
    "\n",
    "**Modified**  \n",
    "\n",
    "**Location:**     Vila Izabel, Curitiba/PR  \n",
    "\n",
    "\n",
    "---\n",
    "\n",
    "**Contacto:**\n",
    "\n",
    "- **Email:** [contact@jensygomez.us](mailto:contact@jensygomez.us)\n",
    "- **YouTube:** [Tu Canal de YouTube](https://www.youtube.com/@systechcwb826)\n",
    "- **LinkedIn:** [Tu Perfil de LinkedIn](https://www.linkedin.com/in/jensygomez/)\n",
    "\n",
    "\n"
   ]
  },
  {
   "cell_type": "markdown",
   "metadata": {},
   "source": [
    "### Paso 1: Crear la base de datos\n",
    "\n",
    "Primero, asegúrate de crear la base de datos `Mangata_Gallo` y seleccionarla para usarla:"
   ]
  },
  {
   "cell_type": "code",
   "execution_count": null,
   "metadata": {
    "vscode": {
     "languageId": "sql"
    }
   },
   "outputs": [],
   "source": [
    "CREATE DATABASE Mangata_Gallo;\n",
    "USE Mangata_Gallo;"
   ]
  },
  {
   "cell_type": "markdown",
   "metadata": {},
   "source": [
    "### Paso 2: Crear la tabla `Clients`\n",
    "La tabla `Clients` tendrá las siguientes columnas y restricciones:\n",
    "- `ClientID`: INT, NOT NULL y PRIMARY KEY\n",
    "- `FullName`: VARCHAR(100) NOT NULL\n",
    "- `PhoneNumber`: INT, NOT NULL y UNIQUE"
   ]
  },
  {
   "cell_type": "code",
   "execution_count": null,
   "metadata": {
    "vscode": {
     "languageId": "sql"
    }
   },
   "outputs": [],
   "source": [
    "CREATE TABLE Clients (\n",
    "    ClientID INT NOT NULL AUTO_INCREMENT,\n",
    "    FullName VARCHAR(100) NOT NULL,\n",
    "    PhoneNumber INT NOT NULL UNIQUE,\n",
    "    PRIMARY KEY (ClientID)\n",
    ");"
   ]
  },
  {
   "cell_type": "markdown",
   "metadata": {},
   "source": [
    "### Paso 3: Crear la tabla `Items`\n",
    "\n",
    "La tabla `Items` tendrá las siguientes columnas y restricciones:\n",
    "- `ItemID`: INT, NOT NULL y PRIMARY KEY\n",
    "- `ItemName`: VARCHAR(100) NOT NULL\n",
    "- `Price`: DECIMAL(5,2) NOT NULL"
   ]
  },
  {
   "cell_type": "code",
   "execution_count": null,
   "metadata": {
    "vscode": {
     "languageId": "sql"
    }
   },
   "outputs": [],
   "source": [
    "CREATE TABLE Items (\n",
    "    ItemID INT NOT NULL AUTO_INCREMENT,\n",
    "    ItemName VARCHAR(100) NOT NULL,\n",
    "    Price DECIMAL(5,2) NOT NULL,\n",
    "    PRIMARY KEY (ItemID)\n",
    ");"
   ]
  },
  {
   "cell_type": "markdown",
   "metadata": {},
   "source": [
    "### Paso 4: Crear la tabla `Orders`\n",
    "\n",
    "La tabla `Orders` tendrá las siguientes columnas y restricciones:\n",
    "- `OrderID`: INT, NOT NULL y PRIMARY KEY\n",
    "- `ClientID`: INT, NOT NULL y FOREIGN KEY\n",
    "- `ItemID`: INT, NOT NULL y FOREIGN KEY\n",
    "- `Quantity`: INT, NOT NULL, con un valor máximo de 3\n",
    "- `Cost`: DECIMAL(6,2) NOT NULL\n",
    "\n",
    "Para crear las restricciones de clave foránea (`FOREIGN KEY`), primero aseguramos que las tablas `Clients` y `Items` ya estén creadas."
   ]
  },
  {
   "cell_type": "code",
   "execution_count": null,
   "metadata": {
    "vscode": {
     "languageId": "sql"
    }
   },
   "outputs": [],
   "source": [
    "CREATE TABLE Orders (\n",
    "    OrderID INT NOT NULL AUTO_INCREMENT,\n",
    "    ClientID INT NOT NULL,\n",
    "    ItemID INT NOT NULL,\n",
    "    Quantity INT NOT NULL CHECK (Quantity <= 3),\n",
    "    Cost DECIMAL(6,2) NOT NULL,\n",
    "    PRIMARY KEY (OrderID),\n",
    "    FOREIGN KEY (ClientID) REFERENCES Clients(ClientID),\n",
    "    FOREIGN KEY (ItemID) REFERENCES Items(ItemID)\n",
    ");"
   ]
  }
 ],
 "metadata": {
  "kernelspec": {
   "display_name": "Python 3 (ipykernel)",
   "language": "python",
   "name": "python3"
  },
  "language_info": {
   "codemirror_mode": {
    "name": "ipython",
    "version": 3
   },
   "file_extension": ".py",
   "mimetype": "text/x-python",
   "name": "python",
   "nbconvert_exporter": "python",
   "pygments_lexer": "ipython3",
   "version": "3.10.12"
  }
 },
 "nbformat": 4,
 "nbformat_minor": 2
}
