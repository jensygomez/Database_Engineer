{
 "cells": [
  {
   "cell_type": "markdown",
   "metadata": {},
   "source": [
    "**Author:**       Jensy Gregorio Gómez \n",
    "---------------------------------------\n",
    "**Profession:**  IT Support Analyst and Automatation with Python\n",
    "\n",
    "**Date:**         19 April 2024     \n",
    "\n",
    "**Resolved** \n",
    "\n",
    "**Location:**     Vila Izabel, Curitiba/PR  \n",
    "\n",
    "\n",
    "---\n",
    "\n",
    "**Contacto:**\n",
    "\n",
    "- **Email:** [contact@jensygomez.us](mailto:contact@jensygomez.us)\n",
    "- **YouTube:** [Tu Canal de YouTube](https://www.youtube.com/@systechcwb826)\n",
    "- **LinkedIn:** [Tu Perfil de LinkedIn](https://www.linkedin.com/in/jensygomez/)\n",
    "\n",
    "\n"
   ]
  },
  {
   "cell_type": "markdown",
   "metadata": {},
   "source": [
    "**Título:** \n",
    "# Gestión de Conexión y Ejecución de Consultas SQL en Python con MySQL\n",
    "\n",
    "**Enunciado:** El objetivo de este código es establecer una conexión a una base de datos MySQL local llamada \"Course_db\" y proporcionar una función para ejecutar consultas SQL. Además, se incluye un ejemplo de uso para mostrar cómo utilizar estas funciones."
   ]
  },
  {
   "cell_type": "code",
   "execution_count": 1,
   "metadata": {},
   "outputs": [
    {
     "name": "stdout",
     "output_type": "stream",
     "text": [
      "Conexión exitosa\n",
      "Puedes ejecutar comandos SQL en bloques adicionales.\n"
     ]
    }
   ],
   "source": [
    "# 1. Importar el módulo `mysql.connector` para permitir la conexión a la base de datos MySQL.\n",
    "\n",
    "\n",
    "# 2. Definir la función `conectar_base_datos()` para establecer la conexión a la base de datos.\n",
    "\n",
    "    # Intentar (try) establecer una conexión a la base de datos MySQL\n",
    "\n",
    "        # a la variable \"connection\" Establecer una conexión a la base de datos MySQL utilizando la biblioteca mysql.connector\n",
    "\n",
    "            # Dirección del servidor de la base de datos (host)\n",
    "\n",
    "            # Nombre de usuario (user) para acceder a la base de datos\n",
    "\n",
    "            # Contraseña (password) para autenticarse en la base de datos\n",
    "\n",
    "            # Nombre de la base de datos a la que conectar\n",
    "\n",
    "        \n",
    "        # Imprime un mensaje indicando que la conexión fue exitosa\n",
    "\n",
    "        # Devuelve el objeto de conexión si la conexión fue exitosa\n",
    "\n",
    "    # Captura cualquier error que ocurra durante la conexión\n",
    "\n",
    "        # Imprime un mensaje de error si la conexión falla        \n",
    "\n",
    "        # Devuelve None si la conexión no pudo establecerse        \n",
    "\n",
    "\n",
    "\n",
    "\n",
    "\n",
    "# Definir una función llamada ejecutar_sql que toma una conexión de base de datos y una consulta SQL como argumentos\n",
    "\n",
    "\n",
    "# Intentar ejecutar el bloque de código dentro del bloque try\n",
    "\n",
    "         \n",
    "         # Crear un objeto cursor para ejecutar consultas en la conexión establecida\n",
    "\n",
    "\n",
    "\n",
    "        # Ejecutar la consulta SQL especificada utilizando el cursor creado anteriormente\n",
    "\n",
    "\n",
    "\n",
    "        # Confirmar la ejecución de la transacción en la base de datos\n",
    "\n",
    "\n",
    "\n",
    "        # Cerrar el cursor para liberar los recursos asociados\n",
    "\n",
    "\n",
    "\n",
    "        # Imprimir un mensaje indicando que el comando SQL se ejecutó correctamente\n",
    "\n",
    "\n",
    "    # Capturar cualquier error de tipo mysql.connector.Error y asignarlo a la variable 'error'\n",
    "\n",
    "\n",
    "        # Imprimir un mensaje de error junto con la descripción del error que ocurrió durante la ejecución del comando SQL\n",
    "\n",
    "\n",
    "\n",
    "\n",
    "# Llamar a la función conectar_base_datos() para establecer una conexión a la base de datos y asignar el resultado a la variable 'connection'\n",
    "\n",
    "\n",
    "# Verificar si la conexión a la base de datos fue exitosa (si la variable 'connection' no es None ni False)\n",
    "\n",
    "\n",
    "    # Definir una función llamada ejecutar_comando_sql que toma una consulta SQL como argumento\n",
    "\n",
    "        # Llamar a la función 'ejecutar_sql' pasando la conexión a la base de datos y la consulta SQL como argumentos\n",
    "\n",
    "    # Imprimir un mensaje indicando que se pueden ejecutar comandos SQL en bloques adicionales\n",
    "\n",
    "\n",
    "\n",
    "# Si la conexión a la base de datos no fue exitosa (else), ejecutar este bloque de código\n",
    "\n",
    "    # Imprimir un mensaje indicando que no se pudo establecer la conexión con la base de datos\n",
    "\n",
    "\n",
    "\n"
   ]
  },
  {
   "cell_type": "code",
   "execution_count": 1,
   "metadata": {},
   "outputs": [
    {
     "name": "stdout",
     "output_type": "stream",
     "text": [
      "Conexión exitosa\n",
      "Puedes ejecutar comandos SQL en bloques adicionales.\n"
     ]
    }
   ],
   "source": [
    "import mysql.connector\n",
    "\n",
    "def conectar_base_datos():\n",
    "    try:\n",
    "        connection = mysql.connector.connect(\n",
    "            host=\"localhost\",\n",
    "            user=\"root\",\n",
    "            password=\"\",\n",
    "            database=\"Course_db\"\n",
    "        )\n",
    "        print(\"Conexión exitosa\")\n",
    "        return connection\n",
    "    except mysql.connector.Error as error:\n",
    "        print(\"Error al conectar a la base de datos:\", error)\n",
    "        return None\n",
    "\n",
    "def ejecutar_sql(connection, sql_query):\n",
    "    try:\n",
    "        cursor = connection.cursor()\n",
    "        cursor.execute(sql_query)\n",
    "        connection.commit()\n",
    "        cursor.close()\n",
    "        print(\"Comando SQL ejecutado exitosamente\")\n",
    "    except mysql.connector.Error as error:\n",
    "        print(\"Error al ejecutar el comando SQL:\", error)\n",
    "\n",
    "connection = conectar_base_datos()\n",
    "\n",
    "if connection:\n",
    "    def ejecutar_comando_sql(sql_query):\n",
    "        ejecutar_sql(connection, sql_query)\n",
    "    print(\"Puedes ejecutar comandos SQL en bloques adicionales.\")\n",
    "else:\n",
    "    print(\"No se pudo establecer la conexión con la base de datos.\")\n"
   ]
  },
  {
   "cell_type": "code",
   "execution_count": 2,
   "metadata": {},
   "outputs": [
    {
     "name": "stdout",
     "output_type": "stream",
     "text": [
      "Comando SQL ejecutado exitosamente\n"
     ]
    }
   ],
   "source": [
    "# Ejecutar comandos SQL\n",
    "sql_query = \"\"\"\n",
    "    CREATE TABLE tesadfnombres (\n",
    "        ID INT PRIMARY KEY,\n",
    "        Nombre VARCHAR(50),\n",
    "        Edad INT\n",
    "    )\n",
    "\"\"\"\n",
    "ejecutar_comando_sql(sql_query)\n",
    "\n",
    "# Puedes seguir ejecutando más comandos SQL aquí si lo deseas\n",
    "\n"
   ]
  },
  {
   "cell_type": "code",
   "execution_count": 3,
   "metadata": {},
   "outputs": [],
   "source": [
    "connection.close()"
   ]
  }
 ],
 "metadata": {
  "kernelspec": {
   "display_name": "Python 3 (ipykernel)",
   "language": "python",
   "name": "python3"
  },
  "language_info": {
   "codemirror_mode": {
    "name": "ipython",
    "version": 3
   },
   "file_extension": ".py",
   "mimetype": "text/x-python",
   "name": "python",
   "nbconvert_exporter": "python",
   "pygments_lexer": "ipython3",
   "version": "3.11.7"
  }
 },
 "nbformat": 4,
 "nbformat_minor": 4
}
