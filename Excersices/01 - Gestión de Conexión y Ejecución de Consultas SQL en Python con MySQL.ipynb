{
 "cells": [
  {
   "cell_type": "markdown",
   "metadata": {},
   "source": [
    "**Author:**       Jensy Gregorio Gómez \n",
    "---------------------------------------\n",
    "**Profession:**  IT Support Analyst and Automatation with Python\n",
    "\n",
    "**Date:**         15 March 2024     \n",
    "\n",
    "**Resolved** \n",
    "\n",
    "**Location:**     Vila Izabel, Curitiba/PR  \n",
    "\n",
    "\n",
    "---\n",
    "\n",
    "**Contacto:**\n",
    "\n",
    "- **Email:** [contact@jensygomez.us](mailto:contact@jensygomez.us)\n",
    "- **YouTube:** [Tu Canal de YouTube](https://www.youtube.com/@systechcwb826)\n",
    "- **LinkedIn:** [Tu Perfil de LinkedIn](https://www.linkedin.com/in/jensygomez/)\n",
    "\n",
    "\n"
   ]
  },
  {
   "cell_type": "markdown",
   "metadata": {},
   "source": [
    "**Título:** \n",
    "# Gestión de Conexión y Ejecución de Consultas SQL en Python con MySQL\n",
    "\n",
    "**Enunciado:** El objetivo de este código es establecer una conexión a una base de datos MySQL local llamada \"Course_db\" y proporcionar una función para ejecutar consultas SQL. Además, se incluye un ejemplo de uso para mostrar cómo utilizar estas funciones."
   ]
  },
  {
   "cell_type": "code",
   "execution_count": 6,
   "metadata": {},
   "outputs": [
    {
     "name": "stdout",
     "output_type": "stream",
     "text": [
      "Conexión exitosa\n",
      "Puedes ejecutar comandos SQL en bloques adicionales.\n"
     ]
    }
   ],
   "source": [
    "import mysql.connector\n",
    "\n",
    "def conectar_base_datos():\n",
    "    try:\n",
    "        # Conectar a la base de datos\n",
    "        connection = mysql.connector.connect(\n",
    "            host=\"localhost\",\n",
    "            user=\"root\",\n",
    "            password=\"\",\n",
    "            database=\"Course_db\"\n",
    "        )\n",
    "        print(\"Conexión exitosa\")\n",
    "        return connection\n",
    "    except mysql.connector.Error as error:\n",
    "        print(\"Error al conectar a la base de datos:\", error)\n",
    "        return None\n",
    "\n",
    "def ejecutar_sql(connection, sql_query):\n",
    "    try:\n",
    "        # Crear un cursor para ejecutar consultas SQL\n",
    "        cursor = connection.cursor()\n",
    "\n",
    "        # Ejecutar el comando SQL\n",
    "        cursor.execute(sql_query)\n",
    "\n",
    "        # Confirmar la ejecución si es necesario\n",
    "        connection.commit()\n",
    "\n",
    "        # Cerrar el cursor\n",
    "        cursor.close()\n",
    "\n",
    "        print(\"Comando SQL ejecutado exitosamente\")\n",
    "    except mysql.connector.Error as error:\n",
    "        print(\"Error al ejecutar el comando SQL:\", error)\n",
    "\n",
    "# Ejemplo de uso\n",
    "connection = conectar_base_datos()\n",
    "if connection:\n",
    "    # Definir función para ejecutar comandos SQL\n",
    "    def ejecutar_comando_sql(sql_query):\n",
    "        ejecutar_sql(connection, sql_query)\n",
    "\n",
    "    print(\"Puedes ejecutar comandos SQL en bloques adicionales.\")\n",
    "else:\n",
    "    print(\"No se pudo establecer la conexión con la base de datos.\")\n",
    "\n"
   ]
  },
  {
   "cell_type": "code",
   "execution_count": null,
   "metadata": {},
   "outputs": [],
   "source": [
    "# 1. Importar el módulo `mysql.connector` para permitir la conexión a la base de datos MySQL.\n",
    "# 2. Definir la función `conectar_base_datos()` para establecer la conexión a la base de datos.\n",
    "#    - Intentar conectar a la base de datos utilizando los parámetros de host, usuario, contraseña y nombre de la base de datos proporcionados.\n",
    "#    - En caso de éxito, imprimir \"Conexión exitosa\" y devolver el objeto de conexión. En caso de error, imprimir un mensaje de error y devolver `None`.\n",
    "# 3. Definir la función `ejecutar_sql(connection, sql_query)` para ejecutar consultas SQL.\n",
    "#    - Crear un cursor para la conexión.\n",
    "#    - Ejecutar la consulta SQL proporcionada.\n",
    "#    - Confirmar la ejecución de la consulta.\n",
    "#    - Cerrar el cursor.\n",
    "#    - En caso de error, imprimir un mensaje de error.\n",
    "# 4. En el ejemplo de uso:\n",
    "#    - Establecer una conexión a la base de datos llamando a `conectar_base_datos()`.\n",
    "#    - Si se establece la conexión, definir una función `ejecutar_comando_sql(sql_query)` que llame a `ejecutar_sql()` con la conexión establecida.\n",
    "#    - Imprimir un mensaje para indicar que se pueden ejecutar comandos SQL en bloques adicionales si la conexión se establece correctamente.\n",
    "#    - Si no se puede establecer la conexión, imprimir un mensaje de error."
   ]
  },
  {
   "cell_type": "code",
   "execution_count": 7,
   "metadata": {},
   "outputs": [
    {
     "name": "stdout",
     "output_type": "stream",
     "text": [
      "Comando SQL ejecutado exitosamente\n"
     ]
    }
   ],
   "source": [
    "# Ejecutar comandos SQL\n",
    "sql_query = \"\"\"\n",
    "    CREATE TABLE nombres (\n",
    "        ID INT PRIMARY KEY,\n",
    "        Nombre VARCHAR(50),\n",
    "        Edad INT\n",
    "    )\n",
    "\"\"\"\n",
    "ejecutar_comando_sql(sql_query)\n",
    "\n",
    "# Puedes seguir ejecutando más comandos SQL aquí si lo deseas\n",
    "\n"
   ]
  },
  {
   "cell_type": "code",
   "execution_count": 8,
   "metadata": {},
   "outputs": [],
   "source": [
    "connection.close()"
   ]
  }
 ],
 "metadata": {
  "kernelspec": {
   "display_name": "Python 3 (ipykernel)",
   "language": "python",
   "name": "python3"
  },
  "language_info": {
   "codemirror_mode": {
    "name": "ipython",
    "version": 3
   },
   "file_extension": ".py",
   "mimetype": "text/x-python",
   "name": "python",
   "nbconvert_exporter": "python",
   "pygments_lexer": "ipython3",
   "version": "3.11.7"
  }
 },
 "nbformat": 4,
 "nbformat_minor": 4
}
