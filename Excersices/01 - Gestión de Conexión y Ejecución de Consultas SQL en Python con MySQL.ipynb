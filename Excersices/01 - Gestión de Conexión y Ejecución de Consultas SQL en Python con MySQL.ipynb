{
 "cells": [
  {
   "cell_type": "markdown",
   "metadata": {},
   "source": [
    "**Author:**       Jensy Gregorio Gómez \n",
    "---------------------------------------\n",
    "**Profession:**  IT Support Analyst and Automatation with Python\n",
    "\n",
    "**Date:**         15 March 2024     \n",
    "\n",
    "**Resolved** \n",
    "\n",
    "**Location:**     Vila Izabel, Curitiba/PR  \n",
    "\n",
    "\n",
    "---\n",
    "\n",
    "**Contacto:**\n",
    "\n",
    "- **Email:** [contact@jensygomez.us](mailto:contact@jensygomez.us)\n",
    "- **YouTube:** [Tu Canal de YouTube](https://www.youtube.com/@systechcwb826)\n",
    "- **LinkedIn:** [Tu Perfil de LinkedIn](https://www.linkedin.com/in/jensygomez/)\n",
    "\n",
    "\n"
   ]
  },
  {
   "cell_type": "markdown",
   "metadata": {},
   "source": [
    "**Título:** \n",
    "# Gestión de Conexión y Ejecución de Consultas SQL en Python con MySQL\n",
    "\n",
    "**Enunciado:** El objetivo de este código es establecer una conexión a una base de datos MySQL local llamada \"Course_db\" y proporcionar una función para ejecutar consultas SQL. Además, se incluye un ejemplo de uso para mostrar cómo utilizar estas funciones."
   ]
  },
  {
   "cell_type": "code",
   "execution_count": null,
   "metadata": {},
   "outputs": [
    {
     "name": "stdout",
     "output_type": "stream",
     "text": [
      "Conexión exitosa\n",
      "Puedes ejecutar comandos SQL en bloques adicionales.\n"
     ]
    }
   ],
   "source": [
    "# 1. Importar el módulo `mysql.connector` para permitir la conexión a la base de datos MySQL.\n",
    "import mysql.connector\n",
    "\n",
    "# 2. Definir la función `conectar_base_datos()` para establecer la conexión a la base de datos.\n",
    "def conectar_base_datos():\n",
    "    # Intentar (try) establecer una conexión a la base de datos MySQL\n",
    "    try:\n",
    "        # a la variable \"connection\" Establecer una conexión a la base de datos MySQL utilizando la biblioteca mysql.connector\n",
    "        connection = mysql.connector.connect(\n",
    "            # Dirección del servidor de la base de datos (host)\n",
    "            host=\"localhost\",\n",
    "            # Nombre de usuario (user) para acceder a la base de datos\n",
    "            user=\"root\",\n",
    "            # Contraseña (password) para autenticarse en la base de datos\n",
    "            password=\"\",\n",
    "            # Nombre de la base de datos a la que conectar\n",
    "            database=\"Course_db\"\n",
    "        )\n",
    "        # Imprime un mensaje indicando que la conexión fue exitosa\n",
    "        print(\"Conexión exitosa\")\n",
    "        # Devuelve el objeto de conexión si la conexión fue exitosa\n",
    "        return connection\n",
    "    # Captura cualquier error que ocurra durante la conexión\n",
    "    except mysql.connector.Error as error:\n",
    "        # Imprime un mensaje de error si la conexión falla        \n",
    "        print(\"Error al conectar a la base de datos:\", error)\n",
    "        # Devuelve None si la conexión no pudo establecerse        \n",
    "        return None\n",
    "\n",
    "\n",
    "\n",
    "\n",
    "# Definir una función llamada ejecutar_sql que toma una conexión de base de datos y una consulta SQL como argumentos\n",
    "def ejecutar_sql(connection, sql_query):\n",
    "\n",
    "# Intentar ejecutar el bloque de código dentro del bloque try\n",
    "    try:\n",
    "         \n",
    "         # Crear un objeto cursor para ejecutar consultas en la conexión establecida\n",
    "        cursor = connection.cursor()\n",
    "\n",
    "\n",
    "        # Ejecutar la consulta SQL especificada utilizando el cursor creado anteriormente\n",
    "        cursor.execute(sql_query)\n",
    "\n",
    "\n",
    "        # Confirmar la ejecución de la transacción en la base de datos\n",
    "        connection.commit()\n",
    "\n",
    "\n",
    "        # Cerrar el cursor para liberar los recursos asociados\n",
    "        cursor.close()\n",
    "\n",
    "\n",
    "        # Imprimir un mensaje indicando que el comando SQL se ejecutó correctamente\n",
    "        print(\"Comando SQL ejecutado exitosamente\")\n",
    "\n",
    "    # Capturar cualquier error de tipo mysql.connector.Error y asignarlo a la variable 'error'\n",
    "    except mysql.connector.Error as error:\n",
    "\n",
    "        # Imprimir un mensaje de error junto con la descripción del error que ocurrió durante la ejecución del comando SQL\n",
    "        print(\"Error al ejecutar el comando SQL:\", error)\n",
    "\n",
    "\n",
    "\n",
    "# Llamar a la función conectar_base_datos() para establecer una conexión a la base de datos y asignar el resultado a la variable 'connection'\n",
    "connection = conectar_base_datos()\n",
    "\n",
    "# Verificar si la conexión a la base de datos fue exitosa (si la variable 'connection' no es None ni False)\n",
    "if connection:\n",
    "\n",
    "    # Definir una función llamada ejecutar_comando_sql que toma una consulta SQL como argumento\n",
    "    def ejecutar_comando_sql(sql_query):\n",
    "        # Llamar a la función 'ejecutar_sql' pasando la conexión a la base de datos y la consulta SQL como argumentos\n",
    "        ejecutar_sql(connection, sql_query)\n",
    "    # Imprimir un mensaje indicando que se pueden ejecutar comandos SQL en bloques adicionales\n",
    "    print(\"Puedes ejecutar comandos SQL en bloques adicionales.\")\n",
    "\n",
    "\n",
    "# Si la conexión a la base de datos no fue exitosa (else), ejecutar este bloque de código\n",
    "else:\n",
    "    # Imprimir un mensaje indicando que no se pudo establecer la conexión con la base de datos\n",
    "    print(\"No se pudo establecer la conexión con la base de datos.\")\n",
    "\n",
    "\n"
   ]
  },
  {
   "cell_type": "code",
   "execution_count": 7,
   "metadata": {},
   "outputs": [
    {
     "name": "stdout",
     "output_type": "stream",
     "text": [
      "Comando SQL ejecutado exitosamente\n"
     ]
    }
   ],
   "source": [
    "# Ejecutar comandos SQL\n",
    "sql_query = \"\"\"\n",
    "    CREATE TABLE nombres (\n",
    "        ID INT PRIMARY KEY,\n",
    "        Nombre VARCHAR(50),\n",
    "        Edad INT\n",
    "    )\n",
    "\"\"\"\n",
    "ejecutar_comando_sql(sql_query)\n",
    "\n",
    "# Puedes seguir ejecutando más comandos SQL aquí si lo deseas\n",
    "\n"
   ]
  },
  {
   "cell_type": "code",
   "execution_count": 8,
   "metadata": {},
   "outputs": [],
   "source": [
    "connection.close()"
   ]
  }
 ],
 "metadata": {
  "kernelspec": {
   "display_name": "Python 3 (ipykernel)",
   "language": "python",
   "name": "python3"
  },
  "language_info": {
   "codemirror_mode": {
    "name": "ipython",
    "version": 3
   },
   "file_extension": ".py",
   "mimetype": "text/x-python",
   "name": "python",
   "nbconvert_exporter": "python",
   "pygments_lexer": "ipython3",
   "version": "3.11.7"
  }
 },
 "nbformat": 4,
 "nbformat_minor": 4
}
