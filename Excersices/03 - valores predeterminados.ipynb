{
 "cells": [
  {
   "cell_type": "markdown",
   "metadata": {},
   "source": [
    "**Author:**       Jensy Gregorio Gómez \n",
    "---------------------------------------\n",
    "**Profession:**  IT Support Analyst and Automatation with Python\n",
    "\n",
    "**Date:**         23 April 2024     \n",
    "\n",
    "**Location:**     Vila Izabel, Curitiba/PR  \n",
    "\n",
    "\n",
    "---\n",
    "\n",
    "**Contacto:**\n",
    "\n",
    "- **Email:** [contact@jensygomez.us](mailto:contact@jensygomez.us)\n",
    "- **YouTube:** [Tu Canal de YouTube](https://www.youtube.com/@systechcwb826)\n",
    "- **LinkedIn:** [Tu Perfil de LinkedIn](https://www.linkedin.com/in/jensygomez/)\n",
    "\n",
    "\n"
   ]
  },
  {
   "cell_type": "markdown",
   "metadata": {},
   "source": [
    "**Título:** \n",
    "# Implementación de valores predeterminados en una base de datos utilizando SQL.\n",
    "\n",
    "**Escenario:** Carl Merkel, propietario de \"CM Mobiles\", una tienda de dispositivos móviles en Harrow, Londres, está buscando optimizar el proceso de almacenamiento de direcciones de clientes en su base de datos. Desea establecer valores predeterminados para ciertos campos, simplificando así la entrada de datos y garantizando consistencia en la información almacenada.\n",
    "\n",
    "**Paso a paso:**\n",
    "\n",
    "1. **Definir el objetivo:** El objetivo es aprender a trabajar con valores predeterminados en una base de datos mediante el uso del constraint DEFAULT en SQL.\n",
    "\n",
    "2. **Crear la tabla `Address`:** Utilizaremos SQL para crear una tabla llamada `Address` que almacenará información sobre las direcciones de los clientes.\n",
    "\n",
    "3. **Estructurar la tabla:** Usaremos la declaración `CREATE TABLE` para definir la estructura de la tabla. Los campos serán: `id` (identificador del cliente), `street` (calle), `postcode` (código postal) y `town` (ciudad).\n",
    "\n",
    "4. **Asignar tipos de datos:** Cada campo debe ser asignado un tipo de datos adecuado. Por ejemplo, `id` será de tipo `int`, `street` y `town` serán de tipo `VARCHAR`, y `postcode` será `VARCHAR(10)` para acomodar códigos postales de longitud variable.\n",
    "\n",
    "5. **Establecer valores predeterminados:** Utilizaremos la palabra clave `DEFAULT` para asignar valores predeterminados a ciertos campos. En este caso, estableceremos \"Harrow\" como valor predeterminado para la ciudad (`town`) y \"HA97DE\" como valor predeterminado para el código postal (`postcode`), considerando las observaciones de Carl sobre la ubicación predominante de sus clientes.\n",
    "\n",
    "6. **Crear la tabla:** Ejecutaremos la sentencia SQL para crear la tabla `Address` con la estructura y los valores predeterminados especificados.\n",
    "\n",
    "7. **Verificar la creación de la tabla:** Después de crear la tabla, podemos verificar su estructura utilizando la sentencia SQL `DESCRIBE` o consultando el esquema de la base de datos.\n",
    "\n",
    "8. **(Optional) Eliminar la tabla (si es necesario):** Si necesitamos hacer ajustes o queremos recrear la tabla, podemos eliminarla utilizando la sentencia SQL `DROP TABLE Address`.\n",
    "\n",
    "Este ejercicio nos permitirá entender cómo utilizar valores predeterminados en una base de datos SQL para mejorar la eficiencia y la consistencia de la gestión de datos.\n"
   ]
  },
  {
   "cell_type": "markdown",
   "metadata": {},
   "source": [
    "Después de crear la tabla `Address` con los valores predeterminados establecidos, podemos verificar su estructura utilizando la sentencia SQL `DESCRIBE` o consultando el esquema de la base de datos. Aquí está cómo se vería la estructura de la tabla `Address`:\n",
    "\n",
    "```markdown\n",
    "| Field    | Type         | Null | Key | Default | Extra |\n",
    "|----------|--------------|------|-----|---------|-------|\n",
    "| id       | int          | NO   |     | NULL    |       |\n",
    "| street   | varchar(255) | YES  |     | NULL    |       |\n",
    "| postcode | varchar(10)  | YES  |     | 'HA97DE' |       |\n",
    "| town     | varchar(30)  | YES  |     | 'Harrow' |       |\n",
    "```\n",
    "\n",
    "En esta tabla, observamos los siguientes campos:\n",
    "\n",
    "- `id`: Tipo `int`, no nulo.\n",
    "- `street`: Tipo `varchar(255)`, puede ser nulo.\n",
    "- `postcode`: Tipo `varchar(10)`, puede ser nulo, con un valor predeterminado de 'HA97DE'.\n",
    "- `town`: Tipo `varchar(30)`, puede ser nulo, con un valor predeterminado de 'Harrow'.\n",
    "\n",
    "Esta representación muestra la estructura de la tabla `Address` con los tipos de datos asignados y los valores predeterminados establecidos para los campos `postcode` y `town`."
   ]
  },
  {
   "cell_type": "markdown",
   "metadata": {},
   "source": [
    "| Table   | Create Table                                                                                                   |\n",
    "|---------|---------------------------------------------------------------------------------------------------------------|\n",
    "| Address | CREATE TABLE `Address` (\n",
    "  `id` int(11) NOT NULL,\n",
    "  `street` varchar(255) DEFAULT NULL,\n",
    "  `postcode` varchar(10) DEFAULT 'HA97DE',\n",
    "  `town` varchar(30) DEFAULT 'Harrow'\n",
    ") ENGINE=InnoDB DEFAULT CHARSET=utf8mb4 COLLATE=utf8mb4_0900_ai_ci |\n"
   ]
  },
  {
   "cell_type": "code",
   "execution_count": null,
   "metadata": {
    "vscode": {
     "languageId": "sql"
    }
   },
   "outputs": [],
   "source": [
    "-- Digite o Coomando SQL\n",
    "\n"
   ]
  },
  {
   "cell_type": "code",
   "execution_count": null,
   "metadata": {},
   "outputs": [],
   "source": [
    "import mysql.connector\n",
    "\n",
    "# Conectar a la base de datos\n",
    "conexion = mysql.connector.connect(\n",
    "    host=\"localhost\",\n",
    "    user=\"root\",\n",
    "    password=\"\",  # No se necesita contraseña en tu caso\n",
    "    database=\"cm_devices\",  # Reemplaza \"nombre_de_tu_base_de_datos\" con el nombre de tu base de datos\n",
    "    port=\"3306\"  # Puerto por defecto de MySQL\n",
    ")\n",
    "\n",
    "if conexion.is_connected():\n",
    "    print(\"Conexión establecida correctamente\")\n",
    "else:\n",
    "    print(\"No se pudo establecer conexión\")\n",
    "\n",
    "\n",
    "# Definir la consulta SQL para crear la tabla\n",
    "comandoSQL = \"\"\"\n",
    "\n",
    "\n",
    "\n",
    "\n",
    "\"\"\"\n",
    "\n",
    "print(\"Comando SQL almacenado en la variable comandoSQL\")\n",
    "\n",
    "\n",
    "# Ejecutar la consulta SQL para crear la tabla\n",
    "\n",
    "# Crear un cursor\n",
    "cursor = conexion.cursor()\n",
    "\n",
    "# Ejecutar la consulta para crear la tabla\n",
    "cursor.execute(comandoSQL)\n",
    "\n",
    "# Confirmar los cambios en la base de datos\n",
    "conexion.commit()\n",
    "\n",
    "\n",
    "# Cerrar la conexión a la base de datos al final del código\n",
    "conexion.close()\n",
    "print(\"Conexión cerrada\")"
   ]
  }
 ],
 "metadata": {
  "kernelspec": {
   "display_name": "Python 3 (ipykernel)",
   "language": "python",
   "name": "python3"
  },
  "language_info": {
   "codemirror_mode": {
    "name": "ipython",
    "version": 3
   },
   "file_extension": ".py",
   "mimetype": "text/x-python",
   "name": "python",
   "nbconvert_exporter": "python",
   "pygments_lexer": "ipython3",
   "version": "3.11.7"
  }
 },
 "nbformat": 4,
 "nbformat_minor": 2
}
