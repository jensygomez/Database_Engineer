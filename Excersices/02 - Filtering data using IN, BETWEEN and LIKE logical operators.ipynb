{
 "cells": [
  {
   "cell_type": "markdown",
   "metadata": {},
   "source": [
    "**Author:**       Jensy Gregorio Gómez \n",
    "---------------------------------------\n",
    "**Profession:**  IT Support Analyst | NOC | Database Administrator\n",
    "\n",
    "**Date:**         20 Junio 2024    \n",
    "\n",
    "**Modified**  22 Junio 2024\n",
    "\n",
    "**Location:**     Vila Izabel, Curitiba/PR  \n",
    "\n",
    "\n",
    "---\n",
    "\n",
    "**Contacto:**\n",
    "\n",
    "- **Email:** [contact@jensygomez.us](mailto:contact@jensygomez.us)\n",
    "- **YouTube:** [Tu Canal de YouTube](https://www.youtube.com/@systechcwb826)\n",
    "- **LinkedIn:** [Tu Perfil de LinkedIn](https://www.linkedin.com/in/jensygomez/)\n",
    "\n",
    "\n"
   ]
  },
  {
   "cell_type": "markdown",
   "metadata": {},
   "source": [
    "### Ejercicio:\n",
    "\n",
    "1. **Consulta con `IN` y alias:**"
   ]
  },
  {
   "cell_type": "code",
   "execution_count": null,
   "metadata": {
    "vscode": {
     "languageId": "sql"
    }
   },
   "outputs": [],
   "source": [
    "USE LigaEspanola;\n",
    "\n",
    "   -- Encuentra todos los jugadores que juegan como Defensa o Centrocampista\n",
    "   SELECT j.nombre AS Nombre_Jugador,\n",
    "          p.nombre AS Posicion,\n",
    "          e.nombre AS Equipo\n",
    "   FROM Jugadores j\n",
    "   JOIN Posiciones p ON j.posicion_id = p.id\n",
    "   JOIN Equipos e ON j.equipo_id = e.id\n",
    "   WHERE p.nombre IN ('Defensa', 'Centrocampista');"
   ]
  },
  {
   "cell_type": "markdown",
   "metadata": {},
   "source": [
    "2. **Consulta con `BETWEEN` y alias:**"
   ]
  },
  {
   "cell_type": "code",
   "execution_count": null,
   "metadata": {
    "vscode": {
     "languageId": "sql"
    }
   },
   "outputs": [],
   "source": [
    "   -- Encuentra todos los jugadores nacidos entre 1980 y 1990\n",
    "   SELECT nombre AS Nombre_Jugador,\n",
    "          fecha_nacimiento AS Fecha_Nacimiento,\n",
    "          nacionalidad AS Nacionalidad\n",
    "   FROM Jugadores\n",
    "   WHERE fecha_nacimiento BETWEEN '1980-01-01' AND '1990-12-31';"
   ]
  },
  {
   "cell_type": "markdown",
   "metadata": {},
   "source": [
    "3. **Consulta con `LIKE` y alias:**"
   ]
  },
  {
   "cell_type": "code",
   "execution_count": null,
   "metadata": {
    "vscode": {
     "languageId": "sql"
    }
   },
   "outputs": [],
   "source": [
    "   -- Encuentra todos los jugadores cuyo nombre empieza con 'L'\n",
    "   SELECT nombre AS Nombre_Jugador,\n",
    "          fecha_nacimiento AS Fecha_Nacimiento,\n",
    "          nacionalidad AS Nacionalidad\n",
    "   FROM Jugadores\n",
    "   WHERE nombre LIKE 'L%';"
   ]
  },
  {
   "cell_type": "markdown",
   "metadata": {},
   "source": [
    "### Explicación:\n",
    "\n",
    "- **Consulta 1 (`IN`):** Selecciona los nombres de los jugadores, su posición y el equipo al que pertenecen, filtrando solo aquellos que juegan como \"Defensa\" o \"Centrocampista\".\n",
    "  \n",
    "- **Consulta 2 (`BETWEEN`):** Selecciona los nombres de los jugadores, su fecha de nacimiento y su nacionalidad, filtrando aquellos nacidos entre el 1 de enero de 1980 y el 31 de diciembre de 1990.\n",
    "\n",
    "- **Consulta 3 (`LIKE`):** Selecciona los nombres de los jugadores, su fecha de nacimiento y su nacionalidad, filtrando aquellos cuyo nombre comienza con la letra 'L'.\n",
    "\n",
    "### Notas adicionales:\n",
    "\n",
    "- **Alias:** Los alias (`j`, `p`, `e`) se utilizan para abreviar los nombres de las tablas en las consultas y hacer el código más legible y conciso.\n",
    "- **Formato legible:** Cada consulta está estructurada en varias líneas para facilitar la comprensión y seguimiento de las cláusulas `SELECT`, `FROM`, `WHERE`, etc."
   ]
  }
 ],
 "metadata": {
  "kernelspec": {
   "display_name": "Python 3 (ipykernel)",
   "language": "python",
   "name": "python3"
  },
  "language_info": {
   "codemirror_mode": {
    "name": "ipython",
    "version": 3
   },
   "file_extension": ".py",
   "mimetype": "text/x-python",
   "name": "python",
   "nbconvert_exporter": "python",
   "pygments_lexer": "ipython3",
   "version": "3.10.12"
  }
 },
 "nbformat": 4,
 "nbformat_minor": 2
}
