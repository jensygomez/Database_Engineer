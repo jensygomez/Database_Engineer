{
 "cells": [
  {
   "cell_type": "markdown",
   "metadata": {},
   "source": [
    "**Author:**       Jensy Gregorio Gómez \n",
    "---------------------------------------\n",
    "**Profession:**  IT Support Analyst and Automatation with Python\n",
    "\n",
    "**Date:**         01 Jun 2024     \n",
    "\n",
    "**Modified** \n",
    "\n",
    "**Location:**     Vila Izabel, Curitiba/PR  \n",
    "\n",
    "\n",
    "---\n",
    "\n",
    "**Contacto:**\n",
    "\n",
    "- **Email:** [contact@jensygomez.us](mailto:contact@jensygomez.us)\n",
    "- **YouTube:** [Tu Canal de YouTube](https://www.youtube.com/@systechcwb826)\n",
    "- **LinkedIn:** [Tu Perfil de LinkedIn](https://www.linkedin.com/in/jensygomez/)\n",
    "\n",
    "\n"
   ]
  },
  {
   "cell_type": "markdown",
   "metadata": {},
   "source": [
    "\n",
    "### Título: \n",
    "\n",
    "# Gestión de Contactos de Empleados en Lucky Shrub Gardening Center\n",
    "\n",
    "### Escenario:\n",
    "\n",
    "Eres el encargado de la gestión de la base de datos de empleados en Lucky Shrub Gardening Center. Recientemente, la empresa ha contratado nuevos empleados y algunos han dejado la compañía. Tu tarea es asegurarte de que la información de contacto de los empleados esté siempre actualizada en la base de datos. Para ello, usarás el comando `REPLACE` en MySQL para insertar nuevos registros y reemplazar los registros existentes cuando sea necesario."
   ]
  },
  {
   "cell_type": "code",
   "execution_count": null,
   "metadata": {
    "vscode": {
     "languageId": "sql"
    }
   },
   "outputs": [],
   "source": [
    "-- Crear la base de datos\n",
    "CREATE DATABASE LuckyShrubGardening;\n",
    "\n",
    "-- Usar la base de datos\n",
    "USE LuckyShrubGardening;\n",
    "\n",
    "-- Crear la tabla\n",
    "CREATE TABLE employee_contact_info (\n",
    "    employee_id INT PRIMARY KEY,\n",
    "    contact_number VARCHAR(15),\n",
    "    email_address VARCHAR(50)\n",
    ");\n",
    "\n",
    "\n",
    "-- Insertar registros en la tabla\n",
    "INSERT INTO employee_contact_info (employee_id, contact_number, email_address) VALUES\n",
    "(1, '11 91234-5678', 'joao.silva@accenture.com'),    -- São Paulo\n",
    "(2, '21 91234-5678', 'maria.oliveira@accenture.com'), -- Rio de Janeiro\n",
    "(3, '31 91234-5678', 'carlos.souza@accenture.com'),   -- Belo Horizonte\n",
    "(4, '41 91234-5678', 'ana.lima@accenture.com'),       -- Curitiba\n",
    "(5, '51 91234-5678', 'antonio.pereira@accenture.com'),-- Porto Alegre\n",
    "(6, '61 91234-5678', 'paula.costa@accenture.com'),    -- Brasília\n",
    "(7, '71 91234-5678', 'roberto.ferreira@accenture.com'),-- Salvador\n",
    "(8, '81 91234-5678', 'lucia.ribeiro@accenture.com'),  -- Recife\n",
    "(9, '91 91234-5678', 'fernando.alves@accenture.com'), -- Belém\n",
    "(10, '95 91234-5678', 'camila.mendes@accenture.com'), -- Manaus\n",
    "(11, '62 91234-5678', 'marcos.gomes@accenture.com'),  -- Goiânia\n",
    "(12, '85 91234-5678', 'patricia.rodrigues@accenture.com'), -- Fortaleza\n",
    "(13, '98 91234-5678', 'andre.martins@accenture.com'), -- São Luís\n",
    "(14, '48 91234-5678', 'juliana.santos@accenture.com'), -- Florianópolis\n",
    "(15, '63 91234-5678', 'rafael.silveira@accenture.com'),-- Palmas\n",
    "(16, '67 91234-5678', 'aline.moraes@accenture.com'),  -- Campo Grande\n",
    "(17, '84 91234-5678', 'eduardo.cardoso@accenture.com'), -- Natal\n",
    "(18, '82 91234-5678', 'renata.farias@accenture.com'), -- Maceió\n",
    "(19, '65 91234-5678', 'jorge.freitas@accenture.com'), -- Cuiabá\n",
    "(20, '69 91234-5678', 'eliana.araujo@accenture.com'); -- Porto Velho\n",
    "\n",
    "\n",
    "\n",
    "\n"
   ]
  },
  {
   "cell_type": "markdown",
   "metadata": {},
   "source": [
    "\n",
    "#### Ejercicio 1: Insertar un nuevo empleado\n",
    "\n",
    "Vamos a insertar un nuevo empleado, `John Doe`, con `employee_id` igual a `21`."
   ]
  },
  {
   "cell_type": "code",
   "execution_count": null,
   "metadata": {
    "vscode": {
     "languageId": "sql"
    }
   },
   "outputs": [],
   "source": [
    "-- Insertar nuevo empleado John Doe\n",
    "REPLACE INTO employee_contact_info (\n",
    "    employee_id, \n",
    "    contact_number, \n",
    "    email_address\n",
    ") \n",
    "VALUES (\n",
    "    21, \n",
    "    '85 91234-5678', \n",
    "    'john.doe@example.com'\n",
    ");\n"
   ]
  },
  {
   "cell_type": "markdown",
   "metadata": {},
   "source": [
    "#### Ejercicio 2: Reemplazar los detalles de un empleado existente\n",
    "\n",
    "Reemplazar los detalles del empleado con `employee_id` igual a `5` con los nuevos datos de `Jane Smith`."
   ]
  },
  {
   "cell_type": "code",
   "execution_count": null,
   "metadata": {
    "vscode": {
     "languageId": "sql"
    }
   },
   "outputs": [],
   "source": [
    "-- Reemplazar los detalles del empleado con employee_id = 5\n",
    "REPLACE INTO employee_contact_info (\n",
    "    employee_id, \n",
    "    contact_number, \n",
    "    email_address\n",
    ") VALUES (\n",
    "    5, \n",
    "    '41 99799-3164', \n",
    "    'samuel.elias@accenture.com'\n",
    ");\n",
    "\n"
   ]
  },
  {
   "cell_type": "markdown",
   "metadata": {},
   "source": [
    "\n",
    "#### Ejercicio 3: Actualizar el número de contacto de un empleado\n",
    "\n",
    "Actualizar el número de contacto del empleado con `employee_id` igual a `10`."
   ]
  },
  {
   "cell_type": "code",
   "execution_count": null,
   "metadata": {
    "vscode": {
     "languageId": "sql"
    }
   },
   "outputs": [],
   "source": [
    "-- Actualizar el número de contacto del empleado con employee_id = 10\n",
    "REPLACE INTO employee_contact_info (\n",
    "    employee_id, \n",
    "    contact_number, \n",
    "    email_address\n",
    ") \n",
    "VALUES (\n",
    "    10, \n",
    "    '123-456-7999', \n",
    "    'camila.mendes@accenture.com'\n",
    ");\n"
   ]
  }
 ],
 "metadata": {
  "kernelspec": {
   "display_name": "Python 3 (ipykernel)",
   "language": "python",
   "name": "python3"
  },
  "language_info": {
   "codemirror_mode": {
    "name": "ipython",
    "version": 3
   },
   "file_extension": ".py",
   "mimetype": "text/x-python",
   "name": "python",
   "nbconvert_exporter": "python",
   "pygments_lexer": "ipython3",
   "version": "3.11.7"
  }
 },
 "nbformat": 4,
 "nbformat_minor": 2
}
