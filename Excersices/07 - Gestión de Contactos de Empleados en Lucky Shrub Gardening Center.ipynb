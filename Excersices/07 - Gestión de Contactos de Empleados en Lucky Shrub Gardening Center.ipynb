{
 "cells": [
  {
   "cell_type": "markdown",
   "metadata": {},
   "source": [
    "**Author:**       Jensy Gregorio Gómez \n",
    "---------------------------------------\n",
    "**Profession:**  IT Support Analyst and Automatation with Python\n",
    "\n",
    "**Date:**         01 Jun 2024     \n",
    "\n",
    "**Modified** \n",
    "\n",
    "**Location:**     Vila Izabel, Curitiba/PR  \n",
    "\n",
    "\n",
    "---\n",
    "\n",
    "**Contacto:**\n",
    "\n",
    "- **Email:** [contact@jensygomez.us](mailto:contact@jensygomez.us)\n",
    "- **YouTube:** [Tu Canal de YouTube](https://www.youtube.com/@systechcwb826)\n",
    "- **LinkedIn:** [Tu Perfil de LinkedIn](https://www.linkedin.com/in/jensygomez/)\n",
    "\n",
    "\n"
   ]
  },
  {
   "cell_type": "markdown",
   "metadata": {},
   "source": [
    "\n",
    "### Título: \n",
    "\n",
    "# Gestión de Contactos de Empleados en Lucky Shrub Gardening Center\n",
    "\n",
    "### Escenario:\n",
    "\n",
    "Eres el encargado de la gestión de la base de datos de empleados en Lucky Shrub Gardening Center. Recientemente, la empresa ha contratado nuevos empleados y algunos han dejado la compañía. Tu tarea es asegurarte de que la información de contacto de los empleados esté siempre actualizada en la base de datos. Para ello, usarás el comando `REPLACE` en MySQL para insertar nuevos registros y reemplazar los registros existentes cuando sea necesario."
   ]
  },
  {
   "cell_type": "code",
   "execution_count": null,
   "metadata": {
    "vscode": {
     "languageId": "sql"
    }
   },
   "outputs": [],
   "source": [
    "-- Crear la base de datos\n",
    "CREATE DATABASE LuckyShrubGardening;\n",
    "\n",
    "-- Usar la base de datos\n",
    "USE LuckyShrubGardening;\n",
    "\n",
    "-- Crear la tabla\n",
    "CREATE TABLE employee_contact_info (\n",
    "    employee_id INT PRIMARY KEY,\n",
    "    contact_number VARCHAR(15),\n",
    "    email_address VARCHAR(50)\n",
    ");\n",
    "\n",
    "\n",
    "-- Insertar registros en la tabla\n",
    "INSERT INTO employee_contact_info (employee_id, contact_number, email_address) VALUES\n",
    "(1, '123-456-7890', 'employee1@example.com'),\n",
    "(2, '123-456-7891', 'employee2@example.com'),\n",
    "(3, '123-456-7892', 'employee3@example.com'),\n",
    "(4, '123-456-7893', 'employee4@example.com'),\n",
    "(5, '123-456-7894', 'employee5@example.com'),\n",
    "(6, '123-456-7895', 'employee6@example.com'),\n",
    "(7, '123-456-7896', 'employee7@example.com'),\n",
    "(8, '123-456-7897', 'employee8@example.com'),\n",
    "(9, '123-456-7898', 'employee9@example.com'),\n",
    "(10, '123-456-7899', 'employee10@example.com'),\n",
    "(11, '123-456-7900', 'employee11@example.com'),\n",
    "(12, '123-456-7901', 'employee12@example.com'),\n",
    "(13, '123-456-7902', 'employee13@example.com'),\n",
    "(14, '123-456-7903', 'employee14@example.com'),\n",
    "(15, '123-456-7904', 'employee15@example.com'),\n",
    "(16, '123-456-7905', 'employee16@example.com'),\n",
    "(17, '123-456-7906', 'employee17@example.com'),\n",
    "(18, '123-456-7907', 'employee18@example.com'),\n",
    "(19, '123-456-7908', 'employee19@example.com'),\n",
    "(20, '123-456-7909', 'employee20@example.com');\n",
    "\n",
    "\n",
    "\n"
   ]
  },
  {
   "cell_type": "markdown",
   "metadata": {},
   "source": [
    "\n",
    "#### Ejercicio 1: Insertar un nuevo empleado\n",
    "\n",
    "Vamos a insertar un nuevo empleado, `John Doe`, con `employee_id` igual a `21`."
   ]
  },
  {
   "cell_type": "code",
   "execution_count": null,
   "metadata": {
    "vscode": {
     "languageId": "sql"
    }
   },
   "outputs": [],
   "source": [
    "-- Insertar nuevo empleado John Doe\n",
    "REPLACE INTO employee_contact_info (employee_id, contact_number, email_address) VALUES\n",
    "(21, '123-456-7910', 'john.doe@example.com');\n"
   ]
  },
  {
   "cell_type": "markdown",
   "metadata": {},
   "source": [
    "#### Ejercicio 2: Reemplazar los detalles de un empleado existente\n",
    "\n",
    "Reemplazar los detalles del empleado con `employee_id` igual a `5` con los nuevos datos de `Jane Smith`."
   ]
  },
  {
   "cell_type": "code",
   "execution_count": null,
   "metadata": {
    "vscode": {
     "languageId": "sql"
    }
   },
   "outputs": [],
   "source": [
    "-- Reemplazar los detalles del empleado con employee_id = 5\n",
    "REPLACE INTO employee_contact_info (employee_id, contact_number, email_address) VALUES\n",
    "(5, '123-456-7950', 'jane.smith@example.com');\n"
   ]
  },
  {
   "cell_type": "markdown",
   "metadata": {},
   "source": [
    "\n",
    "#### Ejercicio 3: Actualizar el número de contacto de un empleado\n",
    "\n",
    "Actualizar el número de contacto del empleado con `employee_id` igual a `10`."
   ]
  },
  {
   "cell_type": "code",
   "execution_count": null,
   "metadata": {
    "vscode": {
     "languageId": "sql"
    }
   },
   "outputs": [],
   "source": [
    "-- Actualizar el número de contacto del empleado con employee_id = 10\n",
    "REPLACE INTO employee_contact_info (employee_id, contact_number, email_address) VALUES\n",
    "(10, '123-456-7999', 'employee10@example.com');\n"
   ]
  }
 ],
 "metadata": {
  "kernelspec": {
   "display_name": "Python 3 (ipykernel)",
   "language": "python",
   "name": "python3"
  },
  "language_info": {
   "codemirror_mode": {
    "name": "ipython",
    "version": 3
   },
   "file_extension": ".py",
   "mimetype": "text/x-python",
   "name": "python",
   "nbconvert_exporter": "python",
   "pygments_lexer": "ipython3",
   "version": "3.11.7"
  }
 },
 "nbformat": 4,
 "nbformat_minor": 2
}
