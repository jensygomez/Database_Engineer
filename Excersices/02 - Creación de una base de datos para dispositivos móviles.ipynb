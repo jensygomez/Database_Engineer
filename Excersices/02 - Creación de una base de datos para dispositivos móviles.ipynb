{
 "cells": [
  {
   "cell_type": "markdown",
   "metadata": {},
   "source": [
    "**Author:**       Jensy Gregorio Gómez \n",
    "---------------------------------------\n",
    "**Profession:**  IT Support Analyst and Automatation with Python\n",
    "\n",
    "**Date:**         19 April 2024     \n",
    "\n",
    "**Resolved** \n",
    "\n",
    "**Location:**     Vila Izabel, Curitiba/PR  \n",
    "\n",
    "\n",
    "---\n",
    "\n",
    "**Contacto:**\n",
    "\n",
    "- **Email:** [contact@jensygomez.us](mailto:contact@jensygomez.us)\n",
    "- **YouTube:** [Tu Canal de YouTube](https://www.youtube.com/@systechcwb826)\n",
    "- **LinkedIn:** [Tu Perfil de LinkedIn](https://www.linkedin.com/in/jensygomez/)\n",
    "\n",
    "\n"
   ]
  },
  {
   "cell_type": "markdown",
   "metadata": {},
   "source": [
    "\n",
    "**Título:** \n",
    "# Creación de una base de datos para dispositivos móviles\n",
    "\n",
    "**Enunciado:**  \n",
    "El Sr. Carl Merkel, propietario de CM Mobiles, desea crear una base de datos para almacenar información clave sobre los dispositivos móviles que vende su empresa. Esta información incluye el número de identificación del dispositivo, el nombre del dispositivo y el precio del dispositivo. Tu tarea es guiar a Carl en la creación de esta base de datos utilizando SQL, asegurándote de definir los tipos de datos numéricos adecuados para los precios de los dispositivos.\n"
   ]
  },
  {
   "cell_type": "code",
   "execution_count": null,
   "metadata": {},
   "outputs": [],
   "source": [
    "import mysql.connector\n",
    "\n",
    "def conectar_base_datos():\n",
    "    try:\n",
    "        connection = mysql.connector.connect(\n",
    "            host=\"localhost\",\n",
    "            user=\"root\",\n",
    "            password=\"\",\n",
    "            database=\"Course_db\"\n",
    "        )\n",
    "        print(\"Conexión exitosa\")\n",
    "        return connection\n",
    "    except mysql.connector.Error as error:\n",
    "        print(\"Error al conectar a la base de datos:\", error)\n",
    "        return None\n",
    "\n",
    "def ejecutar_sql(connection, sql_query):\n",
    "    try:\n",
    "        cursor = connection.cursor()\n",
    "        cursor.execute(sql_query)\n",
    "        connection.commit()\n",
    "        cursor.close()\n",
    "        print(\"Comando SQL ejecutado exitosamente\")\n",
    "    except mysql.connector.Error as error:\n",
    "        print(\"Error al ejecutar el comando SQL:\", error)\n",
    "\n",
    "connection = conectar_base_datos()\n",
    "\n",
    "if connection:\n",
    "    def ejecutar_comando_sql(sql_query):\n",
    "        ejecutar_sql(connection, sql_query)\n",
    "    print(\"Puedes ejecutar comandos SQL en bloques adicionales.\")\n",
    "else:\n",
    "    print(\"No se pudo establecer la conexión con la base de datos.\")\n"
   ]
  },
  {
   "cell_type": "markdown",
   "metadata": {},
   "source": [
    "1.  **Crear la base de datos:**\n",
    "    \n",
    "- Usaremos la basse de Datos `Course_db`, ya creada originalmente : `USE Course_db;`"
   ]
  },
  {
   "cell_type": "code",
   "execution_count": null,
   "metadata": {},
   "outputs": [],
   "source": [
    "# Ejecutar comandos SQL\n",
    "sql_query = \"\"\"\n",
    "    \n",
    "        \n",
    "\"\"\"\n",
    "ejecutar_comando_sql(sql_query)"
   ]
  },
  {
   "cell_type": "markdown",
   "metadata": {},
   "source": [
    "\n",
    "2. **Definir la estructura de la tabla:**\n",
    "\n",
    "-   Identifica un nombre adecuado para la tabla. En este caso, llamémosla `devices`.\n",
    "-   Para cada columna de la tabla, asigna un nombre y un tipo de dato:\n",
    "    -   El número de identificación del dispositivo (`Device ID`) se almacenará como un número entero (`INT`).\n",
    "    -   El nombre del dispositivo (`Device name`) será una cadena alfanumérica con un límite de 50 caracteres (`VARCHAR(50)`).\n",
    "    -   El precio del dispositivo (`Price`) se almacenará como un número decimal (`DECIMAL`).\n",
    "-   Utiliza el siguiente comando SQL para crear la tabla con las columnas definidas"
   ]
  },
  {
   "cell_type": "code",
   "execution_count": null,
   "metadata": {},
   "outputs": [],
   "source": [
    "# Ejecutar comandos SQL\n",
    "sql_query = \"\"\"\n",
    "\n",
    "\n",
    "\n",
    "\n",
    "\n",
    "\"\"\"\n",
    "ejecutar_comando_sql(sql_query)"
   ]
  },
  {
   "cell_type": "markdown",
   "metadata": {},
   "source": [
    "\n",
    "**Verificar la creación de la tabla:**\n",
    "\n",
    "-   Después de ejecutar el comando, verifica que la tabla se haya creado correctamente utilizando: `SHOW TABLES;`"
   ]
  },
  {
   "cell_type": "code",
   "execution_count": null,
   "metadata": {},
   "outputs": [],
   "source": [
    "# Ejecutar comandos SQL\n",
    "sql_query = \"\"\"\n",
    "\n",
    "\n",
    "\n",
    "\"\"\"\n",
    "ejecutar_comando_sql(sql_query)\n",
    "\n",
    "\n"
   ]
  },
  {
   "cell_type": "markdown",
   "metadata": {},
   "source": [
    "Para examinar la estructura de la tabla `devices`, usa el siguiente comando: `SHOW COLUMNS FROM devices;`"
   ]
  },
  {
   "cell_type": "code",
   "execution_count": null,
   "metadata": {},
   "outputs": [],
   "source": [
    "# Ejecutar comandos SQL\n",
    "sql_query = \"\"\"\n",
    "\n",
    "\n",
    "\n",
    "\"\"\"\n",
    "ejecutar_comando_sql(sql_query)\n"
   ]
  },
  {
   "cell_type": "markdown",
   "metadata": {},
   "source": [
    "\n",
    "\n",
    "**Paso 4: Eliminar la tabla si es necesario:**\n",
    "\n",
    "Si necesitas eliminar la tabla `devices` por alguna razón, puedes seguir estos pasos:\n",
    "\n",
    "1.  **Utiliza el comando:** `DROP TABLE devices;`\n"
   ]
  },
  {
   "cell_type": "code",
   "execution_count": null,
   "metadata": {},
   "outputs": [],
   "source": [
    "# Ejecutar comandos SQL\n",
    "sql_query = \"\"\"\n",
    "\n",
    "\n",
    "\n",
    "\"\"\"\n",
    "ejecutar_comando_sql(sql_query)\n"
   ]
  },
  {
   "cell_type": "markdown",
   "metadata": {},
   "source": [
    "Cerramos la Base de Datos"
   ]
  },
  {
   "cell_type": "code",
   "execution_count": 3,
   "metadata": {},
   "outputs": [],
   "source": [
    "connection.close()"
   ]
  }
 ],
 "metadata": {
  "kernelspec": {
   "display_name": "Python 3 (ipykernel)",
   "language": "python",
   "name": "python3"
  },
  "language_info": {
   "codemirror_mode": {
    "name": "ipython",
    "version": 3
   },
   "file_extension": ".py",
   "mimetype": "text/x-python",
   "name": "python",
   "nbconvert_exporter": "python",
   "pygments_lexer": "ipython3",
   "version": "3.11.7"
  }
 },
 "nbformat": 4,
 "nbformat_minor": 4
}
