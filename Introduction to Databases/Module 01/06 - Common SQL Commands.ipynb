{
 "cells": [
  {
   "cell_type": "markdown",
   "metadata": {},
   "source": [
    "**Author:**       Jensy Gregorio Gómez \n",
    "---------------------------------------\n",
    "**Profession:**  IT Support Analyst and Automatation with Python\n",
    "\n",
    "**Date:**         05 April 2024     \n",
    "\n",
    "**Location:**     Vila Izabel, Curitiba/PR  \n",
    "\n",
    "\n",
    "---\n",
    "\n",
    "**Contacto:**\n",
    "\n",
    "- **Email:** [contact@jensygomez.us](mailto:contact@jensygomez.us)\n",
    "- **YouTube:** [Tu Canal de YouTube](https://www.youtube.com/@systechcwb826)\n",
    "- **LinkedIn:** [Tu Perfil de LinkedIn](https://www.linkedin.com/in/jensygomez/)\n",
    "\n",
    "\n"
   ]
  },
  {
   "cell_type": "markdown",
   "metadata": {},
   "source": [
    "\n",
    "# Common SQL Commands\n",
    "\n",
    "The objective of this reading is to teach you how to name and explain the main commands in SQL. SQL is the most widely used database query language. It is designed for retrieving and managing data in a relational database. SQL can be used to perform different types of operations in the database such as accessing data, describing data, manipulating data and setting users roles and privileges (permissions).\n",
    "\n",
    "Here you will learn about the main commands used in SQL. At a later stage you will explore relevant examples of how to use these commands with a detailed explanation of the SQL syntax for key operations such as to create, insert, update and delete data in the database.\n",
    "\n",
    "The SQL Commands are grouped into four categories known as DDL, DML, DCL and TCL depending on their functionality, namely the type of operation they’re used to perform. Let’s explore these commands in greater detail.\n",
    "\n",
    "## **Data Definition Language (DDL)**\n",
    "\n",
    "The SQL DDL category provides commands for defining, deleting and modifying tables in a database. Use the following commands in this category.\n",
    "\n",
    "**CREATE Command**\n",
    "\n",
    "Purpose: To create the database or tables inside the database\n",
    "\n",
    "Syntax to create a table with three columns:"
   ]
  },
  {
   "cell_type": "code",
   "execution_count": null,
   "metadata": {
    "vscode": {
     "languageId": "sql"
    }
   },
   "outputs": [],
   "source": [
    "-- Este comando crea una nueva tabla llamada 'table_name'.\n",
    "-- La tabla tiene tres columnas: 'column_name1', 'column_name2' y 'column_name3'.\n",
    "-- Cada columna tiene un tipo de dato especificado por 'datatype', que podría ser VARCHAR, INT, FLOAT, etc.,\n",
    "-- y un tamaño opcional especificado por 'size'.\n",
    "-- Por ejemplo, podría ser algo como VARCHAR(50), INT, FLOAT(10,2), etc.\n",
    "-- Este comando crea la estructura básica de la tabla, pero no inserta datos en ella.\n",
    "\n",
    "CREATE TABLE table_name (column_name1 datatype(size), column_name2 datatype(size), column_name3 datatype(size));"
   ]
  },
  {
   "cell_type": "markdown",
   "metadata": {},
   "source": [
    "\n",
    "**DROP Command**\n",
    "\n",
    "Purpose: To delete a database or a table inside the database.\n",
    "\n",
    "Syntax to drop a table:"
   ]
  },
  {
   "cell_type": "code",
   "execution_count": null,
   "metadata": {
    "vscode": {
     "languageId": "sql"
    }
   },
   "outputs": [],
   "source": [
    "-- Este comando elimina la tabla llamada 'table_name' de la base de datos.\n",
    "-- Todos los datos y la estructura de la tabla se eliminan permanentemente de la base de datos.\n",
    "-- Es importante tener cuidado al usar este comando, ya que eliminará todos los datos\n",
    "-- y la estructura asociada con la tabla.\n",
    "-- Se debe tener precaución para asegurarse de que realmente se desea eliminar la tabla\n",
    "-- antes de ejecutar este comando, ya que la eliminación es irreversible.\n",
    "\n",
    "DROP TABLE table_name;"
   ]
  },
  {
   "cell_type": "markdown",
   "metadata": {},
   "source": [
    "\n",
    "**ALTER Command**\n",
    "\n",
    "Purpose: To change the structure of the tables in the database such as changing the name of a table, adding a primary key to a table, or adding or deleting a column in a table.\n",
    "\n",
    "1.  Syntax to add a column into a table:"
   ]
  },
  {
   "cell_type": "code",
   "execution_count": null,
   "metadata": {
    "vscode": {
     "languageId": "sql"
    }
   },
   "outputs": [],
   "source": [
    "-- Este comando agrega una nueva columna llamada 'column_name' a la tabla 'table_name' en la base de datos.\n",
    "-- La nueva columna tiene un tipo de dato especificado por 'datatype',\n",
    "-- que podría ser VARCHAR, INT, FLOAT, etc., y un tamaño opcional especificado por 'size'.\n",
    "-- Por ejemplo, podría ser algo como VARCHAR(50), INT, FLOAT(10,2), etc.\n",
    "-- Después de ejecutar este comando, la nueva columna estará disponible en la tabla \n",
    "-- y podrá contener datos según el tipo de datos especificado.\n",
    "-- Es importante tener en cuenta que agregar una nueva columna puede afectar a las aplicaciones \n",
    "-- que interactúan con la tabla, por lo que se debe tener cuidado al realizar cambios en la estructura\n",
    "--  de la base de datos.\n",
    "\n",
    "ALTER TABLE table_name ADD (column_name datatype(size));"
   ]
  },
  {
   "cell_type": "markdown",
   "metadata": {},
   "source": [
    "2. Syntax to add a primary key to a table:"
   ]
  },
  {
   "cell_type": "code",
   "execution_count": null,
   "metadata": {
    "vscode": {
     "languageId": "sql"
    }
   },
   "outputs": [],
   "source": [
    "-- Este comando agrega una clave primaria a la tabla 'table_name' en la base de datos.\n",
    "-- La clave primaria se crea en la columna especificada por 'column_name'.\n",
    "-- La clave primaria asegura que cada fila en la tabla tenga un valor único en la columna especificada,\n",
    "-- y también garantiza que esta columna no tenga valores nulos.\n",
    "-- Es importante tener en cuenta que una tabla puede tener solo una clave primaria\n",
    "-- y que esta acción podría fallar si hay duplicados o valores nulos en la columna seleccionada.\n",
    "-- La clave primaria es fundamental para garantizar la integridad de los datos\n",
    "-- y es comúnmente utilizada para identificar de manera única cada fila en la tabla.\n",
    "\n",
    "ALTER TABLE table_name ADD primary key (column_name);"
   ]
  },
  {
   "cell_type": "markdown",
   "metadata": {},
   "source": [
    "\n",
    "**TRUNCATE Command**\n",
    "\n",
    "Purpose: To remove all records from a table, which will empty the table but not delete the table itself.\n",
    "\n",
    "Syntax to truncate a table:"
   ]
  },
  {
   "cell_type": "code",
   "execution_count": null,
   "metadata": {
    "vscode": {
     "languageId": "sql"
    }
   },
   "outputs": [],
   "source": [
    "-- Este comando elimina todos los registros (filas) de la tabla 'table_name' en la base de datos, \n",
    "-- pero conserva la estructura de la tabla.\n",
    "-- A diferencia del comando DROP TABLE, que elimina tanto la estructura como los datos de la tabla, \n",
    "-- TRUNCATE TABLE solo elimina los datos.\n",
    "-- TRUNCATE TABLE es más rápido que DELETE FROM table_name,\n",
    "-- ya que no genera tantos registros de registro y no activa los disparadores asociados.\n",
    "-- Sin embargo, es importante tener en cuenta que\n",
    "-- TRUNCATE TABLE no se puede deshacer (no hay forma de recuperar los datos eliminados),\n",
    "-- por lo que se debe usar con precaución.\n",
    "-- Este comando es útil cuando se desea eliminar todos los datos de una tabla sin eliminar\n",
    "-- la estructura de la tabla misma.\n",
    "\n",
    "TRUNCATE TABLE table_name;"
   ]
  },
  {
   "cell_type": "markdown",
   "metadata": {},
   "source": [
    "\n",
    "**COMMENT Command**\n",
    "\n",
    "Purpose: To add comments to explain or document SQL statements by using double dash (--) at the start of the line. Any text after the double dash will not be executed as part of the SQL statement. These comments are not there to build the database. They are only for your own use.\n",
    "\n",
    "Syntax to COMMENT a line in SQL:"
   ]
  },
  {
   "cell_type": "code",
   "execution_count": null,
   "metadata": {
    "vscode": {
     "languageId": "sql"
    }
   },
   "outputs": [],
   "source": [
    "--Retrieve all data from a table\n",
    "SELECT * FROM table_name; "
   ]
  },
  {
   "cell_type": "markdown",
   "metadata": {},
   "source": [
    "\n",
    "## **Data Query Language (DQL)**\n",
    "\n",
    "The SQL DQL commands provide the ability to query and retrieve data from the database. Use the following command in this category.\n",
    "\n",
    "**SELECT Command**\n",
    "\n",
    "Purpose: To retrieve data from tables in the database.\n",
    "\n",
    "Syntax to select data from a table:"
   ]
  },
  {
   "cell_type": "code",
   "execution_count": null,
   "metadata": {
    "vscode": {
     "languageId": "sql"
    }
   },
   "outputs": [],
   "source": [
    "-- Este comando selecciona todos los registros y todas las columnas de la tabla 'table_name' en la base de datos.\n",
    "-- El asterisco (*) se utiliza como comodín para seleccionar todas las columnas en la tabla.\n",
    "-- Después de ejecutar este comando, se devolverán todos los registros de la tabla\n",
    "-- junto con sus valores en todas las columnas.\n",
    "-- Es importante tener en cuenta que este comando puede devolver una gran cantidad de datos,\n",
    "-- por lo que se debe utilizar con precaución, especialmente en tablas con muchos registros.\n",
    "\n",
    "SELECT * FROM table_name;"
   ]
  },
  {
   "cell_type": "markdown",
   "metadata": {},
   "source": [
    "\n",
    "## **Data Manipulation Language (DML)**\n",
    "\n",
    "The SQL DML commands provide the ability to query, delete and update data in the database. Use the following commands in this category.\n",
    "\n",
    "**INSERT Command**\n",
    "\n",
    "Purpose: To add records of data into an existing table. Syntax to insert data into three columns in a table:"
   ]
  },
  {
   "cell_type": "code",
   "execution_count": null,
   "metadata": {
    "vscode": {
     "languageId": "sql"
    }
   },
   "outputs": [],
   "source": [
    "-- Este comando inserta un nuevo registro en la tabla 'table_name' en la base de datos.\n",
    "-- Se especifican los nombres de las columnas (column1, column2, column3) en las que se insertarán los valores.\n",
    "-- Luego se proporcionan los valores correspondientes (value1, value2, value3) para estas columnas.\n",
    "-- Es importante asegurarse de que los valores proporcionados coincidan con los tipos de datos\n",
    "-- y restricciones definidos para las columnas en la tabla.\n",
    "-- Este comando agregará un nuevo registro a la tabla con los valores especificados en las columnas correspondientes.\n",
    "\n",
    "INSERT INTO table_name (column1, column2, column3) VALUES (value1, value2, value3);"
   ]
  },
  {
   "cell_type": "markdown",
   "metadata": {},
   "source": [
    "\n",
    "**UPDATE Command**\n",
    "\n",
    "Purpose: To modify or update data contained within a table in the database.\n",
    "\n",
    "Syntax to update data in two columns:"
   ]
  },
  {
   "cell_type": "code",
   "execution_count": null,
   "metadata": {
    "vscode": {
     "languageId": "sql"
    }
   },
   "outputs": [],
   "source": [
    "-- Este comando actualiza los valores de las columnas 'column1' y 'column2'\n",
    "-- en la tabla 'table_name' en la base de datos.\n",
    "-- Se especifica el nuevo valor 'value1' para 'column1' y el nuevo valor 'value2' para 'column2'.\n",
    "-- La condición especificada después de 'WHERE' determina qué filas se actualizarán.\n",
    "-- Solo las filas que cumplan con esta condición serán actualizadas.\n",
    "-- Es importante tener en cuenta que si no se especifica una condición,\n",
    "-- todas las filas de la tabla serán actualizadas.\n",
    "-- Es fundamental asegurarse de que la condición sea lo suficientemente específica\n",
    "--  para actualizar solo las filas deseadas y evitar la actualización accidental de datos no deseados.\n",
    "\n",
    "UPDATE table_name SET column1 = value1, column2 = value2 WHERE condition;"
   ]
  },
  {
   "cell_type": "markdown",
   "metadata": {},
   "source": [
    "\n",
    "**DELETE Command**\n",
    "\n",
    "Purpose: To delete data from a table in the database.\n",
    "\n",
    "Syntax to delete data:"
   ]
  },
  {
   "cell_type": "code",
   "execution_count": null,
   "metadata": {
    "vscode": {
     "languageId": "sql"
    }
   },
   "outputs": [],
   "source": [
    "-- Este comando elimina filas de la tabla 'table_name' en la base de datos que cumplen con la condición especificada.\n",
    "-- La condición determina qué filas serán eliminadas. Solo las filas que cumplan con esta condición serán eliminadas.\n",
    "-- Es importante tener en cuenta que si no se especifica una condición, todas las filas de la tabla serán eliminadas, lo cual debe usarse con precaución.\n",
    "-- Se debe tener cuidado al usar este comando, \n",
    "-- ya que los datos eliminados no se pueden recuperar y la operación es irreversible.\n",
    "-- Es fundamental asegurarse de que la condición sea lo suficientemente específica\n",
    "-- para eliminar solo las filas deseadas y evitar la eliminación accidental de datos importantes.\n",
    "\n",
    "DELETE FROM table_name WHERE condition;"
   ]
  },
  {
   "cell_type": "markdown",
   "metadata": {},
   "source": [
    "\n",
    "## **Data Control Language (DCL)**\n",
    "\n",
    "You use DCL to deal with the rights and permissions of users of a database system. You can execute SQL commands to perform different types of operations such as create and drop tables. To do this, you need to have user rights set up. This is called user privileges. This category deals with advanced functions or operations in the database. Note that this category can have a generic description of the two main commands. Use the following commands in this category:\n",
    "\n",
    "GRANT  Command to provide the user of the database with the privileges required to allow users to access and manipulate the database.\n",
    "\n",
    "REVOKE  Command to remove permissions from any user.\n",
    "\n",
    "## **Transaction Control Language (TCL)**\n",
    "\n",
    "The TCL commands are used to manage transactions in the database. These are used to manage the changes made to the data in a table by utilizing the DML commands. It also allows SQL statements to be grouped together into logical transactions. This category deals with advanced functions or operations in a database. Note that this category can have a generic description of the two main commands. Use the following commands in this category:\n",
    "\n",
    "COMMIT  Command to save all the work you have already done in the database.\n",
    "\n",
    "ROLLBACK  Command to restore a database to the last committed state."
   ]
  }
 ],
 "metadata": {
  "kernelspec": {
   "display_name": "Python 3 (ipykernel)",
   "language": "python",
   "name": "python3"
  },
  "language_info": {
   "codemirror_mode": {
    "name": "ipython",
    "version": 3
   },
   "file_extension": ".py",
   "mimetype": "text/x-python",
   "name": "python",
   "nbconvert_exporter": "python",
   "pygments_lexer": "ipython3",
   "version": "3.12.2"
  }
 },
 "nbformat": 4,
 "nbformat_minor": 2
}
