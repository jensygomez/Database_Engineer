{
 "cells": [
  {
   "cell_type": "markdown",
   "metadata": {},
   "source": [
    "**Author:**       Jensy Gregorio Gómez \n",
    "---------------------------------------\n",
    "**Profession:**  IT Support Analyst and Automatation with Python\n",
    "\n",
    "**Date:**         12 April 2024     \n",
    "\n",
    "**Location:**     Vila Izabel, Curitiba/PR  \n",
    "\n",
    "\n",
    "---\n",
    "\n",
    "**Contacto:**\n",
    "\n",
    "- **Email:** [contact@jensygomez.us](mailto:contact@jensygomez.us)\n",
    "- **YouTube:** [Tu Canal de YouTube](https://www.youtube.com/@systechcwb826)\n",
    "- **LinkedIn:** [Tu Perfil de LinkedIn](https://www.linkedin.com/in/jensygomez/)\n",
    "\n",
    "\n"
   ]
  },
  {
   "cell_type": "markdown",
   "metadata": {},
   "source": [
    "# Creating tables\n",
    "\n",
    "This reading covers the process of creating a table in a database. You’ve learned about creating and dropping a database using CREATE DATABASE and DROP DATABSE SQL commands. You also learned the SQL syntax of creating a table in the database using the CREATE TABLE syntax and modifying the structure of an already created table using ALTER TABLE.\n",
    "\n",
    "The main objective of this reading is to help you develop a more practical understanding of how the CREATE TABLE statement works. You'll also learn how to use its syntax correctly. Furthermore, this reading also highlights some important points to note when creating a database table.\n",
    "\n",
    "## **Important points on creating a table**\n",
    "\n",
    "You know already that in SQL, the CREATE TABLE syntax is available in the Data Definition Language (DDL) subset which is used to create a new database table.\n",
    "\n",
    "Here are some important points to remember when using the CREATE TABLE syntax. These points are also useful for creating tables in general.\n",
    "\n",
    "-   Always give a meaningful name to your table as well as the columns or fields of the table.\n",
    "    \n",
    "-   The data types of columns or fields may vary from one database system to another. For example, NUMBER is supported in Oracle database for integer values whereas INT is supported in MySQL.\n",
    "    \n",
    "-   It's good practice to refer to the list of data types supported by the database system that you are using, namely MySQL, SQL Server and Oracle.\n",
    "    \n",
    "-   Remember to specify the appropriate length for data types where applicable.\n",
    "    \n",
    "-   For example, VARCHAR is the preferred data type to use if you are storing text-based data because it saves space. VARCHAR takes up 1 byte per character, plus another 2 bytes to hold length. So, for example, if you set a VARCHAR(100) data type to a first name column and store a value of Jen in it, then it would take up 3 bytes (for J, E, and N) plus another 2 bytes, that is 5 bytes in total to store that value.\n",
    "    \n",
    "\n",
    "## **Using the CREATE TABLE statement**\n",
    "\n",
    "Let’s inspect the CREATE TABLE syntax more closely. In this example, let’s look at the syntax to create a table named customers in the sample database. The table includes the following columns/fields:\n",
    "\n",
    "-   CustomerId\n",
    "    \n",
    "-   FirstName\n",
    "    \n",
    "-   LastName\n",
    "    \n",
    "-   Company\n",
    "    \n",
    "-   Address\n",
    "    \n",
    "-   City\n",
    "    \n",
    "-   State\n",
    "    \n",
    "-   Country\n",
    "    \n",
    "-   PostalCode\n",
    "    \n",
    "-   Phone\n",
    "    \n",
    "-   Fax\n",
    "    \n",
    "-   Email\n",
    "    \n",
    "-   SupportRapid\n",
    "    \n",
    "\n",
    "The table is created using the following syntax:"
   ]
  },
  {
   "cell_type": "code",
   "execution_count": null,
   "metadata": {
    "vscode": {
     "languageId": "sql"
    }
   },
   "outputs": [],
   "source": [
    "CREATE TABLE customers\n",
    "    (CustomerId INT, \n",
    "    FirstName VARCHAR(40), \n",
    "    LastName VARCHAR(20), \n",
    "    Company VARCHAR(80), \n",
    "    Address VARCHAR(70), \n",
    "    City VARCHAR(40),\n",
    "    State VARCHAR(40), \n",
    "    Country VARCHAR(40), \n",
    "    PostalCode VARCHAR(10), \n",
    "    Phone VARCHAR(24), \n",
    "    Fax VARCHAR(24), \n",
    "    Email VARCHAR(60), \n",
    "    SupportRapid INT ); "
   ]
  },
  {
   "cell_type": "markdown",
   "metadata": {},
   "source": [
    "\n",
    "The main syntax here is the CREATE TABLE syntax.\n",
    "\n",
    "You then provide the name of the table, in this case customers.\n",
    "\n",
    "Then a pair of parentheses should follow. Within the parenthesis the column or field names are given followed by the data type of each and the size or length of data that can be stored.\n",
    "\n",
    "CustomerId  and SupportRapidfiles  are of type INT  because they store numeric values. The rest of the fields have a data type of VARCHAR  but have different lengths.\n",
    "\n",
    "The lengths are specified according to the amount of data (the number of characters) that need to be stored in these fields.\n",
    "\n",
    "At the end of the statement, remember to put the semicolon."
   ]
  }
 ],
 "metadata": {
  "kernelspec": {
   "display_name": "Python 3 (ipykernel)",
   "language": "python",
   "name": "python3"
  },
  "language_info": {
   "codemirror_mode": {
    "name": "ipython",
    "version": 3
   },
   "file_extension": ".py",
   "mimetype": "text/x-python",
   "name": "python",
   "nbconvert_exporter": "python",
   "pygments_lexer": "ipython3",
   "version": "3.12.2"
  }
 },
 "nbformat": 4,
 "nbformat_minor": 2
}
